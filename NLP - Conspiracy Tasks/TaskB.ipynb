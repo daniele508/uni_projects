{
  "cells": [
    {
      "cell_type": "markdown",
      "metadata": {
        "id": "Q0Tikqzex-2S"
      },
      "source": [
        "Installazione delle librerie aggiuntive necessarie\n",
        "\n",
        "*   `emoji`: fornisce funzionalità per lavorare con emoticon e caratteri emoji in Python\n",
        "*   `fasttext`: libreria per calcolare gli embedding di parole, utilizzata in uno dei diversi approcci del data augmentation\n",
        "* `nlpaug`: libreria per effettuare data augmentation di testo. Essa offre tecniche per generare varianti del testo originale\n",
        "*   `sentence-transformers`: framework per calcolare gli embeddings di frasi"
      ]
    },
    {
      "cell_type": "code",
      "execution_count": null,
      "metadata": {
        "colab": {
          "base_uri": "https://localhost:8080/"
        },
        "execution": {
          "iopub.execute_input": "2024-01-03T19:20:42.542761Z",
          "iopub.status.busy": "2024-01-03T19:20:42.541753Z",
          "iopub.status.idle": "2024-01-03T19:21:23.411351Z",
          "shell.execute_reply": "2024-01-03T19:21:23.410134Z",
          "shell.execute_reply.started": "2024-01-03T19:20:42.542713Z"
        },
        "id": "v3GRuW-0x9mN",
        "outputId": "9f49ed14-fa71-4dfd-ce12-28d1072eac36",
        "trusted": true
      },
      "outputs": [],
      "source": [
        "!pip install emoji\n",
        "!pip install fasttext\n",
        "!pip install nlpaug\n",
        "!pip install sentence-transformers"
      ]
    },
    {
      "cell_type": "markdown",
      "metadata": {
        "id": "FKQt5REX5hd6"
      },
      "source": [
        "Import delle librerie utili."
      ]
    },
    {
      "cell_type": "code",
      "execution_count": null,
      "metadata": {
        "_kg_hide-output": true,
        "execution": {
          "iopub.execute_input": "2024-01-03T19:21:23.413748Z",
          "iopub.status.busy": "2024-01-03T19:21:23.413440Z",
          "iopub.status.idle": "2024-01-03T19:21:58.558224Z",
          "shell.execute_reply": "2024-01-03T19:21:58.556978Z",
          "shell.execute_reply.started": "2024-01-03T19:21:23.413722Z"
        },
        "id": "6IALyjrl3mQY",
        "trusted": true
      },
      "outputs": [],
      "source": [
        "import pandas as pd\n",
        "import numpy as np\n",
        "import emoji\n",
        "import nltk\n",
        "import random\n",
        "import fasttext.util\n",
        "import gc\n",
        "import nlpaug.augmenter.word as naw\n",
        "import torch\n",
        "import seaborn as sns\n",
        "import matplotlib.pyplot as plt\n",
        "from torch import nn\n",
        "from tqdm.auto import tqdm\n",
        "from scipy.spatial.distance import cosine\n",
        "from sklearn.model_selection import train_test_split\n",
        "from torch.optim import Adam\n",
        "from nltk.corpus import wordnet as wn\n",
        "from transformers import AutoConfig, AutoModel, AutoTokenizer\n",
        "from sentence_transformers import SentenceTransformer\n",
        "from sklearn.metrics import f1_score\n",
        "from google.colab import drive"
      ]
    },
    {
      "cell_type": "code",
      "execution_count": null,
      "metadata": {
        "colab": {
          "base_uri": "https://localhost:8080/"
        },
        "id": "ZEpxpycUElz1",
        "outputId": "9c650ddb-ec1e-4b18-cb7d-ca4e4bd6da2c"
      },
      "outputs": [],
      "source": [
        "root = '/content/drive/MyDrive/Colab Notebooks/Competizione/data/taskB/'\n",
        "drive.mount('/content/drive')"
      ]
    },
    {
      "cell_type": "markdown",
      "metadata": {
        "id": "3iFpVXl4Egwq"
      },
      "source": [
        "Vengono caricati i dati di train."
      ]
    },
    {
      "cell_type": "code",
      "execution_count": null,
      "metadata": {
        "id": "WtSXEUO_Egwq"
      },
      "outputs": [],
      "source": [
        "train_B = pd.read_csv(root + \"subtaskB_train.csv\", index_col=\"Id\")\n",
        "df_train_B = train_B.copy()"
      ]
    },
    {
      "cell_type": "markdown",
      "metadata": {
        "id": "I-2i4wHuEgwq"
      },
      "source": [
        "**POSSIBILI FEATURES IN PIÙ**"
      ]
    },
    {
      "cell_type": "markdown",
      "metadata": {
        "id": "QEamEWqdOPQJ"
      },
      "source": [
        "Si definiscono i metodi che servono per valutare le eventuali features aggiuntive per ogni sentence."
      ]
    },
    {
      "cell_type": "code",
      "execution_count": null,
      "metadata": {
        "execution": {
          "iopub.execute_input": "2024-01-03T19:21:58.560473Z",
          "iopub.status.busy": "2024-01-03T19:21:58.559718Z",
          "iopub.status.idle": "2024-01-03T19:21:58.570324Z",
          "shell.execute_reply": "2024-01-03T19:21:58.569401Z",
          "shell.execute_reply.started": "2024-01-03T19:21:58.560435Z"
        },
        "id": "alXjdCO5OMLl",
        "trusted": true
      },
      "outputs": [],
      "source": [
        "def check_keyword(sentence, key):\n",
        "    sentence=sentence.split()\n",
        "    for word in sentence:\n",
        "        if word.lower() == key:\n",
        "            return 1\n",
        "    return 0\n",
        "\n",
        "def check_stem(sentence, stem):\n",
        "    sentence=sentence.split()\n",
        "    for word in sentence:\n",
        "      word=word.lower()\n",
        "      if len(word) >=len(stem) and word[:len(stem)]==stem:\n",
        "        return 1\n",
        "    return 0\n",
        "\n",
        "def check_emoji(sentence, e):\n",
        "    emoji_list = emoji.distinct_emoji_list(sentence)\n",
        "    if e in emoji_list:\n",
        "        return 1\n",
        "    return 0"
      ]
    },
    {
      "cell_type": "markdown",
      "metadata": {
        "id": "vtO3lYX5U79J"
      },
      "source": [
        "Viene definito il dizionario delle features aggiuntive."
      ]
    },
    {
      "cell_type": "code",
      "execution_count": null,
      "metadata": {
        "execution": {
          "iopub.execute_input": "2024-01-03T19:21:58.574351Z",
          "iopub.status.busy": "2024-01-03T19:21:58.573756Z",
          "iopub.status.idle": "2024-01-03T19:21:58.587982Z",
          "shell.execute_reply": "2024-01-03T19:21:58.586998Z",
          "shell.execute_reply.started": "2024-01-03T19:21:58.574318Z"
        },
        "id": "8U-8edEQVDTH",
        "trusted": true
      },
      "outputs": [],
      "source": [
        "features = {\n",
        "    \"covid\" :[],\n",
        "    \"sier\": [],\n",
        "    \"vaccin\": [],\n",
        "    \"green pass\": [],\n",
        "    \"sars\": [],\n",
        "    \"terra\": [],\n",
        "    \"piatta\": [],\n",
        "    \"russia\": [],\n",
        "    \"ucraina\": [],\n",
        "    \"putin\": [],\n",
        "    \"kiev\": [],\n",
        "    \"mosca\": [],\n",
        "    \"trump\": [],\n",
        "    \"sole\" : []\n",
        "}"
      ]
    },
    {
      "cell_type": "markdown",
      "metadata": {
        "id": "94yl-uotVK4r"
      },
      "source": [
        "Metodi per istanziare le features nel dizionario e per ottenere i valori delle features in base ad una sentence."
      ]
    },
    {
      "cell_type": "code",
      "execution_count": null,
      "metadata": {
        "execution": {
          "iopub.execute_input": "2024-01-03T19:21:58.589602Z",
          "iopub.status.busy": "2024-01-03T19:21:58.589221Z",
          "iopub.status.idle": "2024-01-03T19:21:58.599275Z",
          "shell.execute_reply": "2024-01-03T19:21:58.598308Z",
          "shell.execute_reply.started": "2024-01-03T19:21:58.589541Z"
        },
        "id": "ykHB796vU6_d",
        "trusted": true
      },
      "outputs": [],
      "source": [
        "def empty_features(features):\n",
        "    for key in features.keys():\n",
        "        features[key] = []\n",
        "\n",
        "def get_features(sentence, features):\n",
        "    features[\"covid\"].append(check_keyword(sentence, \"covid\"))\n",
        "    features[\"sier\"].append(check_stem(sentence, \"sier\"))\n",
        "    features[\"vaccin\"].append(check_stem(sentence, \"vaccin\"))\n",
        "    features[\"green pass\"].append(check_keyword(sentence, \"green pass\"))\n",
        "    features[\"sars\"].append(check_stem(sentence, \"sars\"))\n",
        "    features[\"terra\"].append(check_keyword(sentence, \"terra\"))\n",
        "    features[\"piatta\"].append(check_keyword(sentence, \"piatta\"))\n",
        "    features[\"russia\"].append(check_keyword(sentence, \"russia\"))\n",
        "    features[\"ucraina\"].append(check_keyword(sentence, \"ucraina\"))\n",
        "    features[\"putin\"].append(check_keyword(sentence, \"putin\"))\n",
        "    features[\"kiev\"].append(check_keyword(sentence, \"kiev\"))\n",
        "    features[\"mosca\"].append(check_keyword(sentence, \"mosca\"))\n",
        "    features[\"trump\"].append(check_keyword(sentence, \"trump\"))\n",
        "    features[\"sole\"].append(check_keyword(sentence, \"sole\"))\n",
        "\n",
        "    for e in list(features.keys())[14:len(features)]:\n",
        "        features[e].append(check_emoji(sentence, str(e)))"
      ]
    },
    {
      "cell_type": "markdown",
      "metadata": {
        "id": "Dg6_Oyv6XOCz"
      },
      "source": [
        "Il seguente frammento di codice genera un dataframe con le emoji più usate, quindi presenti in almeno 10 frasi distinte."
      ]
    },
    {
      "cell_type": "code",
      "execution_count": null,
      "metadata": {
        "execution": {
          "iopub.execute_input": "2024-01-03T19:21:58.600976Z",
          "iopub.status.busy": "2024-01-03T19:21:58.600609Z",
          "iopub.status.idle": "2024-01-03T19:21:59.818684Z",
          "shell.execute_reply": "2024-01-03T19:21:59.817891Z",
          "shell.execute_reply.started": "2024-01-03T19:21:58.600943Z"
        },
        "id": "vScFu9wbXKeI",
        "trusted": true
      },
      "outputs": [],
      "source": [
        "emojis={}\n",
        "for sentence in df_train_B.comment_text:\n",
        "  sentence_emojis=emoji.distinct_emoji_list(sentence)\n",
        "  for e in sentence_emojis:\n",
        "    emojis[e]=0\n",
        "\n",
        "for sentence in df_train_B.comment_text:\n",
        "  sentence_emojis=emoji.distinct_emoji_list(sentence)\n",
        "  for e in sentence_emojis:\n",
        "    emojis[e]+=1\n",
        "\n",
        "df_emoji=pd.DataFrame(emojis, index=['frequence']).T\n",
        "df_frequent=df_emoji[df_emoji['frequence']>=10].T"
      ]
    },
    {
      "cell_type": "markdown",
      "metadata": {
        "id": "4CtrAekCXjFR"
      },
      "source": [
        "Ogni emoji calcolata viene aggiunta alle features."
      ]
    },
    {
      "cell_type": "code",
      "execution_count": null,
      "metadata": {
        "execution": {
          "iopub.execute_input": "2024-01-03T19:21:59.820111Z",
          "iopub.status.busy": "2024-01-03T19:21:59.819803Z",
          "iopub.status.idle": "2024-01-03T19:21:59.824790Z",
          "shell.execute_reply": "2024-01-03T19:21:59.823733Z",
          "shell.execute_reply.started": "2024-01-03T19:21:59.820086Z"
        },
        "id": "ujdyU7LeXjaX",
        "trusted": true
      },
      "outputs": [],
      "source": [
        "for column in df_frequent.columns:\n",
        "  features[column]=[]"
      ]
    },
    {
      "cell_type": "markdown",
      "metadata": {
        "id": "F1Z_2czsEgws"
      },
      "source": [
        "**SPLIT DATI**"
      ]
    },
    {
      "cell_type": "markdown",
      "metadata": {
        "id": "rv_J95VgEgwt"
      },
      "source": [
        "Split dei dati in training set e validation set. In questo caso il validation set viene utilizzato per far sì che l'addestramento non vada in overfitting."
      ]
    },
    {
      "cell_type": "code",
      "execution_count": null,
      "metadata": {
        "id": "Imp8bHoSEgwt"
      },
      "outputs": [],
      "source": [
        "(x_train, x_val, y_train, y_val) = train_test_split(df_train_B.comment_text, df_train_B.conspiracy, test_size=0.15, random_state=42)"
      ]
    },
    {
      "cell_type": "markdown",
      "metadata": {
        "id": "hbSyO8l5Egwt"
      },
      "source": [
        "**DATA AUGMENTATION**"
      ]
    },
    {
      "cell_type": "markdown",
      "metadata": {
        "id": "CeJgTi9gEgwt"
      },
      "source": [
        "Prima di scegliere la libreria nlpaug per effettuare data augmentation sono state fatte altre prove per aumentare i dati."
      ]
    },
    {
      "cell_type": "markdown",
      "metadata": {
        "id": "4ZI8dS52Egwt"
      },
      "source": [
        "Primo approccio: utilizzo di WordNet per ottenere la lista di sinonimi, generazione degli embeddings mediante fastText e uso della distanza coseno per ottenere il sinonimo più \"vicino\"."
      ]
    },
    {
      "cell_type": "code",
      "execution_count": null,
      "metadata": {
        "colab": {
          "base_uri": "https://localhost:8080/"
        },
        "id": "xMoMArMiEgwt",
        "outputId": "42fe4553-ce49-41e3-cab3-db439be96379"
      },
      "outputs": [],
      "source": [
        "nltk.download('wordnet')\n",
        "nltk.download('punkt')\n",
        "nltk.download('omw-1.4')\n",
        "\n",
        "ft = fasttext.load_model(root+'fastText/cc.it.300.bin')\n",
        "\n",
        "def data_augmentation(testo_originale):\n",
        "    testo = testo_originale\n",
        "    parole = nltk.word_tokenize(testo_originale)            #lista di parole che compongono la frase originale\n",
        "    n_parole = random.randint(1, int(len(parole)/2 + 1))    #numero di parole da modificare\n",
        "    indici = random.sample(range(len(parole)), n_parole)    #indici delle parole da modificare\n",
        "    parole_sinonimi = [parole[i] for i in indici]           #parole da modificare\n",
        "    for parola in parole_sinonimi:\n",
        "        testo = sostituisci_sinonimo(testo, parola)\n",
        "    if testo != testo_originale:\n",
        "        return testo\n",
        "    else:\n",
        "        return testo_originale\n",
        "\n",
        "def sinonimi(parola):\n",
        "    sinonimi = wn.synonyms(parola, lang='ita')          #tutti i sinonimi della parola\n",
        "    s = [elem for lista in sinonimi for elem in lista]\n",
        "    return s\n",
        "\n",
        "def sostituisci_sinonimo(testo, parola):\n",
        "    sinonimi_parola = sinonimi(parola)\n",
        "    for elem in sinonimi_parola:\n",
        "        if elem.lower() == parola.lower():      #eliminazione dei sinonimi dove cambia solo il modo in cui è scritta la parola\n",
        "            sinonimi_parola.remove(elem)\n",
        "    if sinonimi_parola != []:\n",
        "        elemento_scelto = scelta_elemento(parola, sinonimi_parola)\n",
        "        testo_modificato = testo.replace(parola, elemento_scelto)\n",
        "        return testo_modificato\n",
        "    else:\n",
        "        return testo    #se non ci sono sinonimi per le parole scelte, viene restituito il testo originale\n",
        "\n",
        "def scelta_elemento(parola, sinonimi_parola):\n",
        "    embeddings_originale = ft[parola]       #calcolo embeddings\n",
        "    distanze = [cosine(embeddings_originale, ft[elem]) for elem in sinonimi_parola]\n",
        "    sinonimo = sinonimi_parola[np.argmin(distanze)]     #si prende il sinonimo più vicino\n",
        "    return sinonimo"
      ]
    },
    {
      "cell_type": "markdown",
      "metadata": {
        "id": "Pp6sDRO02Y8l"
      },
      "source": [
        "Esempio di utilizzo"
      ]
    },
    {
      "cell_type": "code",
      "execution_count": null,
      "metadata": {
        "colab": {
          "base_uri": "https://localhost:8080/"
        },
        "id": "FhS7rf9C2apA",
        "outputId": "d0af235a-45ef-40dc-de2f-c9e11d290e9b"
      },
      "outputs": [],
      "source": [
        "'''\n",
        "frase_originale =  \"Vado a fare una passeggiata con il cane\"\n",
        "frase_nuova = frase_originale\n",
        "while frase_nuova == frase_originale:\n",
        "    frase_nuova = data_augmentation(frase_originale)\n",
        "\n",
        "print(\"Frase originale:\", frase_originale)\n",
        "print(\"Frase aumentata:\", frase_nuova)\n",
        "'''"
      ]
    },
    {
      "cell_type": "markdown",
      "metadata": {
        "id": "NY0JUxJ2Egwt"
      },
      "source": [
        "Secondo approccio: utilizzo di fastText per ottenere il sinonimo più vicino dal punto di vista della rappresentazione vettoriale."
      ]
    },
    {
      "cell_type": "code",
      "execution_count": null,
      "metadata": {
        "id": "QnoGFekoEgwt"
      },
      "outputs": [],
      "source": [
        "def data_augmentation(testo_originale):\n",
        "    testo = testo_originale\n",
        "    parole = nltk.word_tokenize(testo_originale)            #lista di parole che compongono la frase originale\n",
        "    n_parole = random.randint(1, int(len(parole)/2 + 1))    #numero di parole da modificare\n",
        "    indici = random.sample(range(len(parole)), n_parole)    #indici delle parole da modificare\n",
        "    parole_sinonimi = [parole[i] for i in indici]           #parole da modificare\n",
        "    for parola in parole_sinonimi:\n",
        "        testo = sostituisci_sinonimo(testo, parola)\n",
        "    if testo != testo_originale:                            #se il testo originale non ha subito cambiamenti, esso viene restituito, così da poter effettuare una verifica prima di considerare la frase restituita come nuova\n",
        "        return testo\n",
        "    else:\n",
        "        return testo_originale\n",
        "\n",
        "def sostituisci_sinonimo(testo, parola):\n",
        "    elemento_scelto = scelta_elemento(parola)\n",
        "    if elemento_scelto.lower() != parola.lower():           #per non scegliere come sinonimo la stessa parola scritta diversamente\n",
        "        testo_modificato = testo.replace(parola, elemento_scelto)\n",
        "        return testo_modificato\n",
        "    else:\n",
        "        return testo\n",
        "\n",
        "def scelta_elemento(parola):\n",
        "    return ft.get_nearest_neighbors(parola)[0][1]           #ritorna il sinonimo più vicino"
      ]
    },
    {
      "cell_type": "markdown",
      "metadata": {
        "id": "6bloZbjMHP1f"
      },
      "source": [
        "Esempio di utilizzo"
      ]
    },
    {
      "cell_type": "code",
      "execution_count": null,
      "metadata": {
        "colab": {
          "base_uri": "https://localhost:8080/"
        },
        "id": "kbaj0BegHP1g",
        "outputId": "7dd9fd3e-c91e-4196-8be4-1c51d65ad954"
      },
      "outputs": [],
      "source": [
        "'''\n",
        "frase_originale =  \"Vado a fare una passeggiata con il cane\"\n",
        "frase_nuova = frase_originale\n",
        "while frase_nuova == frase_originale:\n",
        "    frase_nuova = data_augmentation(frase_originale)\n",
        "\n",
        "print(\"Frase originale:\", frase_originale)\n",
        "print(\"Frase aumentata:\", frase_nuova)\n",
        "'''"
      ]
    },
    {
      "cell_type": "markdown",
      "metadata": {
        "id": "9f7bv2Y7Egwu"
      },
      "source": [
        "Dopo il caricamento del modello di fastText, la RAM risulta quasi satura, quindi prima di continuare l'esecuzione del codice, poichè ft non servirà più, si può procedere alla liberazione della RAM stessa."
      ]
    },
    {
      "cell_type": "code",
      "execution_count": null,
      "metadata": {
        "colab": {
          "base_uri": "https://localhost:8080/"
        },
        "id": "mG3ka2EtEgwu",
        "outputId": "4f5c376f-c09f-4491-d0bd-7872b4728b18"
      },
      "outputs": [],
      "source": [
        "ft = None\n",
        "gc.collect()"
      ]
    },
    {
      "cell_type": "markdown",
      "metadata": {
        "id": "pr9bqQ7LEgwu"
      },
      "source": [
        "<u>Approccio utilizzato per il data augmentation</u>: libreria nlpaug"
      ]
    },
    {
      "cell_type": "markdown",
      "metadata": {
        "id": "OU1v_kUUEgwu"
      },
      "source": [
        "Viene effettuato il data augmentation andando ad utilizzare embeddings contestuali (BERT).\n",
        "\n",
        "In particolare il data augmentation considerato in questo caso inserisce delle nuove parole nel testo."
      ]
    },
    {
      "cell_type": "code",
      "execution_count": null,
      "metadata": {
        "colab": {
          "base_uri": "https://localhost:8080/",
          "height": 269,
          "referenced_widgets": [
            "537469d66b654ecd9017538fe7cc329f",
            "a051e3095e4347c7bde36ed8a3ea5fc9",
            "a0d137ffe5e74a6da093543609406389",
            "24eb16dd0bb84cc7b8aebc6fa49dfefd",
            "3720b95a5e7848fe9b72faca8ccc4823",
            "1e7a23a34fbb435aa84afbc2f6ece35a",
            "51cac7aeb76a498e98c3158103d168f4",
            "c7d66dabc7014491aaa3baf4c76387d1",
            "1860cec1c5e74119b9092c5b01c94f77",
            "c831ebdf6b9f4b0ca5a853f22e1d4879",
            "e35f129d4e5e467eb2d5a9646c314fd7",
            "ab69272d18714c45a53c3877a60562b0",
            "fcf8c06ba3d848eb9c5caabfb007d8dc",
            "8cc4acb62fc24e1f958c9d92c0bf02da",
            "d5ddab0a82904ad9be2077e10e59f39c",
            "4cc841f86a914a74940dc34375565093",
            "a7c7c2823a9f4dec930ad9119317ab1d",
            "295abf8b768146e2b5093277efaf5edf",
            "757684c0c98640d29fe9a463eb56fd73",
            "7d4c6e0f9fac475ab2df9ee642dcc6a4",
            "75c8d3ff26354da9be6f7f1276cbd016",
            "e5014f40d8a44e11938a7a2ae2674034",
            "856853582d37480d934e9f0119bb928c",
            "2a08af9a86364113b3e22925d337bce4",
            "b59f460428534b25960af92dc833aa4d",
            "0e86ad545d0946b8bbfc36c616376424",
            "bd94c0a7cbf74a438811f29c621bccd8",
            "87454e72608b4118885b3de4cba12906",
            "e5a7407b84a4408f928172a4413b8e60",
            "938231097f25404fa7734c5c244fc2dd",
            "ccb8b612976a4582a1bfbfeaec5f829a",
            "b593ff9aaa464f21b3fb680496a5b50e",
            "2c47dce752e64235bc56d2921ea1658d",
            "58bb6a49aee04765800bc1b62b99cc8c",
            "e2d65f6641594b7682d3c0a134a216cb",
            "d788a443c54c4f22ae1d0fc457486995",
            "9d03aff980a94902a6e8a84859cef49c",
            "7515bda69eb04e9f9732aaa9bedad370",
            "673d6211e93f4fc2b031539c5d901305",
            "436d5cc6fe09444aaf87db5692785792",
            "fa100802ddee4d3eb4b0ff85e1081997",
            "73174221f6a241918cdaf33edd02e01a",
            "aaecd325480b4344a039dec7d620cafd",
            "9d0acbb48ee84abaa5c428de2318537f"
          ]
        },
        "id": "CNB0uURiEgwu",
        "outputId": "75b4ed48-9574-4ebb-8407-7e77853c00d3"
      },
      "outputs": [],
      "source": [
        "aug = naw.ContextualWordEmbsAug(model_path=\"dbmdz/bert-base-italian-xxl-uncased\", action='insert', device='cuda')\n",
        "augmented = aug.augment(list(x_train))"
      ]
    },
    {
      "cell_type": "markdown",
      "metadata": {
        "id": "ilZ31UPSEgwu"
      },
      "source": [
        "Vengono create le liste con i testi aumentati e le labels associate."
      ]
    },
    {
      "cell_type": "code",
      "execution_count": null,
      "metadata": {
        "id": "ZhOAj3OBEgwu"
      },
      "outputs": [],
      "source": [
        "df_augmented = list(x_train) + augmented\n",
        "df_labels = list(y_train) + list(y_train)"
      ]
    },
    {
      "cell_type": "markdown",
      "metadata": {
        "id": "JlYAq2ucEgwv"
      },
      "source": [
        "**IPERPARAMETRI**"
      ]
    },
    {
      "cell_type": "markdown",
      "metadata": {
        "id": "_d7GjnMuX2Li"
      },
      "source": [
        "Viene definito il dizionario degli iperparametri, in modo tale da dover modificare solo i valori per effettuare addestramenti diversi."
      ]
    },
    {
      "cell_type": "code",
      "execution_count": null,
      "metadata": {
        "execution": {
          "iopub.execute_input": "2024-01-03T19:21:59.827303Z",
          "iopub.status.busy": "2024-01-03T19:21:59.826434Z",
          "iopub.status.idle": "2024-01-03T19:21:59.834633Z",
          "shell.execute_reply": "2024-01-03T19:21:59.833792Z",
          "shell.execute_reply.started": "2024-01-03T19:21:59.827274Z"
        },
        "id": "BXSJcuZBc62g",
        "trusted": true
      },
      "outputs": [],
      "source": [
        "n_labels = 4\n",
        "\n",
        "model_name = \"dbmdz/bert-base-italian-xxl-uncased\"\n",
        "\n",
        "hyperparameters = {\n",
        "    \"epochs\": 1000,\n",
        "    \"learning_rate\": 1e-6,\n",
        "    \"batch_size\": 16,\n",
        "    \"dropout\": 0.1,\n",
        "    \"h_dim\": 768,\n",
        "    \"patience\": 50,\n",
        "    \"min_delta\": 0.001,\n",
        "    \"language_model\": model_name,\n",
        "    \"extra-features\" : True\n",
        "}\n",
        "\n",
        "if hyperparameters[\"extra-features\"] == False:\n",
        "    features = {}"
      ]
    },
    {
      "cell_type": "markdown",
      "metadata": {
        "id": "jonz176fEgwv"
      },
      "source": [
        "**DATASET**"
      ]
    },
    {
      "cell_type": "markdown",
      "metadata": {
        "id": "yN7hZ49_dA96"
      },
      "source": [
        "La classe Dataset permette di ottenere un oggetto che contenga sia i testi sia le labels."
      ]
    },
    {
      "cell_type": "code",
      "execution_count": null,
      "metadata": {
        "execution": {
          "iopub.execute_input": "2024-01-03T19:21:59.835911Z",
          "iopub.status.busy": "2024-01-03T19:21:59.835639Z",
          "iopub.status.idle": "2024-01-03T19:21:59.845230Z",
          "shell.execute_reply": "2024-01-03T19:21:59.844365Z",
          "shell.execute_reply.started": "2024-01-03T19:21:59.835887Z"
        },
        "id": "fatrcrE6c-RL",
        "trusted": true
      },
      "outputs": [],
      "source": [
        "class Dataset(torch.utils.data.Dataset):\n",
        "\n",
        "    def __init__(self, x, y):\n",
        "        self.texts = [text for text in x]\n",
        "        self.labels = [torch.tensor(label) for label in y]\n",
        "\n",
        "    def __len__(self):\n",
        "        return len(self.labels)\n",
        "\n",
        "    def __getitem__(self, idx):\n",
        "        batch_texts = self.texts[idx]\n",
        "        batch_labels = np.array(self.labels[idx])\n",
        "        return batch_texts, batch_labels"
      ]
    },
    {
      "cell_type": "markdown",
      "metadata": {
        "id": "6xN4ihi5Egww"
      },
      "source": [
        "**CLASSIFICATORE**"
      ]
    },
    {
      "cell_type": "markdown",
      "metadata": {
        "id": "6ElFANaxd-vI"
      },
      "source": [
        "Viene definita la rete neurale che ha il compito di effettuare la classificazione.\n",
        "\n",
        "\n",
        "È composta da:\n",
        "*   Layer lineare con input e output di dimensione uguale a quella del vettore in ingresso\n",
        "*   Layer di normalizzazione della batch\n",
        "*   Layer di dropout\n",
        "*   Layer con funzione di attivazione ReLU\n",
        "*   Layer lineare con input uguale alla dimensione del vettore in ingresso e output uguale a 4, ossia il numero di labels"
      ]
    },
    {
      "cell_type": "code",
      "execution_count": null,
      "metadata": {
        "execution": {
          "iopub.execute_input": "2024-01-03T19:21:59.850159Z",
          "iopub.status.busy": "2024-01-03T19:21:59.849892Z",
          "iopub.status.idle": "2024-01-03T19:21:59.861331Z",
          "shell.execute_reply": "2024-01-03T19:21:59.860501Z",
          "shell.execute_reply.started": "2024-01-03T19:21:59.850136Z"
        },
        "id": "pax56UyLd-Gi",
        "trusted": true
      },
      "outputs": [],
      "source": [
        "class ClassifierDeep(nn.Module):\n",
        "\n",
        "    def __init__(self, labels, hdim, dropout):\n",
        "        super(ClassifierDeep, self).__init__()\n",
        "        self.classifier = nn.Sequential(\n",
        "            nn.Linear(hdim, hdim),\n",
        "            nn.BatchNorm1d(hdim),\n",
        "            nn.Dropout(dropout),\n",
        "            nn.ReLU(),\n",
        "            nn.Linear(hdim, labels)\n",
        "        )\n",
        "\n",
        "    def forward(self, input_texts):\n",
        "        return self.classifier(input_texts)"
      ]
    },
    {
      "cell_type": "markdown",
      "metadata": {
        "id": "rTIT--VBEgww"
      },
      "source": [
        "**EARLY STOPPING**"
      ]
    },
    {
      "cell_type": "markdown",
      "metadata": {
        "id": "Oe3d32V7e5Da"
      },
      "source": [
        "Definita la classe EarlyStopping, utilizzata come funzione di callback che si occupa di interrompere l'addestramento nel caso in cui la loss dovesse avere un trend convergente in cui il valore rimane nell'intervallo del min_delta, oppure in salita. Inoltre salva progressivamente il modello migliore."
      ]
    },
    {
      "cell_type": "code",
      "execution_count": null,
      "metadata": {
        "execution": {
          "iopub.execute_input": "2024-01-03T19:21:59.863166Z",
          "iopub.status.busy": "2024-01-03T19:21:59.862602Z",
          "iopub.status.idle": "2024-01-03T19:21:59.872698Z",
          "shell.execute_reply": "2024-01-03T19:21:59.871834Z",
          "shell.execute_reply.started": "2024-01-03T19:21:59.863133Z"
        },
        "id": "B2oaeLPqfPVs",
        "trusted": true
      },
      "outputs": [],
      "source": [
        "class EarlyStopping:\n",
        "    def __init__(self, patience, min_delta):\n",
        "        self.patience = patience\n",
        "        self.min_delta = min_delta\n",
        "        self.counter = 0\n",
        "        self.early_stop = False\n",
        "        self.min_loss = torch.inf\n",
        "\n",
        "    def __call__(self, loss, model, path):\n",
        "        if self.min_loss > (loss + self.min_delta):\n",
        "            self.min_loss = loss\n",
        "            self.counter = 0\n",
        "            torch.save(model, path)\n",
        "        else:\n",
        "            self.counter += 1\n",
        "            if self.counter >= self.patience:\n",
        "                self.early_stop = True\n",
        "                print(\"Early stopping.\")"
      ]
    },
    {
      "cell_type": "markdown",
      "metadata": {
        "id": "Vydawn_6Egww"
      },
      "source": [
        "**ADDESTRAMENTO**"
      ]
    },
    {
      "cell_type": "markdown",
      "metadata": {
        "id": "QHUrU_DuEgwx"
      },
      "source": [
        "Per quanto riguarda l'addestramento abbiamo utilizzato 2 approcci: embeddings calcolati sulle singole parole ed embeddings calcolati sull'intera sentence."
      ]
    },
    {
      "cell_type": "markdown",
      "metadata": {
        "id": "doFa2rSAEgwx"
      },
      "source": [
        "Primo approccio: embeddings calcolati sulle singole parole."
      ]
    },
    {
      "cell_type": "markdown",
      "metadata": {
        "id": "PmfBEBCbEgwx"
      },
      "source": [
        "Metodo per la generazione degli embeddings calcolati sulle singole parole. Il metodo restituisce l’output del last_hidden_state del modello."
      ]
    },
    {
      "cell_type": "code",
      "execution_count": null,
      "metadata": {
        "id": "7ojV6NmWEgwx"
      },
      "outputs": [],
      "source": [
        "def gen_embeddings(input_id_text, attention_mask, lm_model):\n",
        "    with torch.no_grad():\n",
        "        last_hidden_states = lm_model(input_id_text, attention_mask=attention_mask).last_hidden_state\n",
        "        last_hidden_states = last_hidden_states[:,0,:]\n",
        "    return last_hidden_states"
      ]
    },
    {
      "cell_type": "markdown",
      "metadata": {
        "id": "JW0QyoOfEgwx"
      },
      "source": [
        "Train loop.\n",
        "\n",
        "Per ogni sentence nella batch vengono generati i token dal tokenizer e attraverso il language model vengono generati gli embeddings dei token.\n",
        "Si concatenano ai vettori degli embeddings le eventuali features aggiuntive."
      ]
    },
    {
      "cell_type": "code",
      "execution_count": null,
      "metadata": {
        "id": "5p60_hamEgwx"
      },
      "outputs": [],
      "source": [
        "def train_loop(model, dataloader, lm_model, tokenizer, loss, optimizer, device, features):\n",
        "    model.train()\n",
        "\n",
        "    epoch_acc = 0\n",
        "    epoch_loss = 0\n",
        "    epoch_labels, epoch_output = [], []\n",
        "\n",
        "    for batch_texts, batch_labels in tqdm(dataloader, desc='training set', position=0, leave=True):\n",
        "\n",
        "        optimizer.zero_grad()\n",
        "        batch_labels = batch_labels.to(device)\n",
        "        tokens = tokenizer(list(batch_texts), add_special_tokens=True, return_tensors='pt', padding='max_length', max_length = 512, truncation=True)\n",
        "        input_id_texts = tokens['input_ids'].squeeze(1).to(device)\n",
        "        mask_texts = tokens['attention_mask'].squeeze(1).to(device)\n",
        "        embeddings_texts = gen_embeddings(input_id_texts, mask_texts, lm_model)\n",
        "\n",
        "        if features != {}:\n",
        "            empty_features(features)\n",
        "            for sentence in list(batch_texts):\n",
        "                get_features(sentence, features)\n",
        "            df_features=pd.DataFrame(features)\n",
        "            for column in df_features.columns:\n",
        "                new_column = torch.tensor(df_features[column].values, dtype=torch.float32).view(-1, 1).to(device)\n",
        "                embeddings_texts = torch.cat((embeddings_texts, new_column), dim=1)\n",
        "\n",
        "        embeddings_texts = embeddings_texts.clone().to(torch.float32).to(device)\n",
        "        batch_output = model(embeddings_texts)\n",
        "\n",
        "        batch_loss = loss(batch_output, batch_labels)\n",
        "        epoch_loss += batch_loss.item()\n",
        "        batch_loss.backward()\n",
        "        optimizer.step()\n",
        "\n",
        "        softmax = nn.LogSoftmax(dim=1)\n",
        "        batch_output = softmax(batch_output).argmax(dim=1)\n",
        "        epoch_acc += (batch_output == batch_labels).sum().item()\n",
        "\n",
        "        batch_labels = batch_labels.detach().cpu()\n",
        "        batch_output = batch_output.detach().cpu()\n",
        "        input_id_texts = input_id_texts.detach().cpu()\n",
        "        mask_texts = mask_texts.detach().cpu()\n",
        "\n",
        "        epoch_labels += batch_labels\n",
        "\n",
        "        batch_output = list(batch_output.numpy().astype(int))\n",
        "        epoch_output += batch_output\n",
        "\n",
        "    return epoch_loss/len(dataloader), epoch_acc, epoch_labels, epoch_output"
      ]
    },
    {
      "cell_type": "markdown",
      "metadata": {
        "id": "u-vqOEtsEgwx"
      },
      "source": [
        "Validation loop.\n",
        "\n",
        "Stesse operazioni del train loop senza effettuare la backpropagation."
      ]
    },
    {
      "cell_type": "code",
      "execution_count": null,
      "metadata": {
        "id": "e9YKjTcTEgwy"
      },
      "outputs": [],
      "source": [
        "def val_loop(model, dataloader, lm_model, tokenizer, loss, device, features):\n",
        "    model.eval()\n",
        "\n",
        "    epoch_acc = 0\n",
        "    epoch_loss = 0\n",
        "    epoch_labels, epoch_output = [], []\n",
        "\n",
        "    with torch.no_grad():\n",
        "\n",
        "        for batch_texts, batch_labels, in tqdm(dataloader, desc='validation set', position=0, leave=True):\n",
        "\n",
        "            batch_labels = batch_labels.to(device)\n",
        "            tokens = tokenizer(list(batch_texts), add_special_tokens=True, return_tensors='pt', padding='max_length', max_length = 512, truncation=True)\n",
        "            input_id_texts = tokens['input_ids'].squeeze(1).to(device)\n",
        "            mask_texts = tokens['attention_mask'].squeeze(1).to(device)\n",
        "            batch_labels = batch_labels.to(device)\n",
        "            embeddings_texts = gen_embeddings(input_id_texts, mask_texts, lm_model)\n",
        "\n",
        "            if features != {}:\n",
        "                empty_features(features)\n",
        "                for sentence in list(batch_texts):\n",
        "                    get_features(sentence, features)\n",
        "                df_features = pd.DataFrame(features)\n",
        "                for column in df_features.columns:\n",
        "                    new_column = torch.tensor(df_features[column].values, dtype=torch.float32).view(-1, 1).to(device)\n",
        "                    embeddings_texts = torch.cat((embeddings_texts, new_column), dim=1)\n",
        "\n",
        "            embeddings_texts = embeddings_texts.clone().to(torch.float32).to(device)\n",
        "            batch_output = model(embeddings_texts)\n",
        "\n",
        "            batch_loss = loss(batch_output, batch_labels)\n",
        "            epoch_loss += batch_loss.item()\n",
        "\n",
        "            softmax = nn.LogSoftmax(dim=1)\n",
        "            batch_output = softmax(batch_output).argmax(dim=1)\n",
        "            epoch_acc += (batch_output == batch_labels).sum().item()\n",
        "\n",
        "            batch_labels = batch_labels.detach().cpu()\n",
        "            batch_output = batch_output.detach().cpu()\n",
        "            input_id_texts = input_id_texts.detach().cpu()\n",
        "            mask_texts = mask_texts.detach().cpu()\n",
        "\n",
        "            epoch_labels += batch_labels\n",
        "\n",
        "            batch_output = list(batch_output.numpy().astype(int))\n",
        "            epoch_output += batch_output\n",
        "\n",
        "    return epoch_loss/len(dataloader), epoch_acc, epoch_labels, epoch_output"
      ]
    },
    {
      "cell_type": "markdown",
      "metadata": {
        "id": "iTlZyE9TEgwy"
      },
      "source": [
        "Il metodo per l'addestramento.\n",
        "\n",
        "Nel metodo vengono utilizzati AutoConfig, AutoTokenizer e AutoModel per configurare il language model. Quest’ultimo viene poi passato come argomento, insieme al tokenizer, ai metodi train_loop e val_loop."
      ]
    },
    {
      "cell_type": "code",
      "execution_count": null,
      "metadata": {
        "id": "HIQSWjTYEgwy"
      },
      "outputs": [],
      "source": [
        "def train_test(model, epochs, optimizer, device, train_data, val_data, batch_size, model_name, train_loss_fn, early_stopping, features):\n",
        "\n",
        "    train_dataloader = torch.utils.data.DataLoader(train_data, batch_size=batch_size, shuffle=True)\n",
        "    val_dataloader = torch.utils.data.DataLoader(val_data, batch_size=batch_size)\n",
        "\n",
        "    train_loss, validation_loss = [], []\n",
        "    train_acc, validation_acc = [], []\n",
        "    train_f1, validation_f1 = [], []\n",
        "\n",
        "    config = AutoConfig.from_pretrained(model_name)\n",
        "    tokenizer = AutoTokenizer.from_pretrained(model_name)\n",
        "    lm_model = AutoModel.from_pretrained(model_name, config=config).to(device)\n",
        "\n",
        "    for epoch in tqdm(range(1, epochs+1), desc='epoch'):\n",
        "\n",
        "        epoch_train_loss, epoch_train_acc, train_labels, train_outputs = train_loop(model, train_dataloader, lm_model, tokenizer, train_loss_fn, optimizer, device, features)\n",
        "        train_loss.append(epoch_train_loss)\n",
        "        train_acc.append(epoch_train_acc/len(train_data))\n",
        "\n",
        "        epoch_validate_loss, epoch_validate_acc, val_labels, val_outputs = val_loop(model, val_dataloader, lm_model, tokenizer, train_loss_fn, device, features)\n",
        "        validation_loss.append(epoch_validate_loss)\n",
        "        validation_acc.append(epoch_validate_acc/len(val_data))\n",
        "\n",
        "        epoch_train_f1 = f1_score(train_labels, train_outputs, average='macro')\n",
        "        train_f1.append(epoch_train_f1)\n",
        "\n",
        "        epoch_validate_f1 = f1_score(val_labels, val_outputs, average='macro')\n",
        "        validation_f1.append(epoch_validate_f1)\n",
        "\n",
        "        print(f\"\\nTrain loss: {epoch_train_loss:6.4f} Validation loss: {epoch_validate_loss:6.4f}\")\n",
        "        print(f\"Train accuracy: {(epoch_train_acc/len(train_data)):6.4f} Validation accuracy: {(epoch_validate_acc/len(val_data)):6.4f}\\n\")\n",
        "        print(f\"Train f1 score: {epoch_train_f1:6.4f} Validation f1 score: {epoch_validate_f1:6.4f}\\n\")\n",
        "\n",
        "        path = root + 'model/best_model.pth'\n",
        "        early_stopping(epoch_validate_loss, model, path)\n",
        "        if early_stopping.early_stop:\n",
        "            break\n",
        "\n",
        "    return train_loss, validation_loss, train_acc, validation_acc, train_f1, validation_f1"
      ]
    },
    {
      "cell_type": "markdown",
      "metadata": {
        "id": "3dpNefnmEgwy"
      },
      "source": [
        "<u>Approccio utilizzato</u>: Sentence Transformers"
      ]
    },
    {
      "cell_type": "markdown",
      "metadata": {
        "id": "lbxDddhnEgwy"
      },
      "source": [
        "Metodo per la generazione degli embeddings."
      ]
    },
    {
      "cell_type": "code",
      "execution_count": null,
      "metadata": {
        "id": "dTCFAiJbEgwz"
      },
      "outputs": [],
      "source": [
        "def gen_embeddings(batch_texts, features, lm_model):\n",
        "    input = lm_model.encode(batch_texts)\n",
        "    if features != {}:\n",
        "        empty_features(features)\n",
        "        for sentence in list(batch_texts):\n",
        "            get_features(sentence, features)\n",
        "        df_features=pd.DataFrame(features)\n",
        "        for column in df_features.columns:\n",
        "            input=np.append(input, np.array([list(df_features[column])]).T, axis=1)\n",
        "    embeddings_texts = torch.tensor(input).to(torch.float32)\n",
        "\n",
        "    return embeddings_texts"
      ]
    },
    {
      "cell_type": "markdown",
      "metadata": {
        "id": "UDBs_ULeh7yb"
      },
      "source": [
        "Viene definito il train loop dove vengono effettuate le seguenti operazioni:\n",
        "\n",
        "1.   calcolati gli embeddings delle sentences tramite il language model (metodo gen_embeddings)\n",
        "2.   calcolate e concatenate le eventuali features aggiuntive (metodo gen_embeddings)\n",
        "3.   passato il vettore risultante come input al modello\n",
        "4.   calcolata la loss con l'output ottenuto"
      ]
    },
    {
      "cell_type": "code",
      "execution_count": null,
      "metadata": {
        "execution": {
          "iopub.execute_input": "2024-01-03T19:21:59.874404Z",
          "iopub.status.busy": "2024-01-03T19:21:59.874034Z",
          "iopub.status.idle": "2024-01-03T19:21:59.886674Z",
          "shell.execute_reply": "2024-01-03T19:21:59.885814Z",
          "shell.execute_reply.started": "2024-01-03T19:21:59.874373Z"
        },
        "id": "nR1yf0Xgfil4",
        "trusted": true
      },
      "outputs": [],
      "source": [
        "def train_loop(model, dataloader, lm_model, loss, optimizer, device, features):\n",
        "    model.train()\n",
        "\n",
        "    epoch_acc = 0\n",
        "    epoch_loss = 0\n",
        "\n",
        "    epoch_labels, epoch_output = [], []\n",
        "\n",
        "    for batch_texts, batch_labels in tqdm(dataloader, desc='train', position=0, leave=True):\n",
        "\n",
        "        optimizer.zero_grad()\n",
        "        batch_labels = batch_labels.to(device)\n",
        "        embeddings_texts = gen_embeddings(batch_texts, features, lm_model).to(device)\n",
        "        output = model(embeddings_texts)\n",
        "\n",
        "        batch_loss = loss(output, batch_labels)\n",
        "        batch_loss.backward()\n",
        "        optimizer.step()\n",
        "\n",
        "        epoch_loss += batch_loss.item()\n",
        "\n",
        "        softmax = nn.LogSoftmax(dim=1)\n",
        "        epoch_acc += (softmax(output).argmax(dim=1) == batch_labels).sum().item()\n",
        "\n",
        "        batch_labels = batch_labels.detach().cpu()\n",
        "        output = output.detach().cpu()\n",
        "\n",
        "        epoch_labels += batch_labels\n",
        "\n",
        "        batch_output = list(softmax(output).argmax(dim=1).numpy().astype(int))\n",
        "        epoch_output += batch_output\n",
        "\n",
        "    return epoch_loss/len(dataloader), epoch_acc, epoch_labels, epoch_output"
      ]
    },
    {
      "cell_type": "markdown",
      "metadata": {
        "id": "-Fh3B4Qhkf3p"
      },
      "source": [
        "Viene definito il validation loop, in cui vengono eseguite le stesse operazioni del train loop senza effettuare la backpropagation, ma utilizzando il modello solo per la valutazione."
      ]
    },
    {
      "cell_type": "code",
      "execution_count": null,
      "metadata": {
        "execution": {
          "iopub.execute_input": "2024-01-03T19:21:59.891223Z",
          "iopub.status.busy": "2024-01-03T19:21:59.887859Z",
          "iopub.status.idle": "2024-01-03T19:21:59.904349Z",
          "shell.execute_reply": "2024-01-03T19:21:59.903468Z",
          "shell.execute_reply.started": "2024-01-03T19:21:59.891182Z"
        },
        "id": "rTN-u-Pnkx5Y",
        "trusted": true
      },
      "outputs": [],
      "source": [
        "def val_loop(model, dataloader, lm_model, loss, device, features):\n",
        "    model.eval()\n",
        "\n",
        "    epoch_acc = 0\n",
        "    epoch_loss = 0\n",
        "\n",
        "    epoch_labels, epoch_output = [], []\n",
        "\n",
        "    with torch.no_grad():\n",
        "\n",
        "        for batch_texts, batch_labels, in tqdm(dataloader, desc=\"val\"):\n",
        "            batch_labels = batch_labels.to(device)\n",
        "            embeddings_texts = gen_embeddings(batch_texts, features, lm_model).to(device)\n",
        "            output = model(embeddings_texts)\n",
        "\n",
        "            batch_loss = loss(output, batch_labels)\n",
        "            epoch_loss += batch_loss.item()\n",
        "\n",
        "            softmax = nn.LogSoftmax(dim=1)\n",
        "            epoch_acc += (softmax(output).argmax(dim=1) == batch_labels).sum().item()\n",
        "\n",
        "            batch_labels = batch_labels.detach().cpu()\n",
        "            output = output.detach().cpu()\n",
        "\n",
        "            epoch_labels += batch_labels\n",
        "\n",
        "            batch_output = list(softmax(output).argmax(dim=1).numpy().astype(int))\n",
        "            epoch_output += batch_output\n",
        "\n",
        "    return epoch_loss/len(dataloader), epoch_acc, epoch_labels, epoch_output"
      ]
    },
    {
      "cell_type": "markdown",
      "metadata": {
        "id": "0mmTTw1pwGQc"
      },
      "source": [
        "Il metodo seguente effettua i loop di train e validation e ritorna la loss, l'accuratezza e la f1-score per epoca."
      ]
    },
    {
      "cell_type": "code",
      "execution_count": null,
      "metadata": {
        "execution": {
          "iopub.execute_input": "2024-01-03T19:21:59.905817Z",
          "iopub.status.busy": "2024-01-03T19:21:59.905522Z",
          "iopub.status.idle": "2024-01-03T19:21:59.919605Z",
          "shell.execute_reply": "2024-01-03T19:21:59.918796Z",
          "shell.execute_reply.started": "2024-01-03T19:21:59.905792Z"
        },
        "id": "qfLwBAVzwA_P",
        "trusted": true
      },
      "outputs": [],
      "source": [
        "def train_test(model, epochs, optimizer, device, train_data, val_data, batch_size, model_name, train_loss_fn, early_stopping, features):\n",
        "\n",
        "    train_dataloader = torch.utils.data.DataLoader(train_data, batch_size=batch_size, shuffle=True)\n",
        "    val_dataloader = torch.utils.data.DataLoader(val_data, batch_size=batch_size)\n",
        "\n",
        "    train_loss, validation_loss = [], []\n",
        "    train_acc, validation_acc = [], []\n",
        "    train_f1, validation_f1 = [], []\n",
        "\n",
        "    lm_model = SentenceTransformer(hyperparameters['language_model'])\n",
        "\n",
        "    for epoch in tqdm(range(1, epochs+1), desc='epoch'):\n",
        "\n",
        "        epoch_train_loss, epoch_train_acc, train_labels, train_outputs = train_loop(model, train_dataloader, lm_model, train_loss_fn, optimizer, device, features)\n",
        "        train_loss.append(epoch_train_loss)\n",
        "        train_acc.append(epoch_train_acc/len(train_data))\n",
        "\n",
        "        epoch_validate_loss, epoch_validate_acc, val_labels, val_outputs = val_loop(model, val_dataloader, lm_model, train_loss_fn, device, features)\n",
        "        validation_loss.append(epoch_validate_loss)\n",
        "        validation_acc.append(epoch_validate_acc/len(val_data))\n",
        "\n",
        "        epoch_train_f1 = f1_score(train_labels, train_outputs, average='macro')\n",
        "        train_f1.append(epoch_train_f1)\n",
        "\n",
        "        epoch_validate_f1 = f1_score(val_labels, val_outputs, average='macro')\n",
        "        validation_f1.append(epoch_validate_f1)\n",
        "\n",
        "        print(f\"\\nTrain loss: {epoch_train_loss:6.4f} Validation loss: {epoch_validate_loss:6.4f}\")\n",
        "        print(f\"Train accuracy: {(epoch_train_acc/len(train_data)):6.4f} Validation accuracy: {(epoch_validate_acc/len(val_data)):6.4f}\\n\")\n",
        "        print(f\"Train f1 score: {epoch_train_f1:6.4f} Validation f1 score: {epoch_validate_f1:6.4f}\\n\")\n",
        "\n",
        "        path = root + 'model/best_model.pth'\n",
        "        early_stopping(epoch_validate_loss, model, path)\n",
        "        if early_stopping.early_stop:\n",
        "            break\n",
        "\n",
        "    return train_loss, validation_loss, train_acc, validation_acc, train_f1, validation_f1"
      ]
    },
    {
      "cell_type": "markdown",
      "metadata": {
        "id": "VK4vj6TSxIli"
      },
      "source": [
        "Vengono creati gli oggetti Dataset per ogni set di dati."
      ]
    },
    {
      "cell_type": "code",
      "execution_count": null,
      "metadata": {
        "execution": {
          "iopub.execute_input": "2024-01-03T19:30:01.563149Z",
          "iopub.status.busy": "2024-01-03T19:30:01.562895Z",
          "iopub.status.idle": "2024-01-03T19:30:01.583206Z",
          "shell.execute_reply": "2024-01-03T19:30:01.582369Z",
          "shell.execute_reply.started": "2024-01-03T19:30:01.563126Z"
        },
        "id": "BOUrieb9xQMi",
        "trusted": true
      },
      "outputs": [],
      "source": [
        "train_dataset = Dataset(df_augmented, df_labels)\n",
        "val_dataset = Dataset(x_val, y_val)"
      ]
    },
    {
      "cell_type": "markdown",
      "metadata": {
        "id": "CQTQ9q8ixUid"
      },
      "source": [
        "Vengono istanziate le seguenti variabili per cominciare l'addestramento:\n",
        "\n",
        "*   il device utilizzato (per l'addestramento è stata usata la GPU)\n",
        "*   il modello della rete classificatore\n",
        "*   la funzione di loss da utilizzare, la Cross Entropy, in quanto siamo dinanzi ad una classificazione multiclasse\n",
        "*   l'ottimizzatore, Adam\n",
        "*   la funzione di callback, l'early-stopping"
      ]
    },
    {
      "cell_type": "code",
      "execution_count": null,
      "metadata": {
        "execution": {
          "iopub.execute_input": "2024-01-03T19:30:01.584688Z",
          "iopub.status.busy": "2024-01-03T19:30:01.584311Z",
          "iopub.status.idle": "2024-01-03T19:30:01.598843Z",
          "shell.execute_reply": "2024-01-03T19:30:01.597994Z",
          "shell.execute_reply.started": "2024-01-03T19:30:01.584664Z"
        },
        "id": "IxteRPRIxq1c",
        "trusted": true
      },
      "outputs": [],
      "source": [
        "device = torch.device(\"cuda\" if torch.cuda.is_available() else \"cpu\")\n",
        "model = ClassifierDeep(n_labels, hyperparameters[\"h_dim\"]+len(features)*hyperparameters[\"extra-features\"], hyperparameters[\"dropout\"]).to(device)\n",
        "loss = nn.CrossEntropyLoss()\n",
        "optimizer = Adam(model.parameters(), lr=hyperparameters[\"learning_rate\"])\n",
        "early_stopping = EarlyStopping(patience=hyperparameters['patience'], min_delta=hyperparameters['min_delta'])"
      ]
    },
    {
      "cell_type": "markdown",
      "metadata": {
        "id": "roNu9RX5yZ4c"
      },
      "source": [
        "Viene effettuato l'addestramento."
      ]
    },
    {
      "cell_type": "code",
      "execution_count": null,
      "metadata": {
        "colab": {
          "base_uri": "https://localhost:8080/",
          "height": 712,
          "referenced_widgets": [
            "16773089dee44758bd549909c5f020a4",
            "9dd7430b26c540b7ad46f4a29b529b4f",
            "a346237d8bd143e6be55fa365f96847b",
            "ef0ea79aadca4d8ca3f1fca7f8934506",
            "226d5c6b97fd4e1aaa4876c3767bf5aa",
            "2bbd2dbab86e4068a720e9ade80a5777",
            "8893489158a5488b83d0e7591e51b26a",
            "581667effe7c4d979fb207d41bc4475c",
            "9d988f97bbbf494cbd229b00c03ae36d",
            "d4847fbb142f4232923c62a5ab4e79ee",
            "2e567a066d4a48038c751f794fe306e2",
            "2f476150ef214bf18574c849846c8b85",
            "8f40b22046be4c3cbdaef78e319d812e",
            "6e40cd5fefaa40b89372b84a5915eb90",
            "f0858254bbbb42c8ba1fd372e43d7c03",
            "ba090e769b6f4b8f8667e97769eb7300",
            "f1e8d0543d07406a997ecbceaa703614",
            "1604aca00ab2456aa52fea2f202f1029",
            "ae896b8ec1784780a75324b743ebffdd",
            "c154ba3d4cd94965b53a27ee26b74c5e",
            "5c8dc17f47b54663b68bca9450ca3b45",
            "38848f69ed8a44efb3afc54273c3b68e",
            "d546db7723f54cb0a777cd47acdef42a",
            "8c031b381b1146d9ba7cfec1f64aa0d0",
            "3435048ccc8e49fd9c89afc48bb7cc1e",
            "7d92cd1e6e41443fbc14382ebf103865",
            "b1aadf2f8df541febc8da0cf30f7d4ff",
            "8d7367312cb243dbb4196143093d3060",
            "26c32f9167fe450a9d2756198c36edf6",
            "e932bdaa2441424080cbb1c34ebbcb84",
            "8bdd4095bdf34e10b0bf1b57c0895b27",
            "2909a1aa31714e7384546f1bd042c30e",
            "2a3e0aed71034ee8b4be000289d64807",
            "719fc9855c9f4733bf76d719f308e2a4",
            "64683dc2b7f44efea96d32779b0ed301",
            "ead1e419031c4aa0bdecbbcbe13dde59",
            "ca260ba5556d4edd81dc3b7af1169818",
            "b4a95a079e3c44048c0c8d2209dce6f8",
            "0e922a05d2834af49b8087607a98202e",
            "261bdecbaea244de8d02a045d6df1912",
            "d103a877c9b04c3f8b0654a443616364",
            "1b1823885387476eb9187b58ce5f5780",
            "d75fe565c78e4633b6591b85bec672cf",
            "288d1994cd9c4ab69a849a0092a6e635",
            "e10d8c73c7f84539870f39410c57019c",
            "545e4bf8ad2f49c8993b25911089becf",
            "774b91e828694151ab96bbc8d74a28fd",
            "5ebcaf973e254b61bab8a0ef7e635853",
            "e24e391dbe0e49b983224875b73bdf8a",
            "fef4ec16af144107b9ced81801424c7d",
            "a0c5a02636274330a111449b104c166f",
            "abcd286e2d1e45c3a597af68add58640",
            "81fa5cdf2772486992723ed644c448b4",
            "b9db5dbb56e14692b962c6181c8dd05b",
            "9a3e48ba00544a2c98861b297f80cc90",
            "b689cdb4d3234237a96e7b583015df57",
            "91da75965289496c835da2e26bf3548c",
            "1faf04ac7fa14f4e93f3f6def0011384",
            "2ae888f72a3f48169ae7e1639206ff7c",
            "feb223589be84c8787d49b1f707dfb67",
            "29c9a6cbf10743d68f830605327ef035",
            "97951011c0ac492eac9d491be5a13584",
            "dd3a0d79076743ba8cc08a8758b3896c",
            "67d1a66317b1403fa0fb6706af869fdd",
            "76d1c5efe6fc4d779bc954977b2edb16",
            "42c6d9cb19b84f61b104c12460ba03b4",
            "55111d03e42d4472884e0f1e2aebe8b0",
            "db1b2781dcae487d9ab148818e9b0a3c",
            "510afe119e1d49ed918b71dd55657ddc",
            "51ece2913cdd48e6be9f79330265a03b",
            "7c7eb49a06fd4297afdba849e1aa8acd",
            "73d7653f866a4a73a61a8cead1bdd713",
            "9ff25db09d304b0c90e883a151896753",
            "8cd62f56a41a466aa0fd99d73b591be7",
            "98e34f300bef44e2adbf18c375eadcf9",
            "e13d61559bce424b98a63b4589cd5333",
            "40496e84597a4e189fd40d3d3e028b52"
          ]
        },
        "execution": {
          "iopub.execute_input": "2024-01-03T19:30:01.602810Z",
          "iopub.status.busy": "2024-01-03T19:30:01.602527Z"
        },
        "id": "wZR_nvxjyXfL",
        "outputId": "8ad1e6cb-c28e-4157-98ca-df0e6c62d1af",
        "trusted": true
      },
      "outputs": [],
      "source": [
        "train_loss, validation_loss, train_acc, validation_acc, train_f1, validation_f1 = train_test(model, hyperparameters['epochs'], optimizer, device, train_dataset, val_dataset, hyperparameters['batch_size'], hyperparameters['language_model'], loss, early_stopping, features)"
      ]
    },
    {
      "cell_type": "markdown",
      "metadata": {
        "id": "ShV2R4U7Egw1"
      },
      "source": [
        "**VISUALIZZAZIONE DEI RISULTATI**"
      ]
    },
    {
      "cell_type": "markdown",
      "metadata": {
        "id": "6umuu5urEgw1"
      },
      "source": [
        "Andamento dell'addestramento dal punto di vista numerico."
      ]
    },
    {
      "cell_type": "code",
      "execution_count": null,
      "metadata": {
        "colab": {
          "base_uri": "https://localhost:8080/"
        },
        "id": "ii9NmcwkEgw1",
        "outputId": "333f2218-84a3-42e8-f36b-05244d535958"
      },
      "outputs": [],
      "source": [
        "print(\"Train loss: \", train_loss)\n",
        "print(\"Validation loss: \", validation_loss)\n",
        "print(\"Train accuracy: \", train_acc)\n",
        "print(\"Validation accuracy: \", validation_acc)\n",
        "print(\"F1 score training set: \", train_f1)\n",
        "print(\"F1 score validation set: \", validation_f1)"
      ]
    },
    {
      "cell_type": "markdown",
      "metadata": {
        "id": "lvPGbNi-Egw1"
      },
      "source": [
        "Vengono plottate le misure ritornate dall'addestramento, sia per il training set sia per il validation set."
      ]
    },
    {
      "cell_type": "code",
      "execution_count": null,
      "metadata": {
        "colab": {
          "base_uri": "https://localhost:8080/",
          "height": 1000
        },
        "id": "R8x0LfWJEgw1",
        "outputId": "cff66727-a8cc-429d-b480-730bdc459124"
      },
      "outputs": [],
      "source": [
        "sns.lineplot(data=train_loss, label=\"train_loss\", color=\"blue\")\n",
        "sns.lineplot(data=validation_loss, label=\"val_loss\", color=\"red\")\n",
        "plt.legend(loc='upper left')\n",
        "plt.ylim(0,1)\n",
        "plt.yticks([i/10 for i in range(11)])\n",
        "plt.show()\n",
        "\n",
        "\n",
        "sns.lineplot(data=train_acc, label=\"train_accuracy\", color=\"blue\")\n",
        "sns.lineplot(data=validation_acc, label=\"val_accuracy\", color=\"red\")\n",
        "plt.legend(loc='lower right')\n",
        "plt.ylim(0,1)\n",
        "plt.yticks([i/10 for i in range(11)])\n",
        "plt.show()\n",
        "\n",
        "sns.lineplot(data=train_f1, label=\"f1-score train\", color=\"blue\")\n",
        "sns.lineplot(data=validation_f1, label=\"f1-score validation\", color=\"red\")\n",
        "plt.legend(loc='lower right')\n",
        "plt.ylim(0,1)\n",
        "plt.yticks([i/10 for i in range(11)])\n",
        "plt.show()"
      ]
    },
    {
      "cell_type": "markdown",
      "metadata": {
        "id": "9PjETKmaEgw1"
      },
      "source": [
        "**PREDIZIONE DELLE ETICHETTE DEL TEST**"
      ]
    },
    {
      "cell_type": "markdown",
      "metadata": {
        "id": "ApQ_Shi2Egw2"
      },
      "source": [
        "Viene caricato il test set."
      ]
    },
    {
      "cell_type": "code",
      "execution_count": null,
      "metadata": {
        "id": "EkAcPkjyEgw2"
      },
      "outputs": [],
      "source": [
        "df_test_B = pd.read_csv(root + \"subtaskB_test.csv\", index_col=\"Id\")"
      ]
    },
    {
      "cell_type": "markdown",
      "metadata": {
        "id": "up3fFnkrEgw2"
      },
      "source": [
        "Viene caricato il modello salvato."
      ]
    },
    {
      "cell_type": "code",
      "execution_count": null,
      "metadata": {
        "colab": {
          "base_uri": "https://localhost:8080/"
        },
        "id": "PBNoCyVyEgw2",
        "outputId": "1b9d9ca3-4c48-4b27-d3f8-d53a5ef779ed"
      },
      "outputs": [],
      "source": [
        "path = root + 'model/best_model.pth'\n",
        "model = torch.load(path)\n",
        "model.eval()"
      ]
    },
    {
      "cell_type": "markdown",
      "metadata": {
        "id": "hAmpXFRIEgw2"
      },
      "source": [
        "Vengono predette le etichette dei dati di test."
      ]
    },
    {
      "cell_type": "code",
      "execution_count": null,
      "metadata": {
        "colab": {
          "base_uri": "https://localhost:8080/"
        },
        "id": "cc1fgQ4IEgw2",
        "outputId": "66034087-5f36-490a-b5e5-b2e978887a21"
      },
      "outputs": [],
      "source": [
        "lm_model = SentenceTransformer(hyperparameters['language_model'])\n",
        "input = lm_model.encode(df_test_B.comment_text)\n",
        "if features != {}:\n",
        "    empty_features(features)\n",
        "    for sentence in df_test_B.comment_text:\n",
        "        get_features(sentence, features)\n",
        "    df_features=pd.DataFrame(features)\n",
        "    for column in df_features.columns:\n",
        "        input=np.append(input, np.array([list(df_features[column])]).T, axis=1)\n",
        "embeddings_texts = torch.tensor(input).to(torch.float32).to('cuda')\n",
        "output = model(embeddings_texts)\n",
        "softmax = nn.LogSoftmax(dim=1)\n",
        "y_pred = softmax(output).argmax(dim=1).int().tolist()"
      ]
    },
    {
      "cell_type": "markdown",
      "metadata": {
        "id": "jUMxeE2TEgw2"
      },
      "source": [
        "Vengono salvati i dati di test etichettati dal modello in un file csv per la submission."
      ]
    },
    {
      "cell_type": "code",
      "execution_count": null,
      "metadata": {
        "id": "2CNrv9FvEgw2"
      },
      "outputs": [],
      "source": [
        "df_new = pd.DataFrame(y_pred, columns=['Expected'])\n",
        "df_new.to_csv(root + 'test/test.csv', index=True, index_label=\"Id\")"
      ]
    }
  ],
  "metadata": {
    "accelerator": "GPU",
    "colab": {
      "gpuType": "T4",
      "provenance": []
    },
    "kaggle": {
      "accelerator": "nvidiaTeslaT4",
      "dataSources": [
        {
          "datasetId": 4256353,
          "sourceId": 7332129,
          "sourceType": "datasetVersion"
        }
      ],
      "dockerImageVersionId": 30627,
      "isGpuEnabled": true,
      "isInternetEnabled": true,
      "language": "python",
      "sourceType": "notebook"
    },
    "kernelspec": {
      "display_name": "Python 3",
      "name": "python3"
    },
    "language_info": {
      "codemirror_mode": {
        "name": "ipython",
        "version": 3
      },
      "file_extension": ".py",
      "mimetype": "text/x-python",
      "name": "python",
      "nbconvert_exporter": "python",
      "pygments_lexer": "ipython3",
      "version": "3.10.12"
    },
    "widgets": {
      "application/vnd.jupyter.widget-state+json": {
        "0e86ad545d0946b8bbfc36c616376424": {
          "model_module": "@jupyter-widgets/controls",
          "model_module_version": "1.5.0",
          "model_name": "HTMLModel",
          "state": {
            "_dom_classes": [],
            "_model_module": "@jupyter-widgets/controls",
            "_model_module_version": "1.5.0",
            "_model_name": "HTMLModel",
            "_view_count": null,
            "_view_module": "@jupyter-widgets/controls",
            "_view_module_version": "1.5.0",
            "_view_name": "HTMLView",
            "description": "",
            "description_tooltip": null,
            "layout": "IPY_MODEL_b593ff9aaa464f21b3fb680496a5b50e",
            "placeholder": "​",
            "style": "IPY_MODEL_2c47dce752e64235bc56d2921ea1658d",
            "value": " 243k/243k [00:00&lt;00:00, 6.19MB/s]"
          }
        },
        "0e922a05d2834af49b8087607a98202e": {
          "model_module": "@jupyter-widgets/base",
          "model_module_version": "1.2.0",
          "model_name": "LayoutModel",
          "state": {
            "_model_module": "@jupyter-widgets/base",
            "_model_module_version": "1.2.0",
            "_model_name": "LayoutModel",
            "_view_count": null,
            "_view_module": "@jupyter-widgets/base",
            "_view_module_version": "1.2.0",
            "_view_name": "LayoutView",
            "align_content": null,
            "align_items": null,
            "align_self": null,
            "border": null,
            "bottom": null,
            "display": null,
            "flex": null,
            "flex_flow": null,
            "grid_area": null,
            "grid_auto_columns": null,
            "grid_auto_flow": null,
            "grid_auto_rows": null,
            "grid_column": null,
            "grid_gap": null,
            "grid_row": null,
            "grid_template_areas": null,
            "grid_template_columns": null,
            "grid_template_rows": null,
            "height": null,
            "justify_content": null,
            "justify_items": null,
            "left": null,
            "margin": null,
            "max_height": null,
            "max_width": null,
            "min_height": null,
            "min_width": null,
            "object_fit": null,
            "object_position": null,
            "order": null,
            "overflow": null,
            "overflow_x": null,
            "overflow_y": null,
            "padding": null,
            "right": null,
            "top": null,
            "visibility": null,
            "width": null
          }
        },
        "1604aca00ab2456aa52fea2f202f1029": {
          "model_module": "@jupyter-widgets/controls",
          "model_module_version": "1.5.0",
          "model_name": "DescriptionStyleModel",
          "state": {
            "_model_module": "@jupyter-widgets/controls",
            "_model_module_version": "1.5.0",
            "_model_name": "DescriptionStyleModel",
            "_view_count": null,
            "_view_module": "@jupyter-widgets/base",
            "_view_module_version": "1.2.0",
            "_view_name": "StyleView",
            "description_width": ""
          }
        },
        "16773089dee44758bd549909c5f020a4": {
          "model_module": "@jupyter-widgets/controls",
          "model_module_version": "1.5.0",
          "model_name": "HBoxModel",
          "state": {
            "_dom_classes": [],
            "_model_module": "@jupyter-widgets/controls",
            "_model_module_version": "1.5.0",
            "_model_name": "HBoxModel",
            "_view_count": null,
            "_view_module": "@jupyter-widgets/controls",
            "_view_module_version": "1.5.0",
            "_view_name": "HBoxView",
            "box_style": "",
            "children": [
              "IPY_MODEL_9dd7430b26c540b7ad46f4a29b529b4f",
              "IPY_MODEL_a346237d8bd143e6be55fa365f96847b",
              "IPY_MODEL_ef0ea79aadca4d8ca3f1fca7f8934506"
            ],
            "layout": "IPY_MODEL_226d5c6b97fd4e1aaa4876c3767bf5aa"
          }
        },
        "1860cec1c5e74119b9092c5b01c94f77": {
          "model_module": "@jupyter-widgets/controls",
          "model_module_version": "1.5.0",
          "model_name": "ProgressStyleModel",
          "state": {
            "_model_module": "@jupyter-widgets/controls",
            "_model_module_version": "1.5.0",
            "_model_name": "ProgressStyleModel",
            "_view_count": null,
            "_view_module": "@jupyter-widgets/base",
            "_view_module_version": "1.2.0",
            "_view_name": "StyleView",
            "bar_color": null,
            "description_width": ""
          }
        },
        "1b1823885387476eb9187b58ce5f5780": {
          "model_module": "@jupyter-widgets/controls",
          "model_module_version": "1.5.0",
          "model_name": "ProgressStyleModel",
          "state": {
            "_model_module": "@jupyter-widgets/controls",
            "_model_module_version": "1.5.0",
            "_model_name": "ProgressStyleModel",
            "_view_count": null,
            "_view_module": "@jupyter-widgets/base",
            "_view_module_version": "1.2.0",
            "_view_name": "StyleView",
            "bar_color": null,
            "description_width": ""
          }
        },
        "1e7a23a34fbb435aa84afbc2f6ece35a": {
          "model_module": "@jupyter-widgets/base",
          "model_module_version": "1.2.0",
          "model_name": "LayoutModel",
          "state": {
            "_model_module": "@jupyter-widgets/base",
            "_model_module_version": "1.2.0",
            "_model_name": "LayoutModel",
            "_view_count": null,
            "_view_module": "@jupyter-widgets/base",
            "_view_module_version": "1.2.0",
            "_view_name": "LayoutView",
            "align_content": null,
            "align_items": null,
            "align_self": null,
            "border": null,
            "bottom": null,
            "display": null,
            "flex": null,
            "flex_flow": null,
            "grid_area": null,
            "grid_auto_columns": null,
            "grid_auto_flow": null,
            "grid_auto_rows": null,
            "grid_column": null,
            "grid_gap": null,
            "grid_row": null,
            "grid_template_areas": null,
            "grid_template_columns": null,
            "grid_template_rows": null,
            "height": null,
            "justify_content": null,
            "justify_items": null,
            "left": null,
            "margin": null,
            "max_height": null,
            "max_width": null,
            "min_height": null,
            "min_width": null,
            "object_fit": null,
            "object_position": null,
            "order": null,
            "overflow": null,
            "overflow_x": null,
            "overflow_y": null,
            "padding": null,
            "right": null,
            "top": null,
            "visibility": null,
            "width": null
          }
        },
        "1faf04ac7fa14f4e93f3f6def0011384": {
          "model_module": "@jupyter-widgets/controls",
          "model_module_version": "1.5.0",
          "model_name": "FloatProgressModel",
          "state": {
            "_dom_classes": [],
            "_model_module": "@jupyter-widgets/controls",
            "_model_module_version": "1.5.0",
            "_model_name": "FloatProgressModel",
            "_view_count": null,
            "_view_module": "@jupyter-widgets/controls",
            "_view_module_version": "1.5.0",
            "_view_name": "ProgressView",
            "bar_style": "success",
            "description": "",
            "description_tooltip": null,
            "layout": "IPY_MODEL_dd3a0d79076743ba8cc08a8758b3896c",
            "max": 86,
            "min": 0,
            "orientation": "horizontal",
            "style": "IPY_MODEL_67d1a66317b1403fa0fb6706af869fdd",
            "value": 86
          }
        },
        "226d5c6b97fd4e1aaa4876c3767bf5aa": {
          "model_module": "@jupyter-widgets/base",
          "model_module_version": "1.2.0",
          "model_name": "LayoutModel",
          "state": {
            "_model_module": "@jupyter-widgets/base",
            "_model_module_version": "1.2.0",
            "_model_name": "LayoutModel",
            "_view_count": null,
            "_view_module": "@jupyter-widgets/base",
            "_view_module_version": "1.2.0",
            "_view_name": "LayoutView",
            "align_content": null,
            "align_items": null,
            "align_self": null,
            "border": null,
            "bottom": null,
            "display": null,
            "flex": null,
            "flex_flow": null,
            "grid_area": null,
            "grid_auto_columns": null,
            "grid_auto_flow": null,
            "grid_auto_rows": null,
            "grid_column": null,
            "grid_gap": null,
            "grid_row": null,
            "grid_template_areas": null,
            "grid_template_columns": null,
            "grid_template_rows": null,
            "height": null,
            "justify_content": null,
            "justify_items": null,
            "left": null,
            "margin": null,
            "max_height": null,
            "max_width": null,
            "min_height": null,
            "min_width": null,
            "object_fit": null,
            "object_position": null,
            "order": null,
            "overflow": null,
            "overflow_x": null,
            "overflow_y": null,
            "padding": null,
            "right": null,
            "top": null,
            "visibility": null,
            "width": null
          }
        },
        "24eb16dd0bb84cc7b8aebc6fa49dfefd": {
          "model_module": "@jupyter-widgets/controls",
          "model_module_version": "1.5.0",
          "model_name": "HTMLModel",
          "state": {
            "_dom_classes": [],
            "_model_module": "@jupyter-widgets/controls",
            "_model_module_version": "1.5.0",
            "_model_name": "HTMLModel",
            "_view_count": null,
            "_view_module": "@jupyter-widgets/controls",
            "_view_module_version": "1.5.0",
            "_view_name": "HTMLView",
            "description": "",
            "description_tooltip": null,
            "layout": "IPY_MODEL_c831ebdf6b9f4b0ca5a853f22e1d4879",
            "placeholder": "​",
            "style": "IPY_MODEL_e35f129d4e5e467eb2d5a9646c314fd7",
            "value": " 59.0/59.0 [00:00&lt;00:00, 929B/s]"
          }
        },
        "261bdecbaea244de8d02a045d6df1912": {
          "model_module": "@jupyter-widgets/controls",
          "model_module_version": "1.5.0",
          "model_name": "DescriptionStyleModel",
          "state": {
            "_model_module": "@jupyter-widgets/controls",
            "_model_module_version": "1.5.0",
            "_model_name": "DescriptionStyleModel",
            "_view_count": null,
            "_view_module": "@jupyter-widgets/base",
            "_view_module_version": "1.2.0",
            "_view_name": "StyleView",
            "description_width": ""
          }
        },
        "26c32f9167fe450a9d2756198c36edf6": {
          "model_module": "@jupyter-widgets/controls",
          "model_module_version": "1.5.0",
          "model_name": "DescriptionStyleModel",
          "state": {
            "_model_module": "@jupyter-widgets/controls",
            "_model_module_version": "1.5.0",
            "_model_name": "DescriptionStyleModel",
            "_view_count": null,
            "_view_module": "@jupyter-widgets/base",
            "_view_module_version": "1.2.0",
            "_view_name": "StyleView",
            "description_width": ""
          }
        },
        "288d1994cd9c4ab69a849a0092a6e635": {
          "model_module": "@jupyter-widgets/controls",
          "model_module_version": "1.5.0",
          "model_name": "DescriptionStyleModel",
          "state": {
            "_model_module": "@jupyter-widgets/controls",
            "_model_module_version": "1.5.0",
            "_model_name": "DescriptionStyleModel",
            "_view_count": null,
            "_view_module": "@jupyter-widgets/base",
            "_view_module_version": "1.2.0",
            "_view_name": "StyleView",
            "description_width": ""
          }
        },
        "2909a1aa31714e7384546f1bd042c30e": {
          "model_module": "@jupyter-widgets/base",
          "model_module_version": "1.2.0",
          "model_name": "LayoutModel",
          "state": {
            "_model_module": "@jupyter-widgets/base",
            "_model_module_version": "1.2.0",
            "_model_name": "LayoutModel",
            "_view_count": null,
            "_view_module": "@jupyter-widgets/base",
            "_view_module_version": "1.2.0",
            "_view_name": "LayoutView",
            "align_content": null,
            "align_items": null,
            "align_self": null,
            "border": null,
            "bottom": null,
            "display": null,
            "flex": null,
            "flex_flow": null,
            "grid_area": null,
            "grid_auto_columns": null,
            "grid_auto_flow": null,
            "grid_auto_rows": null,
            "grid_column": null,
            "grid_gap": null,
            "grid_row": null,
            "grid_template_areas": null,
            "grid_template_columns": null,
            "grid_template_rows": null,
            "height": null,
            "justify_content": null,
            "justify_items": null,
            "left": null,
            "margin": null,
            "max_height": null,
            "max_width": null,
            "min_height": null,
            "min_width": null,
            "object_fit": null,
            "object_position": null,
            "order": null,
            "overflow": null,
            "overflow_x": null,
            "overflow_y": null,
            "padding": null,
            "right": null,
            "top": null,
            "visibility": null,
            "width": null
          }
        },
        "295abf8b768146e2b5093277efaf5edf": {
          "model_module": "@jupyter-widgets/controls",
          "model_module_version": "1.5.0",
          "model_name": "DescriptionStyleModel",
          "state": {
            "_model_module": "@jupyter-widgets/controls",
            "_model_module_version": "1.5.0",
            "_model_name": "DescriptionStyleModel",
            "_view_count": null,
            "_view_module": "@jupyter-widgets/base",
            "_view_module_version": "1.2.0",
            "_view_name": "StyleView",
            "description_width": ""
          }
        },
        "29c9a6cbf10743d68f830605327ef035": {
          "model_module": "@jupyter-widgets/base",
          "model_module_version": "1.2.0",
          "model_name": "LayoutModel",
          "state": {
            "_model_module": "@jupyter-widgets/base",
            "_model_module_version": "1.2.0",
            "_model_name": "LayoutModel",
            "_view_count": null,
            "_view_module": "@jupyter-widgets/base",
            "_view_module_version": "1.2.0",
            "_view_name": "LayoutView",
            "align_content": null,
            "align_items": null,
            "align_self": null,
            "border": null,
            "bottom": null,
            "display": null,
            "flex": null,
            "flex_flow": null,
            "grid_area": null,
            "grid_auto_columns": null,
            "grid_auto_flow": null,
            "grid_auto_rows": null,
            "grid_column": null,
            "grid_gap": null,
            "grid_row": null,
            "grid_template_areas": null,
            "grid_template_columns": null,
            "grid_template_rows": null,
            "height": null,
            "justify_content": null,
            "justify_items": null,
            "left": null,
            "margin": null,
            "max_height": null,
            "max_width": null,
            "min_height": null,
            "min_width": null,
            "object_fit": null,
            "object_position": null,
            "order": null,
            "overflow": null,
            "overflow_x": null,
            "overflow_y": null,
            "padding": null,
            "right": null,
            "top": null,
            "visibility": null,
            "width": null
          }
        },
        "2a08af9a86364113b3e22925d337bce4": {
          "model_module": "@jupyter-widgets/controls",
          "model_module_version": "1.5.0",
          "model_name": "HTMLModel",
          "state": {
            "_dom_classes": [],
            "_model_module": "@jupyter-widgets/controls",
            "_model_module_version": "1.5.0",
            "_model_name": "HTMLModel",
            "_view_count": null,
            "_view_module": "@jupyter-widgets/controls",
            "_view_module_version": "1.5.0",
            "_view_name": "HTMLView",
            "description": "",
            "description_tooltip": null,
            "layout": "IPY_MODEL_87454e72608b4118885b3de4cba12906",
            "placeholder": "​",
            "style": "IPY_MODEL_e5a7407b84a4408f928172a4413b8e60",
            "value": "vocab.txt: 100%"
          }
        },
        "2a3e0aed71034ee8b4be000289d64807": {
          "model_module": "@jupyter-widgets/controls",
          "model_module_version": "1.5.0",
          "model_name": "DescriptionStyleModel",
          "state": {
            "_model_module": "@jupyter-widgets/controls",
            "_model_module_version": "1.5.0",
            "_model_name": "DescriptionStyleModel",
            "_view_count": null,
            "_view_module": "@jupyter-widgets/base",
            "_view_module_version": "1.2.0",
            "_view_name": "StyleView",
            "description_width": ""
          }
        },
        "2ae888f72a3f48169ae7e1639206ff7c": {
          "model_module": "@jupyter-widgets/controls",
          "model_module_version": "1.5.0",
          "model_name": "HTMLModel",
          "state": {
            "_dom_classes": [],
            "_model_module": "@jupyter-widgets/controls",
            "_model_module_version": "1.5.0",
            "_model_name": "HTMLModel",
            "_view_count": null,
            "_view_module": "@jupyter-widgets/controls",
            "_view_module_version": "1.5.0",
            "_view_name": "HTMLView",
            "description": "",
            "description_tooltip": null,
            "layout": "IPY_MODEL_76d1c5efe6fc4d779bc954977b2edb16",
            "placeholder": "​",
            "style": "IPY_MODEL_42c6d9cb19b84f61b104c12460ba03b4",
            "value": " 86/86 [00:35&lt;00:00,  1.87it/s]"
          }
        },
        "2bbd2dbab86e4068a720e9ade80a5777": {
          "model_module": "@jupyter-widgets/base",
          "model_module_version": "1.2.0",
          "model_name": "LayoutModel",
          "state": {
            "_model_module": "@jupyter-widgets/base",
            "_model_module_version": "1.2.0",
            "_model_name": "LayoutModel",
            "_view_count": null,
            "_view_module": "@jupyter-widgets/base",
            "_view_module_version": "1.2.0",
            "_view_name": "LayoutView",
            "align_content": null,
            "align_items": null,
            "align_self": null,
            "border": null,
            "bottom": null,
            "display": null,
            "flex": null,
            "flex_flow": null,
            "grid_area": null,
            "grid_auto_columns": null,
            "grid_auto_flow": null,
            "grid_auto_rows": null,
            "grid_column": null,
            "grid_gap": null,
            "grid_row": null,
            "grid_template_areas": null,
            "grid_template_columns": null,
            "grid_template_rows": null,
            "height": null,
            "justify_content": null,
            "justify_items": null,
            "left": null,
            "margin": null,
            "max_height": null,
            "max_width": null,
            "min_height": null,
            "min_width": null,
            "object_fit": null,
            "object_position": null,
            "order": null,
            "overflow": null,
            "overflow_x": null,
            "overflow_y": null,
            "padding": null,
            "right": null,
            "top": null,
            "visibility": null,
            "width": null
          }
        },
        "2c47dce752e64235bc56d2921ea1658d": {
          "model_module": "@jupyter-widgets/controls",
          "model_module_version": "1.5.0",
          "model_name": "DescriptionStyleModel",
          "state": {
            "_model_module": "@jupyter-widgets/controls",
            "_model_module_version": "1.5.0",
            "_model_name": "DescriptionStyleModel",
            "_view_count": null,
            "_view_module": "@jupyter-widgets/base",
            "_view_module_version": "1.2.0",
            "_view_name": "StyleView",
            "description_width": ""
          }
        },
        "2e567a066d4a48038c751f794fe306e2": {
          "model_module": "@jupyter-widgets/controls",
          "model_module_version": "1.5.0",
          "model_name": "DescriptionStyleModel",
          "state": {
            "_model_module": "@jupyter-widgets/controls",
            "_model_module_version": "1.5.0",
            "_model_name": "DescriptionStyleModel",
            "_view_count": null,
            "_view_module": "@jupyter-widgets/base",
            "_view_module_version": "1.2.0",
            "_view_name": "StyleView",
            "description_width": ""
          }
        },
        "2f476150ef214bf18574c849846c8b85": {
          "model_module": "@jupyter-widgets/controls",
          "model_module_version": "1.5.0",
          "model_name": "HBoxModel",
          "state": {
            "_dom_classes": [],
            "_model_module": "@jupyter-widgets/controls",
            "_model_module_version": "1.5.0",
            "_model_name": "HBoxModel",
            "_view_count": null,
            "_view_module": "@jupyter-widgets/controls",
            "_view_module_version": "1.5.0",
            "_view_name": "HBoxView",
            "box_style": "",
            "children": [
              "IPY_MODEL_8f40b22046be4c3cbdaef78e319d812e",
              "IPY_MODEL_6e40cd5fefaa40b89372b84a5915eb90",
              "IPY_MODEL_f0858254bbbb42c8ba1fd372e43d7c03"
            ],
            "layout": "IPY_MODEL_ba090e769b6f4b8f8667e97769eb7300"
          }
        },
        "3435048ccc8e49fd9c89afc48bb7cc1e": {
          "model_module": "@jupyter-widgets/controls",
          "model_module_version": "1.5.0",
          "model_name": "FloatProgressModel",
          "state": {
            "_dom_classes": [],
            "_model_module": "@jupyter-widgets/controls",
            "_model_module_version": "1.5.0",
            "_model_name": "FloatProgressModel",
            "_view_count": null,
            "_view_module": "@jupyter-widgets/controls",
            "_view_module_version": "1.5.0",
            "_view_name": "ProgressView",
            "bar_style": "success",
            "description": "",
            "description_tooltip": null,
            "layout": "IPY_MODEL_e932bdaa2441424080cbb1c34ebbcb84",
            "max": 8,
            "min": 0,
            "orientation": "horizontal",
            "style": "IPY_MODEL_8bdd4095bdf34e10b0bf1b57c0895b27",
            "value": 8
          }
        },
        "3720b95a5e7848fe9b72faca8ccc4823": {
          "model_module": "@jupyter-widgets/base",
          "model_module_version": "1.2.0",
          "model_name": "LayoutModel",
          "state": {
            "_model_module": "@jupyter-widgets/base",
            "_model_module_version": "1.2.0",
            "_model_name": "LayoutModel",
            "_view_count": null,
            "_view_module": "@jupyter-widgets/base",
            "_view_module_version": "1.2.0",
            "_view_name": "LayoutView",
            "align_content": null,
            "align_items": null,
            "align_self": null,
            "border": null,
            "bottom": null,
            "display": null,
            "flex": null,
            "flex_flow": null,
            "grid_area": null,
            "grid_auto_columns": null,
            "grid_auto_flow": null,
            "grid_auto_rows": null,
            "grid_column": null,
            "grid_gap": null,
            "grid_row": null,
            "grid_template_areas": null,
            "grid_template_columns": null,
            "grid_template_rows": null,
            "height": null,
            "justify_content": null,
            "justify_items": null,
            "left": null,
            "margin": null,
            "max_height": null,
            "max_width": null,
            "min_height": null,
            "min_width": null,
            "object_fit": null,
            "object_position": null,
            "order": null,
            "overflow": null,
            "overflow_x": null,
            "overflow_y": null,
            "padding": null,
            "right": null,
            "top": null,
            "visibility": null,
            "width": null
          }
        },
        "38848f69ed8a44efb3afc54273c3b68e": {
          "model_module": "@jupyter-widgets/controls",
          "model_module_version": "1.5.0",
          "model_name": "DescriptionStyleModel",
          "state": {
            "_model_module": "@jupyter-widgets/controls",
            "_model_module_version": "1.5.0",
            "_model_name": "DescriptionStyleModel",
            "_view_count": null,
            "_view_module": "@jupyter-widgets/base",
            "_view_module_version": "1.2.0",
            "_view_name": "StyleView",
            "description_width": ""
          }
        },
        "40496e84597a4e189fd40d3d3e028b52": {
          "model_module": "@jupyter-widgets/controls",
          "model_module_version": "1.5.0",
          "model_name": "DescriptionStyleModel",
          "state": {
            "_model_module": "@jupyter-widgets/controls",
            "_model_module_version": "1.5.0",
            "_model_name": "DescriptionStyleModel",
            "_view_count": null,
            "_view_module": "@jupyter-widgets/base",
            "_view_module_version": "1.2.0",
            "_view_name": "StyleView",
            "description_width": ""
          }
        },
        "42c6d9cb19b84f61b104c12460ba03b4": {
          "model_module": "@jupyter-widgets/controls",
          "model_module_version": "1.5.0",
          "model_name": "DescriptionStyleModel",
          "state": {
            "_model_module": "@jupyter-widgets/controls",
            "_model_module_version": "1.5.0",
            "_model_name": "DescriptionStyleModel",
            "_view_count": null,
            "_view_module": "@jupyter-widgets/base",
            "_view_module_version": "1.2.0",
            "_view_name": "StyleView",
            "description_width": ""
          }
        },
        "436d5cc6fe09444aaf87db5692785792": {
          "model_module": "@jupyter-widgets/controls",
          "model_module_version": "1.5.0",
          "model_name": "DescriptionStyleModel",
          "state": {
            "_model_module": "@jupyter-widgets/controls",
            "_model_module_version": "1.5.0",
            "_model_name": "DescriptionStyleModel",
            "_view_count": null,
            "_view_module": "@jupyter-widgets/base",
            "_view_module_version": "1.2.0",
            "_view_name": "StyleView",
            "description_width": ""
          }
        },
        "4cc841f86a914a74940dc34375565093": {
          "model_module": "@jupyter-widgets/base",
          "model_module_version": "1.2.0",
          "model_name": "LayoutModel",
          "state": {
            "_model_module": "@jupyter-widgets/base",
            "_model_module_version": "1.2.0",
            "_model_name": "LayoutModel",
            "_view_count": null,
            "_view_module": "@jupyter-widgets/base",
            "_view_module_version": "1.2.0",
            "_view_name": "LayoutView",
            "align_content": null,
            "align_items": null,
            "align_self": null,
            "border": null,
            "bottom": null,
            "display": null,
            "flex": null,
            "flex_flow": null,
            "grid_area": null,
            "grid_auto_columns": null,
            "grid_auto_flow": null,
            "grid_auto_rows": null,
            "grid_column": null,
            "grid_gap": null,
            "grid_row": null,
            "grid_template_areas": null,
            "grid_template_columns": null,
            "grid_template_rows": null,
            "height": null,
            "justify_content": null,
            "justify_items": null,
            "left": null,
            "margin": null,
            "max_height": null,
            "max_width": null,
            "min_height": null,
            "min_width": null,
            "object_fit": null,
            "object_position": null,
            "order": null,
            "overflow": null,
            "overflow_x": null,
            "overflow_y": null,
            "padding": null,
            "right": null,
            "top": null,
            "visibility": null,
            "width": null
          }
        },
        "510afe119e1d49ed918b71dd55657ddc": {
          "model_module": "@jupyter-widgets/controls",
          "model_module_version": "1.5.0",
          "model_name": "FloatProgressModel",
          "state": {
            "_dom_classes": [],
            "_model_module": "@jupyter-widgets/controls",
            "_model_module_version": "1.5.0",
            "_model_name": "FloatProgressModel",
            "_view_count": null,
            "_view_module": "@jupyter-widgets/controls",
            "_view_module_version": "1.5.0",
            "_view_name": "ProgressView",
            "bar_style": "success",
            "description": "",
            "description_tooltip": null,
            "layout": "IPY_MODEL_8cd62f56a41a466aa0fd99d73b591be7",
            "max": 8,
            "min": 0,
            "orientation": "horizontal",
            "style": "IPY_MODEL_98e34f300bef44e2adbf18c375eadcf9",
            "value": 8
          }
        },
        "51cac7aeb76a498e98c3158103d168f4": {
          "model_module": "@jupyter-widgets/controls",
          "model_module_version": "1.5.0",
          "model_name": "DescriptionStyleModel",
          "state": {
            "_model_module": "@jupyter-widgets/controls",
            "_model_module_version": "1.5.0",
            "_model_name": "DescriptionStyleModel",
            "_view_count": null,
            "_view_module": "@jupyter-widgets/base",
            "_view_module_version": "1.2.0",
            "_view_name": "StyleView",
            "description_width": ""
          }
        },
        "51ece2913cdd48e6be9f79330265a03b": {
          "model_module": "@jupyter-widgets/controls",
          "model_module_version": "1.5.0",
          "model_name": "HTMLModel",
          "state": {
            "_dom_classes": [],
            "_model_module": "@jupyter-widgets/controls",
            "_model_module_version": "1.5.0",
            "_model_name": "HTMLModel",
            "_view_count": null,
            "_view_module": "@jupyter-widgets/controls",
            "_view_module_version": "1.5.0",
            "_view_name": "HTMLView",
            "description": "",
            "description_tooltip": null,
            "layout": "IPY_MODEL_e13d61559bce424b98a63b4589cd5333",
            "placeholder": "​",
            "style": "IPY_MODEL_40496e84597a4e189fd40d3d3e028b52",
            "value": " 8/8 [00:04&lt;00:00,  1.81it/s]"
          }
        },
        "537469d66b654ecd9017538fe7cc329f": {
          "model_module": "@jupyter-widgets/controls",
          "model_module_version": "1.5.0",
          "model_name": "HBoxModel",
          "state": {
            "_dom_classes": [],
            "_model_module": "@jupyter-widgets/controls",
            "_model_module_version": "1.5.0",
            "_model_name": "HBoxModel",
            "_view_count": null,
            "_view_module": "@jupyter-widgets/controls",
            "_view_module_version": "1.5.0",
            "_view_name": "HBoxView",
            "box_style": "",
            "children": [
              "IPY_MODEL_a051e3095e4347c7bde36ed8a3ea5fc9",
              "IPY_MODEL_a0d137ffe5e74a6da093543609406389",
              "IPY_MODEL_24eb16dd0bb84cc7b8aebc6fa49dfefd"
            ],
            "layout": "IPY_MODEL_3720b95a5e7848fe9b72faca8ccc4823"
          }
        },
        "545e4bf8ad2f49c8993b25911089becf": {
          "model_module": "@jupyter-widgets/controls",
          "model_module_version": "1.5.0",
          "model_name": "HTMLModel",
          "state": {
            "_dom_classes": [],
            "_model_module": "@jupyter-widgets/controls",
            "_model_module_version": "1.5.0",
            "_model_name": "HTMLModel",
            "_view_count": null,
            "_view_module": "@jupyter-widgets/controls",
            "_view_module_version": "1.5.0",
            "_view_name": "HTMLView",
            "description": "",
            "description_tooltip": null,
            "layout": "IPY_MODEL_fef4ec16af144107b9ced81801424c7d",
            "placeholder": "​",
            "style": "IPY_MODEL_a0c5a02636274330a111449b104c166f",
            "value": "val: 100%"
          }
        },
        "55111d03e42d4472884e0f1e2aebe8b0": {
          "model_module": "@jupyter-widgets/controls",
          "model_module_version": "1.5.0",
          "model_name": "HBoxModel",
          "state": {
            "_dom_classes": [],
            "_model_module": "@jupyter-widgets/controls",
            "_model_module_version": "1.5.0",
            "_model_name": "HBoxModel",
            "_view_count": null,
            "_view_module": "@jupyter-widgets/controls",
            "_view_module_version": "1.5.0",
            "_view_name": "HBoxView",
            "box_style": "",
            "children": [
              "IPY_MODEL_db1b2781dcae487d9ab148818e9b0a3c",
              "IPY_MODEL_510afe119e1d49ed918b71dd55657ddc",
              "IPY_MODEL_51ece2913cdd48e6be9f79330265a03b"
            ],
            "layout": "IPY_MODEL_7c7eb49a06fd4297afdba849e1aa8acd"
          }
        },
        "581667effe7c4d979fb207d41bc4475c": {
          "model_module": "@jupyter-widgets/base",
          "model_module_version": "1.2.0",
          "model_name": "LayoutModel",
          "state": {
            "_model_module": "@jupyter-widgets/base",
            "_model_module_version": "1.2.0",
            "_model_name": "LayoutModel",
            "_view_count": null,
            "_view_module": "@jupyter-widgets/base",
            "_view_module_version": "1.2.0",
            "_view_name": "LayoutView",
            "align_content": null,
            "align_items": null,
            "align_self": null,
            "border": null,
            "bottom": null,
            "display": null,
            "flex": null,
            "flex_flow": null,
            "grid_area": null,
            "grid_auto_columns": null,
            "grid_auto_flow": null,
            "grid_auto_rows": null,
            "grid_column": null,
            "grid_gap": null,
            "grid_row": null,
            "grid_template_areas": null,
            "grid_template_columns": null,
            "grid_template_rows": null,
            "height": null,
            "justify_content": null,
            "justify_items": null,
            "left": null,
            "margin": null,
            "max_height": null,
            "max_width": null,
            "min_height": null,
            "min_width": null,
            "object_fit": null,
            "object_position": null,
            "order": null,
            "overflow": null,
            "overflow_x": null,
            "overflow_y": null,
            "padding": null,
            "right": null,
            "top": null,
            "visibility": null,
            "width": null
          }
        },
        "58bb6a49aee04765800bc1b62b99cc8c": {
          "model_module": "@jupyter-widgets/controls",
          "model_module_version": "1.5.0",
          "model_name": "HBoxModel",
          "state": {
            "_dom_classes": [],
            "_model_module": "@jupyter-widgets/controls",
            "_model_module_version": "1.5.0",
            "_model_name": "HBoxModel",
            "_view_count": null,
            "_view_module": "@jupyter-widgets/controls",
            "_view_module_version": "1.5.0",
            "_view_name": "HBoxView",
            "box_style": "",
            "children": [
              "IPY_MODEL_e2d65f6641594b7682d3c0a134a216cb",
              "IPY_MODEL_d788a443c54c4f22ae1d0fc457486995",
              "IPY_MODEL_9d03aff980a94902a6e8a84859cef49c"
            ],
            "layout": "IPY_MODEL_7515bda69eb04e9f9732aaa9bedad370"
          }
        },
        "5c8dc17f47b54663b68bca9450ca3b45": {
          "model_module": "@jupyter-widgets/base",
          "model_module_version": "1.2.0",
          "model_name": "LayoutModel",
          "state": {
            "_model_module": "@jupyter-widgets/base",
            "_model_module_version": "1.2.0",
            "_model_name": "LayoutModel",
            "_view_count": null,
            "_view_module": "@jupyter-widgets/base",
            "_view_module_version": "1.2.0",
            "_view_name": "LayoutView",
            "align_content": null,
            "align_items": null,
            "align_self": null,
            "border": null,
            "bottom": null,
            "display": null,
            "flex": null,
            "flex_flow": null,
            "grid_area": null,
            "grid_auto_columns": null,
            "grid_auto_flow": null,
            "grid_auto_rows": null,
            "grid_column": null,
            "grid_gap": null,
            "grid_row": null,
            "grid_template_areas": null,
            "grid_template_columns": null,
            "grid_template_rows": null,
            "height": null,
            "justify_content": null,
            "justify_items": null,
            "left": null,
            "margin": null,
            "max_height": null,
            "max_width": null,
            "min_height": null,
            "min_width": null,
            "object_fit": null,
            "object_position": null,
            "order": null,
            "overflow": null,
            "overflow_x": null,
            "overflow_y": null,
            "padding": null,
            "right": null,
            "top": null,
            "visibility": null,
            "width": null
          }
        },
        "5ebcaf973e254b61bab8a0ef7e635853": {
          "model_module": "@jupyter-widgets/controls",
          "model_module_version": "1.5.0",
          "model_name": "HTMLModel",
          "state": {
            "_dom_classes": [],
            "_model_module": "@jupyter-widgets/controls",
            "_model_module_version": "1.5.0",
            "_model_name": "HTMLModel",
            "_view_count": null,
            "_view_module": "@jupyter-widgets/controls",
            "_view_module_version": "1.5.0",
            "_view_name": "HTMLView",
            "description": "",
            "description_tooltip": null,
            "layout": "IPY_MODEL_b9db5dbb56e14692b962c6181c8dd05b",
            "placeholder": "​",
            "style": "IPY_MODEL_9a3e48ba00544a2c98861b297f80cc90",
            "value": " 8/8 [00:04&lt;00:00,  1.63it/s]"
          }
        },
        "64683dc2b7f44efea96d32779b0ed301": {
          "model_module": "@jupyter-widgets/controls",
          "model_module_version": "1.5.0",
          "model_name": "HTMLModel",
          "state": {
            "_dom_classes": [],
            "_model_module": "@jupyter-widgets/controls",
            "_model_module_version": "1.5.0",
            "_model_name": "HTMLModel",
            "_view_count": null,
            "_view_module": "@jupyter-widgets/controls",
            "_view_module_version": "1.5.0",
            "_view_name": "HTMLView",
            "description": "",
            "description_tooltip": null,
            "layout": "IPY_MODEL_0e922a05d2834af49b8087607a98202e",
            "placeholder": "​",
            "style": "IPY_MODEL_261bdecbaea244de8d02a045d6df1912",
            "value": "train: 100%"
          }
        },
        "673d6211e93f4fc2b031539c5d901305": {
          "model_module": "@jupyter-widgets/base",
          "model_module_version": "1.2.0",
          "model_name": "LayoutModel",
          "state": {
            "_model_module": "@jupyter-widgets/base",
            "_model_module_version": "1.2.0",
            "_model_name": "LayoutModel",
            "_view_count": null,
            "_view_module": "@jupyter-widgets/base",
            "_view_module_version": "1.2.0",
            "_view_name": "LayoutView",
            "align_content": null,
            "align_items": null,
            "align_self": null,
            "border": null,
            "bottom": null,
            "display": null,
            "flex": null,
            "flex_flow": null,
            "grid_area": null,
            "grid_auto_columns": null,
            "grid_auto_flow": null,
            "grid_auto_rows": null,
            "grid_column": null,
            "grid_gap": null,
            "grid_row": null,
            "grid_template_areas": null,
            "grid_template_columns": null,
            "grid_template_rows": null,
            "height": null,
            "justify_content": null,
            "justify_items": null,
            "left": null,
            "margin": null,
            "max_height": null,
            "max_width": null,
            "min_height": null,
            "min_width": null,
            "object_fit": null,
            "object_position": null,
            "order": null,
            "overflow": null,
            "overflow_x": null,
            "overflow_y": null,
            "padding": null,
            "right": null,
            "top": null,
            "visibility": null,
            "width": null
          }
        },
        "67d1a66317b1403fa0fb6706af869fdd": {
          "model_module": "@jupyter-widgets/controls",
          "model_module_version": "1.5.0",
          "model_name": "ProgressStyleModel",
          "state": {
            "_model_module": "@jupyter-widgets/controls",
            "_model_module_version": "1.5.0",
            "_model_name": "ProgressStyleModel",
            "_view_count": null,
            "_view_module": "@jupyter-widgets/base",
            "_view_module_version": "1.2.0",
            "_view_name": "StyleView",
            "bar_color": null,
            "description_width": ""
          }
        },
        "6e40cd5fefaa40b89372b84a5915eb90": {
          "model_module": "@jupyter-widgets/controls",
          "model_module_version": "1.5.0",
          "model_name": "FloatProgressModel",
          "state": {
            "_dom_classes": [],
            "_model_module": "@jupyter-widgets/controls",
            "_model_module_version": "1.5.0",
            "_model_name": "FloatProgressModel",
            "_view_count": null,
            "_view_module": "@jupyter-widgets/controls",
            "_view_module_version": "1.5.0",
            "_view_name": "ProgressView",
            "bar_style": "success",
            "description": "",
            "description_tooltip": null,
            "layout": "IPY_MODEL_ae896b8ec1784780a75324b743ebffdd",
            "max": 86,
            "min": 0,
            "orientation": "horizontal",
            "style": "IPY_MODEL_c154ba3d4cd94965b53a27ee26b74c5e",
            "value": 86
          }
        },
        "719fc9855c9f4733bf76d719f308e2a4": {
          "model_module": "@jupyter-widgets/controls",
          "model_module_version": "1.5.0",
          "model_name": "HBoxModel",
          "state": {
            "_dom_classes": [],
            "_model_module": "@jupyter-widgets/controls",
            "_model_module_version": "1.5.0",
            "_model_name": "HBoxModel",
            "_view_count": null,
            "_view_module": "@jupyter-widgets/controls",
            "_view_module_version": "1.5.0",
            "_view_name": "HBoxView",
            "box_style": "",
            "children": [
              "IPY_MODEL_64683dc2b7f44efea96d32779b0ed301",
              "IPY_MODEL_ead1e419031c4aa0bdecbbcbe13dde59",
              "IPY_MODEL_ca260ba5556d4edd81dc3b7af1169818"
            ],
            "layout": "IPY_MODEL_b4a95a079e3c44048c0c8d2209dce6f8"
          }
        },
        "73174221f6a241918cdaf33edd02e01a": {
          "model_module": "@jupyter-widgets/controls",
          "model_module_version": "1.5.0",
          "model_name": "ProgressStyleModel",
          "state": {
            "_model_module": "@jupyter-widgets/controls",
            "_model_module_version": "1.5.0",
            "_model_name": "ProgressStyleModel",
            "_view_count": null,
            "_view_module": "@jupyter-widgets/base",
            "_view_module_version": "1.2.0",
            "_view_name": "StyleView",
            "bar_color": null,
            "description_width": ""
          }
        },
        "73d7653f866a4a73a61a8cead1bdd713": {
          "model_module": "@jupyter-widgets/base",
          "model_module_version": "1.2.0",
          "model_name": "LayoutModel",
          "state": {
            "_model_module": "@jupyter-widgets/base",
            "_model_module_version": "1.2.0",
            "_model_name": "LayoutModel",
            "_view_count": null,
            "_view_module": "@jupyter-widgets/base",
            "_view_module_version": "1.2.0",
            "_view_name": "LayoutView",
            "align_content": null,
            "align_items": null,
            "align_self": null,
            "border": null,
            "bottom": null,
            "display": null,
            "flex": null,
            "flex_flow": null,
            "grid_area": null,
            "grid_auto_columns": null,
            "grid_auto_flow": null,
            "grid_auto_rows": null,
            "grid_column": null,
            "grid_gap": null,
            "grid_row": null,
            "grid_template_areas": null,
            "grid_template_columns": null,
            "grid_template_rows": null,
            "height": null,
            "justify_content": null,
            "justify_items": null,
            "left": null,
            "margin": null,
            "max_height": null,
            "max_width": null,
            "min_height": null,
            "min_width": null,
            "object_fit": null,
            "object_position": null,
            "order": null,
            "overflow": null,
            "overflow_x": null,
            "overflow_y": null,
            "padding": null,
            "right": null,
            "top": null,
            "visibility": null,
            "width": null
          }
        },
        "7515bda69eb04e9f9732aaa9bedad370": {
          "model_module": "@jupyter-widgets/base",
          "model_module_version": "1.2.0",
          "model_name": "LayoutModel",
          "state": {
            "_model_module": "@jupyter-widgets/base",
            "_model_module_version": "1.2.0",
            "_model_name": "LayoutModel",
            "_view_count": null,
            "_view_module": "@jupyter-widgets/base",
            "_view_module_version": "1.2.0",
            "_view_name": "LayoutView",
            "align_content": null,
            "align_items": null,
            "align_self": null,
            "border": null,
            "bottom": null,
            "display": null,
            "flex": null,
            "flex_flow": null,
            "grid_area": null,
            "grid_auto_columns": null,
            "grid_auto_flow": null,
            "grid_auto_rows": null,
            "grid_column": null,
            "grid_gap": null,
            "grid_row": null,
            "grid_template_areas": null,
            "grid_template_columns": null,
            "grid_template_rows": null,
            "height": null,
            "justify_content": null,
            "justify_items": null,
            "left": null,
            "margin": null,
            "max_height": null,
            "max_width": null,
            "min_height": null,
            "min_width": null,
            "object_fit": null,
            "object_position": null,
            "order": null,
            "overflow": null,
            "overflow_x": null,
            "overflow_y": null,
            "padding": null,
            "right": null,
            "top": null,
            "visibility": null,
            "width": null
          }
        },
        "757684c0c98640d29fe9a463eb56fd73": {
          "model_module": "@jupyter-widgets/base",
          "model_module_version": "1.2.0",
          "model_name": "LayoutModel",
          "state": {
            "_model_module": "@jupyter-widgets/base",
            "_model_module_version": "1.2.0",
            "_model_name": "LayoutModel",
            "_view_count": null,
            "_view_module": "@jupyter-widgets/base",
            "_view_module_version": "1.2.0",
            "_view_name": "LayoutView",
            "align_content": null,
            "align_items": null,
            "align_self": null,
            "border": null,
            "bottom": null,
            "display": null,
            "flex": null,
            "flex_flow": null,
            "grid_area": null,
            "grid_auto_columns": null,
            "grid_auto_flow": null,
            "grid_auto_rows": null,
            "grid_column": null,
            "grid_gap": null,
            "grid_row": null,
            "grid_template_areas": null,
            "grid_template_columns": null,
            "grid_template_rows": null,
            "height": null,
            "justify_content": null,
            "justify_items": null,
            "left": null,
            "margin": null,
            "max_height": null,
            "max_width": null,
            "min_height": null,
            "min_width": null,
            "object_fit": null,
            "object_position": null,
            "order": null,
            "overflow": null,
            "overflow_x": null,
            "overflow_y": null,
            "padding": null,
            "right": null,
            "top": null,
            "visibility": null,
            "width": null
          }
        },
        "75c8d3ff26354da9be6f7f1276cbd016": {
          "model_module": "@jupyter-widgets/base",
          "model_module_version": "1.2.0",
          "model_name": "LayoutModel",
          "state": {
            "_model_module": "@jupyter-widgets/base",
            "_model_module_version": "1.2.0",
            "_model_name": "LayoutModel",
            "_view_count": null,
            "_view_module": "@jupyter-widgets/base",
            "_view_module_version": "1.2.0",
            "_view_name": "LayoutView",
            "align_content": null,
            "align_items": null,
            "align_self": null,
            "border": null,
            "bottom": null,
            "display": null,
            "flex": null,
            "flex_flow": null,
            "grid_area": null,
            "grid_auto_columns": null,
            "grid_auto_flow": null,
            "grid_auto_rows": null,
            "grid_column": null,
            "grid_gap": null,
            "grid_row": null,
            "grid_template_areas": null,
            "grid_template_columns": null,
            "grid_template_rows": null,
            "height": null,
            "justify_content": null,
            "justify_items": null,
            "left": null,
            "margin": null,
            "max_height": null,
            "max_width": null,
            "min_height": null,
            "min_width": null,
            "object_fit": null,
            "object_position": null,
            "order": null,
            "overflow": null,
            "overflow_x": null,
            "overflow_y": null,
            "padding": null,
            "right": null,
            "top": null,
            "visibility": null,
            "width": null
          }
        },
        "76d1c5efe6fc4d779bc954977b2edb16": {
          "model_module": "@jupyter-widgets/base",
          "model_module_version": "1.2.0",
          "model_name": "LayoutModel",
          "state": {
            "_model_module": "@jupyter-widgets/base",
            "_model_module_version": "1.2.0",
            "_model_name": "LayoutModel",
            "_view_count": null,
            "_view_module": "@jupyter-widgets/base",
            "_view_module_version": "1.2.0",
            "_view_name": "LayoutView",
            "align_content": null,
            "align_items": null,
            "align_self": null,
            "border": null,
            "bottom": null,
            "display": null,
            "flex": null,
            "flex_flow": null,
            "grid_area": null,
            "grid_auto_columns": null,
            "grid_auto_flow": null,
            "grid_auto_rows": null,
            "grid_column": null,
            "grid_gap": null,
            "grid_row": null,
            "grid_template_areas": null,
            "grid_template_columns": null,
            "grid_template_rows": null,
            "height": null,
            "justify_content": null,
            "justify_items": null,
            "left": null,
            "margin": null,
            "max_height": null,
            "max_width": null,
            "min_height": null,
            "min_width": null,
            "object_fit": null,
            "object_position": null,
            "order": null,
            "overflow": null,
            "overflow_x": null,
            "overflow_y": null,
            "padding": null,
            "right": null,
            "top": null,
            "visibility": null,
            "width": null
          }
        },
        "774b91e828694151ab96bbc8d74a28fd": {
          "model_module": "@jupyter-widgets/controls",
          "model_module_version": "1.5.0",
          "model_name": "FloatProgressModel",
          "state": {
            "_dom_classes": [],
            "_model_module": "@jupyter-widgets/controls",
            "_model_module_version": "1.5.0",
            "_model_name": "FloatProgressModel",
            "_view_count": null,
            "_view_module": "@jupyter-widgets/controls",
            "_view_module_version": "1.5.0",
            "_view_name": "ProgressView",
            "bar_style": "success",
            "description": "",
            "description_tooltip": null,
            "layout": "IPY_MODEL_abcd286e2d1e45c3a597af68add58640",
            "max": 8,
            "min": 0,
            "orientation": "horizontal",
            "style": "IPY_MODEL_81fa5cdf2772486992723ed644c448b4",
            "value": 8
          }
        },
        "7c7eb49a06fd4297afdba849e1aa8acd": {
          "model_module": "@jupyter-widgets/base",
          "model_module_version": "1.2.0",
          "model_name": "LayoutModel",
          "state": {
            "_model_module": "@jupyter-widgets/base",
            "_model_module_version": "1.2.0",
            "_model_name": "LayoutModel",
            "_view_count": null,
            "_view_module": "@jupyter-widgets/base",
            "_view_module_version": "1.2.0",
            "_view_name": "LayoutView",
            "align_content": null,
            "align_items": null,
            "align_self": null,
            "border": null,
            "bottom": null,
            "display": null,
            "flex": null,
            "flex_flow": null,
            "grid_area": null,
            "grid_auto_columns": null,
            "grid_auto_flow": null,
            "grid_auto_rows": null,
            "grid_column": null,
            "grid_gap": null,
            "grid_row": null,
            "grid_template_areas": null,
            "grid_template_columns": null,
            "grid_template_rows": null,
            "height": null,
            "justify_content": null,
            "justify_items": null,
            "left": null,
            "margin": null,
            "max_height": null,
            "max_width": null,
            "min_height": null,
            "min_width": null,
            "object_fit": null,
            "object_position": null,
            "order": null,
            "overflow": null,
            "overflow_x": null,
            "overflow_y": null,
            "padding": null,
            "right": null,
            "top": null,
            "visibility": null,
            "width": null
          }
        },
        "7d4c6e0f9fac475ab2df9ee642dcc6a4": {
          "model_module": "@jupyter-widgets/controls",
          "model_module_version": "1.5.0",
          "model_name": "ProgressStyleModel",
          "state": {
            "_model_module": "@jupyter-widgets/controls",
            "_model_module_version": "1.5.0",
            "_model_name": "ProgressStyleModel",
            "_view_count": null,
            "_view_module": "@jupyter-widgets/base",
            "_view_module_version": "1.2.0",
            "_view_name": "StyleView",
            "bar_color": null,
            "description_width": ""
          }
        },
        "7d92cd1e6e41443fbc14382ebf103865": {
          "model_module": "@jupyter-widgets/controls",
          "model_module_version": "1.5.0",
          "model_name": "HTMLModel",
          "state": {
            "_dom_classes": [],
            "_model_module": "@jupyter-widgets/controls",
            "_model_module_version": "1.5.0",
            "_model_name": "HTMLModel",
            "_view_count": null,
            "_view_module": "@jupyter-widgets/controls",
            "_view_module_version": "1.5.0",
            "_view_name": "HTMLView",
            "description": "",
            "description_tooltip": null,
            "layout": "IPY_MODEL_2909a1aa31714e7384546f1bd042c30e",
            "placeholder": "​",
            "style": "IPY_MODEL_2a3e0aed71034ee8b4be000289d64807",
            "value": " 8/8 [00:04&lt;00:00,  1.78it/s]"
          }
        },
        "81fa5cdf2772486992723ed644c448b4": {
          "model_module": "@jupyter-widgets/controls",
          "model_module_version": "1.5.0",
          "model_name": "ProgressStyleModel",
          "state": {
            "_model_module": "@jupyter-widgets/controls",
            "_model_module_version": "1.5.0",
            "_model_name": "ProgressStyleModel",
            "_view_count": null,
            "_view_module": "@jupyter-widgets/base",
            "_view_module_version": "1.2.0",
            "_view_name": "StyleView",
            "bar_color": null,
            "description_width": ""
          }
        },
        "856853582d37480d934e9f0119bb928c": {
          "model_module": "@jupyter-widgets/controls",
          "model_module_version": "1.5.0",
          "model_name": "HBoxModel",
          "state": {
            "_dom_classes": [],
            "_model_module": "@jupyter-widgets/controls",
            "_model_module_version": "1.5.0",
            "_model_name": "HBoxModel",
            "_view_count": null,
            "_view_module": "@jupyter-widgets/controls",
            "_view_module_version": "1.5.0",
            "_view_name": "HBoxView",
            "box_style": "",
            "children": [
              "IPY_MODEL_2a08af9a86364113b3e22925d337bce4",
              "IPY_MODEL_b59f460428534b25960af92dc833aa4d",
              "IPY_MODEL_0e86ad545d0946b8bbfc36c616376424"
            ],
            "layout": "IPY_MODEL_bd94c0a7cbf74a438811f29c621bccd8"
          }
        },
        "87454e72608b4118885b3de4cba12906": {
          "model_module": "@jupyter-widgets/base",
          "model_module_version": "1.2.0",
          "model_name": "LayoutModel",
          "state": {
            "_model_module": "@jupyter-widgets/base",
            "_model_module_version": "1.2.0",
            "_model_name": "LayoutModel",
            "_view_count": null,
            "_view_module": "@jupyter-widgets/base",
            "_view_module_version": "1.2.0",
            "_view_name": "LayoutView",
            "align_content": null,
            "align_items": null,
            "align_self": null,
            "border": null,
            "bottom": null,
            "display": null,
            "flex": null,
            "flex_flow": null,
            "grid_area": null,
            "grid_auto_columns": null,
            "grid_auto_flow": null,
            "grid_auto_rows": null,
            "grid_column": null,
            "grid_gap": null,
            "grid_row": null,
            "grid_template_areas": null,
            "grid_template_columns": null,
            "grid_template_rows": null,
            "height": null,
            "justify_content": null,
            "justify_items": null,
            "left": null,
            "margin": null,
            "max_height": null,
            "max_width": null,
            "min_height": null,
            "min_width": null,
            "object_fit": null,
            "object_position": null,
            "order": null,
            "overflow": null,
            "overflow_x": null,
            "overflow_y": null,
            "padding": null,
            "right": null,
            "top": null,
            "visibility": null,
            "width": null
          }
        },
        "8893489158a5488b83d0e7591e51b26a": {
          "model_module": "@jupyter-widgets/controls",
          "model_module_version": "1.5.0",
          "model_name": "DescriptionStyleModel",
          "state": {
            "_model_module": "@jupyter-widgets/controls",
            "_model_module_version": "1.5.0",
            "_model_name": "DescriptionStyleModel",
            "_view_count": null,
            "_view_module": "@jupyter-widgets/base",
            "_view_module_version": "1.2.0",
            "_view_name": "StyleView",
            "description_width": ""
          }
        },
        "8bdd4095bdf34e10b0bf1b57c0895b27": {
          "model_module": "@jupyter-widgets/controls",
          "model_module_version": "1.5.0",
          "model_name": "ProgressStyleModel",
          "state": {
            "_model_module": "@jupyter-widgets/controls",
            "_model_module_version": "1.5.0",
            "_model_name": "ProgressStyleModel",
            "_view_count": null,
            "_view_module": "@jupyter-widgets/base",
            "_view_module_version": "1.2.0",
            "_view_name": "StyleView",
            "bar_color": null,
            "description_width": ""
          }
        },
        "8c031b381b1146d9ba7cfec1f64aa0d0": {
          "model_module": "@jupyter-widgets/controls",
          "model_module_version": "1.5.0",
          "model_name": "HTMLModel",
          "state": {
            "_dom_classes": [],
            "_model_module": "@jupyter-widgets/controls",
            "_model_module_version": "1.5.0",
            "_model_name": "HTMLModel",
            "_view_count": null,
            "_view_module": "@jupyter-widgets/controls",
            "_view_module_version": "1.5.0",
            "_view_name": "HTMLView",
            "description": "",
            "description_tooltip": null,
            "layout": "IPY_MODEL_8d7367312cb243dbb4196143093d3060",
            "placeholder": "​",
            "style": "IPY_MODEL_26c32f9167fe450a9d2756198c36edf6",
            "value": "val: 100%"
          }
        },
        "8cc4acb62fc24e1f958c9d92c0bf02da": {
          "model_module": "@jupyter-widgets/controls",
          "model_module_version": "1.5.0",
          "model_name": "FloatProgressModel",
          "state": {
            "_dom_classes": [],
            "_model_module": "@jupyter-widgets/controls",
            "_model_module_version": "1.5.0",
            "_model_name": "FloatProgressModel",
            "_view_count": null,
            "_view_module": "@jupyter-widgets/controls",
            "_view_module_version": "1.5.0",
            "_view_name": "ProgressView",
            "bar_style": "success",
            "description": "",
            "description_tooltip": null,
            "layout": "IPY_MODEL_757684c0c98640d29fe9a463eb56fd73",
            "max": 433,
            "min": 0,
            "orientation": "horizontal",
            "style": "IPY_MODEL_7d4c6e0f9fac475ab2df9ee642dcc6a4",
            "value": 433
          }
        },
        "8cd62f56a41a466aa0fd99d73b591be7": {
          "model_module": "@jupyter-widgets/base",
          "model_module_version": "1.2.0",
          "model_name": "LayoutModel",
          "state": {
            "_model_module": "@jupyter-widgets/base",
            "_model_module_version": "1.2.0",
            "_model_name": "LayoutModel",
            "_view_count": null,
            "_view_module": "@jupyter-widgets/base",
            "_view_module_version": "1.2.0",
            "_view_name": "LayoutView",
            "align_content": null,
            "align_items": null,
            "align_self": null,
            "border": null,
            "bottom": null,
            "display": null,
            "flex": null,
            "flex_flow": null,
            "grid_area": null,
            "grid_auto_columns": null,
            "grid_auto_flow": null,
            "grid_auto_rows": null,
            "grid_column": null,
            "grid_gap": null,
            "grid_row": null,
            "grid_template_areas": null,
            "grid_template_columns": null,
            "grid_template_rows": null,
            "height": null,
            "justify_content": null,
            "justify_items": null,
            "left": null,
            "margin": null,
            "max_height": null,
            "max_width": null,
            "min_height": null,
            "min_width": null,
            "object_fit": null,
            "object_position": null,
            "order": null,
            "overflow": null,
            "overflow_x": null,
            "overflow_y": null,
            "padding": null,
            "right": null,
            "top": null,
            "visibility": null,
            "width": null
          }
        },
        "8d7367312cb243dbb4196143093d3060": {
          "model_module": "@jupyter-widgets/base",
          "model_module_version": "1.2.0",
          "model_name": "LayoutModel",
          "state": {
            "_model_module": "@jupyter-widgets/base",
            "_model_module_version": "1.2.0",
            "_model_name": "LayoutModel",
            "_view_count": null,
            "_view_module": "@jupyter-widgets/base",
            "_view_module_version": "1.2.0",
            "_view_name": "LayoutView",
            "align_content": null,
            "align_items": null,
            "align_self": null,
            "border": null,
            "bottom": null,
            "display": null,
            "flex": null,
            "flex_flow": null,
            "grid_area": null,
            "grid_auto_columns": null,
            "grid_auto_flow": null,
            "grid_auto_rows": null,
            "grid_column": null,
            "grid_gap": null,
            "grid_row": null,
            "grid_template_areas": null,
            "grid_template_columns": null,
            "grid_template_rows": null,
            "height": null,
            "justify_content": null,
            "justify_items": null,
            "left": null,
            "margin": null,
            "max_height": null,
            "max_width": null,
            "min_height": null,
            "min_width": null,
            "object_fit": null,
            "object_position": null,
            "order": null,
            "overflow": null,
            "overflow_x": null,
            "overflow_y": null,
            "padding": null,
            "right": null,
            "top": null,
            "visibility": null,
            "width": null
          }
        },
        "8f40b22046be4c3cbdaef78e319d812e": {
          "model_module": "@jupyter-widgets/controls",
          "model_module_version": "1.5.0",
          "model_name": "HTMLModel",
          "state": {
            "_dom_classes": [],
            "_model_module": "@jupyter-widgets/controls",
            "_model_module_version": "1.5.0",
            "_model_name": "HTMLModel",
            "_view_count": null,
            "_view_module": "@jupyter-widgets/controls",
            "_view_module_version": "1.5.0",
            "_view_name": "HTMLView",
            "description": "",
            "description_tooltip": null,
            "layout": "IPY_MODEL_f1e8d0543d07406a997ecbceaa703614",
            "placeholder": "​",
            "style": "IPY_MODEL_1604aca00ab2456aa52fea2f202f1029",
            "value": "train: 100%"
          }
        },
        "91da75965289496c835da2e26bf3548c": {
          "model_module": "@jupyter-widgets/controls",
          "model_module_version": "1.5.0",
          "model_name": "HTMLModel",
          "state": {
            "_dom_classes": [],
            "_model_module": "@jupyter-widgets/controls",
            "_model_module_version": "1.5.0",
            "_model_name": "HTMLModel",
            "_view_count": null,
            "_view_module": "@jupyter-widgets/controls",
            "_view_module_version": "1.5.0",
            "_view_name": "HTMLView",
            "description": "",
            "description_tooltip": null,
            "layout": "IPY_MODEL_29c9a6cbf10743d68f830605327ef035",
            "placeholder": "​",
            "style": "IPY_MODEL_97951011c0ac492eac9d491be5a13584",
            "value": "train: 100%"
          }
        },
        "938231097f25404fa7734c5c244fc2dd": {
          "model_module": "@jupyter-widgets/base",
          "model_module_version": "1.2.0",
          "model_name": "LayoutModel",
          "state": {
            "_model_module": "@jupyter-widgets/base",
            "_model_module_version": "1.2.0",
            "_model_name": "LayoutModel",
            "_view_count": null,
            "_view_module": "@jupyter-widgets/base",
            "_view_module_version": "1.2.0",
            "_view_name": "LayoutView",
            "align_content": null,
            "align_items": null,
            "align_self": null,
            "border": null,
            "bottom": null,
            "display": null,
            "flex": null,
            "flex_flow": null,
            "grid_area": null,
            "grid_auto_columns": null,
            "grid_auto_flow": null,
            "grid_auto_rows": null,
            "grid_column": null,
            "grid_gap": null,
            "grid_row": null,
            "grid_template_areas": null,
            "grid_template_columns": null,
            "grid_template_rows": null,
            "height": null,
            "justify_content": null,
            "justify_items": null,
            "left": null,
            "margin": null,
            "max_height": null,
            "max_width": null,
            "min_height": null,
            "min_width": null,
            "object_fit": null,
            "object_position": null,
            "order": null,
            "overflow": null,
            "overflow_x": null,
            "overflow_y": null,
            "padding": null,
            "right": null,
            "top": null,
            "visibility": null,
            "width": null
          }
        },
        "97951011c0ac492eac9d491be5a13584": {
          "model_module": "@jupyter-widgets/controls",
          "model_module_version": "1.5.0",
          "model_name": "DescriptionStyleModel",
          "state": {
            "_model_module": "@jupyter-widgets/controls",
            "_model_module_version": "1.5.0",
            "_model_name": "DescriptionStyleModel",
            "_view_count": null,
            "_view_module": "@jupyter-widgets/base",
            "_view_module_version": "1.2.0",
            "_view_name": "StyleView",
            "description_width": ""
          }
        },
        "98e34f300bef44e2adbf18c375eadcf9": {
          "model_module": "@jupyter-widgets/controls",
          "model_module_version": "1.5.0",
          "model_name": "ProgressStyleModel",
          "state": {
            "_model_module": "@jupyter-widgets/controls",
            "_model_module_version": "1.5.0",
            "_model_name": "ProgressStyleModel",
            "_view_count": null,
            "_view_module": "@jupyter-widgets/base",
            "_view_module_version": "1.2.0",
            "_view_name": "StyleView",
            "bar_color": null,
            "description_width": ""
          }
        },
        "9a3e48ba00544a2c98861b297f80cc90": {
          "model_module": "@jupyter-widgets/controls",
          "model_module_version": "1.5.0",
          "model_name": "DescriptionStyleModel",
          "state": {
            "_model_module": "@jupyter-widgets/controls",
            "_model_module_version": "1.5.0",
            "_model_name": "DescriptionStyleModel",
            "_view_count": null,
            "_view_module": "@jupyter-widgets/base",
            "_view_module_version": "1.2.0",
            "_view_name": "StyleView",
            "description_width": ""
          }
        },
        "9d03aff980a94902a6e8a84859cef49c": {
          "model_module": "@jupyter-widgets/controls",
          "model_module_version": "1.5.0",
          "model_name": "HTMLModel",
          "state": {
            "_dom_classes": [],
            "_model_module": "@jupyter-widgets/controls",
            "_model_module_version": "1.5.0",
            "_model_name": "HTMLModel",
            "_view_count": null,
            "_view_module": "@jupyter-widgets/controls",
            "_view_module_version": "1.5.0",
            "_view_name": "HTMLView",
            "description": "",
            "description_tooltip": null,
            "layout": "IPY_MODEL_aaecd325480b4344a039dec7d620cafd",
            "placeholder": "​",
            "style": "IPY_MODEL_9d0acbb48ee84abaa5c428de2318537f",
            "value": " 445M/445M [00:02&lt;00:00, 212MB/s]"
          }
        },
        "9d0acbb48ee84abaa5c428de2318537f": {
          "model_module": "@jupyter-widgets/controls",
          "model_module_version": "1.5.0",
          "model_name": "DescriptionStyleModel",
          "state": {
            "_model_module": "@jupyter-widgets/controls",
            "_model_module_version": "1.5.0",
            "_model_name": "DescriptionStyleModel",
            "_view_count": null,
            "_view_module": "@jupyter-widgets/base",
            "_view_module_version": "1.2.0",
            "_view_name": "StyleView",
            "description_width": ""
          }
        },
        "9d988f97bbbf494cbd229b00c03ae36d": {
          "model_module": "@jupyter-widgets/controls",
          "model_module_version": "1.5.0",
          "model_name": "ProgressStyleModel",
          "state": {
            "_model_module": "@jupyter-widgets/controls",
            "_model_module_version": "1.5.0",
            "_model_name": "ProgressStyleModel",
            "_view_count": null,
            "_view_module": "@jupyter-widgets/base",
            "_view_module_version": "1.2.0",
            "_view_name": "StyleView",
            "bar_color": null,
            "description_width": ""
          }
        },
        "9dd7430b26c540b7ad46f4a29b529b4f": {
          "model_module": "@jupyter-widgets/controls",
          "model_module_version": "1.5.0",
          "model_name": "HTMLModel",
          "state": {
            "_dom_classes": [],
            "_model_module": "@jupyter-widgets/controls",
            "_model_module_version": "1.5.0",
            "_model_name": "HTMLModel",
            "_view_count": null,
            "_view_module": "@jupyter-widgets/controls",
            "_view_module_version": "1.5.0",
            "_view_name": "HTMLView",
            "description": "",
            "description_tooltip": null,
            "layout": "IPY_MODEL_2bbd2dbab86e4068a720e9ade80a5777",
            "placeholder": "​",
            "style": "IPY_MODEL_8893489158a5488b83d0e7591e51b26a",
            "value": "epoch:   0%"
          }
        },
        "9ff25db09d304b0c90e883a151896753": {
          "model_module": "@jupyter-widgets/controls",
          "model_module_version": "1.5.0",
          "model_name": "DescriptionStyleModel",
          "state": {
            "_model_module": "@jupyter-widgets/controls",
            "_model_module_version": "1.5.0",
            "_model_name": "DescriptionStyleModel",
            "_view_count": null,
            "_view_module": "@jupyter-widgets/base",
            "_view_module_version": "1.2.0",
            "_view_name": "StyleView",
            "description_width": ""
          }
        },
        "a051e3095e4347c7bde36ed8a3ea5fc9": {
          "model_module": "@jupyter-widgets/controls",
          "model_module_version": "1.5.0",
          "model_name": "HTMLModel",
          "state": {
            "_dom_classes": [],
            "_model_module": "@jupyter-widgets/controls",
            "_model_module_version": "1.5.0",
            "_model_name": "HTMLModel",
            "_view_count": null,
            "_view_module": "@jupyter-widgets/controls",
            "_view_module_version": "1.5.0",
            "_view_name": "HTMLView",
            "description": "",
            "description_tooltip": null,
            "layout": "IPY_MODEL_1e7a23a34fbb435aa84afbc2f6ece35a",
            "placeholder": "​",
            "style": "IPY_MODEL_51cac7aeb76a498e98c3158103d168f4",
            "value": "tokenizer_config.json: 100%"
          }
        },
        "a0c5a02636274330a111449b104c166f": {
          "model_module": "@jupyter-widgets/controls",
          "model_module_version": "1.5.0",
          "model_name": "DescriptionStyleModel",
          "state": {
            "_model_module": "@jupyter-widgets/controls",
            "_model_module_version": "1.5.0",
            "_model_name": "DescriptionStyleModel",
            "_view_count": null,
            "_view_module": "@jupyter-widgets/base",
            "_view_module_version": "1.2.0",
            "_view_name": "StyleView",
            "description_width": ""
          }
        },
        "a0d137ffe5e74a6da093543609406389": {
          "model_module": "@jupyter-widgets/controls",
          "model_module_version": "1.5.0",
          "model_name": "FloatProgressModel",
          "state": {
            "_dom_classes": [],
            "_model_module": "@jupyter-widgets/controls",
            "_model_module_version": "1.5.0",
            "_model_name": "FloatProgressModel",
            "_view_count": null,
            "_view_module": "@jupyter-widgets/controls",
            "_view_module_version": "1.5.0",
            "_view_name": "ProgressView",
            "bar_style": "success",
            "description": "",
            "description_tooltip": null,
            "layout": "IPY_MODEL_c7d66dabc7014491aaa3baf4c76387d1",
            "max": 59,
            "min": 0,
            "orientation": "horizontal",
            "style": "IPY_MODEL_1860cec1c5e74119b9092c5b01c94f77",
            "value": 59
          }
        },
        "a346237d8bd143e6be55fa365f96847b": {
          "model_module": "@jupyter-widgets/controls",
          "model_module_version": "1.5.0",
          "model_name": "FloatProgressModel",
          "state": {
            "_dom_classes": [],
            "_model_module": "@jupyter-widgets/controls",
            "_model_module_version": "1.5.0",
            "_model_name": "FloatProgressModel",
            "_view_count": null,
            "_view_module": "@jupyter-widgets/controls",
            "_view_module_version": "1.5.0",
            "_view_name": "ProgressView",
            "bar_style": "danger",
            "description": "",
            "description_tooltip": null,
            "layout": "IPY_MODEL_581667effe7c4d979fb207d41bc4475c",
            "max": 1000,
            "min": 0,
            "orientation": "horizontal",
            "style": "IPY_MODEL_9d988f97bbbf494cbd229b00c03ae36d",
            "value": 2
          }
        },
        "a7c7c2823a9f4dec930ad9119317ab1d": {
          "model_module": "@jupyter-widgets/base",
          "model_module_version": "1.2.0",
          "model_name": "LayoutModel",
          "state": {
            "_model_module": "@jupyter-widgets/base",
            "_model_module_version": "1.2.0",
            "_model_name": "LayoutModel",
            "_view_count": null,
            "_view_module": "@jupyter-widgets/base",
            "_view_module_version": "1.2.0",
            "_view_name": "LayoutView",
            "align_content": null,
            "align_items": null,
            "align_self": null,
            "border": null,
            "bottom": null,
            "display": null,
            "flex": null,
            "flex_flow": null,
            "grid_area": null,
            "grid_auto_columns": null,
            "grid_auto_flow": null,
            "grid_auto_rows": null,
            "grid_column": null,
            "grid_gap": null,
            "grid_row": null,
            "grid_template_areas": null,
            "grid_template_columns": null,
            "grid_template_rows": null,
            "height": null,
            "justify_content": null,
            "justify_items": null,
            "left": null,
            "margin": null,
            "max_height": null,
            "max_width": null,
            "min_height": null,
            "min_width": null,
            "object_fit": null,
            "object_position": null,
            "order": null,
            "overflow": null,
            "overflow_x": null,
            "overflow_y": null,
            "padding": null,
            "right": null,
            "top": null,
            "visibility": null,
            "width": null
          }
        },
        "aaecd325480b4344a039dec7d620cafd": {
          "model_module": "@jupyter-widgets/base",
          "model_module_version": "1.2.0",
          "model_name": "LayoutModel",
          "state": {
            "_model_module": "@jupyter-widgets/base",
            "_model_module_version": "1.2.0",
            "_model_name": "LayoutModel",
            "_view_count": null,
            "_view_module": "@jupyter-widgets/base",
            "_view_module_version": "1.2.0",
            "_view_name": "LayoutView",
            "align_content": null,
            "align_items": null,
            "align_self": null,
            "border": null,
            "bottom": null,
            "display": null,
            "flex": null,
            "flex_flow": null,
            "grid_area": null,
            "grid_auto_columns": null,
            "grid_auto_flow": null,
            "grid_auto_rows": null,
            "grid_column": null,
            "grid_gap": null,
            "grid_row": null,
            "grid_template_areas": null,
            "grid_template_columns": null,
            "grid_template_rows": null,
            "height": null,
            "justify_content": null,
            "justify_items": null,
            "left": null,
            "margin": null,
            "max_height": null,
            "max_width": null,
            "min_height": null,
            "min_width": null,
            "object_fit": null,
            "object_position": null,
            "order": null,
            "overflow": null,
            "overflow_x": null,
            "overflow_y": null,
            "padding": null,
            "right": null,
            "top": null,
            "visibility": null,
            "width": null
          }
        },
        "ab69272d18714c45a53c3877a60562b0": {
          "model_module": "@jupyter-widgets/controls",
          "model_module_version": "1.5.0",
          "model_name": "HBoxModel",
          "state": {
            "_dom_classes": [],
            "_model_module": "@jupyter-widgets/controls",
            "_model_module_version": "1.5.0",
            "_model_name": "HBoxModel",
            "_view_count": null,
            "_view_module": "@jupyter-widgets/controls",
            "_view_module_version": "1.5.0",
            "_view_name": "HBoxView",
            "box_style": "",
            "children": [
              "IPY_MODEL_fcf8c06ba3d848eb9c5caabfb007d8dc",
              "IPY_MODEL_8cc4acb62fc24e1f958c9d92c0bf02da",
              "IPY_MODEL_d5ddab0a82904ad9be2077e10e59f39c"
            ],
            "layout": "IPY_MODEL_4cc841f86a914a74940dc34375565093"
          }
        },
        "abcd286e2d1e45c3a597af68add58640": {
          "model_module": "@jupyter-widgets/base",
          "model_module_version": "1.2.0",
          "model_name": "LayoutModel",
          "state": {
            "_model_module": "@jupyter-widgets/base",
            "_model_module_version": "1.2.0",
            "_model_name": "LayoutModel",
            "_view_count": null,
            "_view_module": "@jupyter-widgets/base",
            "_view_module_version": "1.2.0",
            "_view_name": "LayoutView",
            "align_content": null,
            "align_items": null,
            "align_self": null,
            "border": null,
            "bottom": null,
            "display": null,
            "flex": null,
            "flex_flow": null,
            "grid_area": null,
            "grid_auto_columns": null,
            "grid_auto_flow": null,
            "grid_auto_rows": null,
            "grid_column": null,
            "grid_gap": null,
            "grid_row": null,
            "grid_template_areas": null,
            "grid_template_columns": null,
            "grid_template_rows": null,
            "height": null,
            "justify_content": null,
            "justify_items": null,
            "left": null,
            "margin": null,
            "max_height": null,
            "max_width": null,
            "min_height": null,
            "min_width": null,
            "object_fit": null,
            "object_position": null,
            "order": null,
            "overflow": null,
            "overflow_x": null,
            "overflow_y": null,
            "padding": null,
            "right": null,
            "top": null,
            "visibility": null,
            "width": null
          }
        },
        "ae896b8ec1784780a75324b743ebffdd": {
          "model_module": "@jupyter-widgets/base",
          "model_module_version": "1.2.0",
          "model_name": "LayoutModel",
          "state": {
            "_model_module": "@jupyter-widgets/base",
            "_model_module_version": "1.2.0",
            "_model_name": "LayoutModel",
            "_view_count": null,
            "_view_module": "@jupyter-widgets/base",
            "_view_module_version": "1.2.0",
            "_view_name": "LayoutView",
            "align_content": null,
            "align_items": null,
            "align_self": null,
            "border": null,
            "bottom": null,
            "display": null,
            "flex": null,
            "flex_flow": null,
            "grid_area": null,
            "grid_auto_columns": null,
            "grid_auto_flow": null,
            "grid_auto_rows": null,
            "grid_column": null,
            "grid_gap": null,
            "grid_row": null,
            "grid_template_areas": null,
            "grid_template_columns": null,
            "grid_template_rows": null,
            "height": null,
            "justify_content": null,
            "justify_items": null,
            "left": null,
            "margin": null,
            "max_height": null,
            "max_width": null,
            "min_height": null,
            "min_width": null,
            "object_fit": null,
            "object_position": null,
            "order": null,
            "overflow": null,
            "overflow_x": null,
            "overflow_y": null,
            "padding": null,
            "right": null,
            "top": null,
            "visibility": null,
            "width": null
          }
        },
        "b1aadf2f8df541febc8da0cf30f7d4ff": {
          "model_module": "@jupyter-widgets/base",
          "model_module_version": "1.2.0",
          "model_name": "LayoutModel",
          "state": {
            "_model_module": "@jupyter-widgets/base",
            "_model_module_version": "1.2.0",
            "_model_name": "LayoutModel",
            "_view_count": null,
            "_view_module": "@jupyter-widgets/base",
            "_view_module_version": "1.2.0",
            "_view_name": "LayoutView",
            "align_content": null,
            "align_items": null,
            "align_self": null,
            "border": null,
            "bottom": null,
            "display": null,
            "flex": null,
            "flex_flow": null,
            "grid_area": null,
            "grid_auto_columns": null,
            "grid_auto_flow": null,
            "grid_auto_rows": null,
            "grid_column": null,
            "grid_gap": null,
            "grid_row": null,
            "grid_template_areas": null,
            "grid_template_columns": null,
            "grid_template_rows": null,
            "height": null,
            "justify_content": null,
            "justify_items": null,
            "left": null,
            "margin": null,
            "max_height": null,
            "max_width": null,
            "min_height": null,
            "min_width": null,
            "object_fit": null,
            "object_position": null,
            "order": null,
            "overflow": null,
            "overflow_x": null,
            "overflow_y": null,
            "padding": null,
            "right": null,
            "top": null,
            "visibility": null,
            "width": null
          }
        },
        "b4a95a079e3c44048c0c8d2209dce6f8": {
          "model_module": "@jupyter-widgets/base",
          "model_module_version": "1.2.0",
          "model_name": "LayoutModel",
          "state": {
            "_model_module": "@jupyter-widgets/base",
            "_model_module_version": "1.2.0",
            "_model_name": "LayoutModel",
            "_view_count": null,
            "_view_module": "@jupyter-widgets/base",
            "_view_module_version": "1.2.0",
            "_view_name": "LayoutView",
            "align_content": null,
            "align_items": null,
            "align_self": null,
            "border": null,
            "bottom": null,
            "display": null,
            "flex": null,
            "flex_flow": null,
            "grid_area": null,
            "grid_auto_columns": null,
            "grid_auto_flow": null,
            "grid_auto_rows": null,
            "grid_column": null,
            "grid_gap": null,
            "grid_row": null,
            "grid_template_areas": null,
            "grid_template_columns": null,
            "grid_template_rows": null,
            "height": null,
            "justify_content": null,
            "justify_items": null,
            "left": null,
            "margin": null,
            "max_height": null,
            "max_width": null,
            "min_height": null,
            "min_width": null,
            "object_fit": null,
            "object_position": null,
            "order": null,
            "overflow": null,
            "overflow_x": null,
            "overflow_y": null,
            "padding": null,
            "right": null,
            "top": null,
            "visibility": null,
            "width": null
          }
        },
        "b593ff9aaa464f21b3fb680496a5b50e": {
          "model_module": "@jupyter-widgets/base",
          "model_module_version": "1.2.0",
          "model_name": "LayoutModel",
          "state": {
            "_model_module": "@jupyter-widgets/base",
            "_model_module_version": "1.2.0",
            "_model_name": "LayoutModel",
            "_view_count": null,
            "_view_module": "@jupyter-widgets/base",
            "_view_module_version": "1.2.0",
            "_view_name": "LayoutView",
            "align_content": null,
            "align_items": null,
            "align_self": null,
            "border": null,
            "bottom": null,
            "display": null,
            "flex": null,
            "flex_flow": null,
            "grid_area": null,
            "grid_auto_columns": null,
            "grid_auto_flow": null,
            "grid_auto_rows": null,
            "grid_column": null,
            "grid_gap": null,
            "grid_row": null,
            "grid_template_areas": null,
            "grid_template_columns": null,
            "grid_template_rows": null,
            "height": null,
            "justify_content": null,
            "justify_items": null,
            "left": null,
            "margin": null,
            "max_height": null,
            "max_width": null,
            "min_height": null,
            "min_width": null,
            "object_fit": null,
            "object_position": null,
            "order": null,
            "overflow": null,
            "overflow_x": null,
            "overflow_y": null,
            "padding": null,
            "right": null,
            "top": null,
            "visibility": null,
            "width": null
          }
        },
        "b59f460428534b25960af92dc833aa4d": {
          "model_module": "@jupyter-widgets/controls",
          "model_module_version": "1.5.0",
          "model_name": "FloatProgressModel",
          "state": {
            "_dom_classes": [],
            "_model_module": "@jupyter-widgets/controls",
            "_model_module_version": "1.5.0",
            "_model_name": "FloatProgressModel",
            "_view_count": null,
            "_view_module": "@jupyter-widgets/controls",
            "_view_module_version": "1.5.0",
            "_view_name": "ProgressView",
            "bar_style": "success",
            "description": "",
            "description_tooltip": null,
            "layout": "IPY_MODEL_938231097f25404fa7734c5c244fc2dd",
            "max": 242585,
            "min": 0,
            "orientation": "horizontal",
            "style": "IPY_MODEL_ccb8b612976a4582a1bfbfeaec5f829a",
            "value": 242585
          }
        },
        "b689cdb4d3234237a96e7b583015df57": {
          "model_module": "@jupyter-widgets/controls",
          "model_module_version": "1.5.0",
          "model_name": "HBoxModel",
          "state": {
            "_dom_classes": [],
            "_model_module": "@jupyter-widgets/controls",
            "_model_module_version": "1.5.0",
            "_model_name": "HBoxModel",
            "_view_count": null,
            "_view_module": "@jupyter-widgets/controls",
            "_view_module_version": "1.5.0",
            "_view_name": "HBoxView",
            "box_style": "",
            "children": [
              "IPY_MODEL_91da75965289496c835da2e26bf3548c",
              "IPY_MODEL_1faf04ac7fa14f4e93f3f6def0011384",
              "IPY_MODEL_2ae888f72a3f48169ae7e1639206ff7c"
            ],
            "layout": "IPY_MODEL_feb223589be84c8787d49b1f707dfb67"
          }
        },
        "b9db5dbb56e14692b962c6181c8dd05b": {
          "model_module": "@jupyter-widgets/base",
          "model_module_version": "1.2.0",
          "model_name": "LayoutModel",
          "state": {
            "_model_module": "@jupyter-widgets/base",
            "_model_module_version": "1.2.0",
            "_model_name": "LayoutModel",
            "_view_count": null,
            "_view_module": "@jupyter-widgets/base",
            "_view_module_version": "1.2.0",
            "_view_name": "LayoutView",
            "align_content": null,
            "align_items": null,
            "align_self": null,
            "border": null,
            "bottom": null,
            "display": null,
            "flex": null,
            "flex_flow": null,
            "grid_area": null,
            "grid_auto_columns": null,
            "grid_auto_flow": null,
            "grid_auto_rows": null,
            "grid_column": null,
            "grid_gap": null,
            "grid_row": null,
            "grid_template_areas": null,
            "grid_template_columns": null,
            "grid_template_rows": null,
            "height": null,
            "justify_content": null,
            "justify_items": null,
            "left": null,
            "margin": null,
            "max_height": null,
            "max_width": null,
            "min_height": null,
            "min_width": null,
            "object_fit": null,
            "object_position": null,
            "order": null,
            "overflow": null,
            "overflow_x": null,
            "overflow_y": null,
            "padding": null,
            "right": null,
            "top": null,
            "visibility": null,
            "width": null
          }
        },
        "ba090e769b6f4b8f8667e97769eb7300": {
          "model_module": "@jupyter-widgets/base",
          "model_module_version": "1.2.0",
          "model_name": "LayoutModel",
          "state": {
            "_model_module": "@jupyter-widgets/base",
            "_model_module_version": "1.2.0",
            "_model_name": "LayoutModel",
            "_view_count": null,
            "_view_module": "@jupyter-widgets/base",
            "_view_module_version": "1.2.0",
            "_view_name": "LayoutView",
            "align_content": null,
            "align_items": null,
            "align_self": null,
            "border": null,
            "bottom": null,
            "display": null,
            "flex": null,
            "flex_flow": null,
            "grid_area": null,
            "grid_auto_columns": null,
            "grid_auto_flow": null,
            "grid_auto_rows": null,
            "grid_column": null,
            "grid_gap": null,
            "grid_row": null,
            "grid_template_areas": null,
            "grid_template_columns": null,
            "grid_template_rows": null,
            "height": null,
            "justify_content": null,
            "justify_items": null,
            "left": null,
            "margin": null,
            "max_height": null,
            "max_width": null,
            "min_height": null,
            "min_width": null,
            "object_fit": null,
            "object_position": null,
            "order": null,
            "overflow": null,
            "overflow_x": null,
            "overflow_y": null,
            "padding": null,
            "right": null,
            "top": null,
            "visibility": null,
            "width": null
          }
        },
        "bd94c0a7cbf74a438811f29c621bccd8": {
          "model_module": "@jupyter-widgets/base",
          "model_module_version": "1.2.0",
          "model_name": "LayoutModel",
          "state": {
            "_model_module": "@jupyter-widgets/base",
            "_model_module_version": "1.2.0",
            "_model_name": "LayoutModel",
            "_view_count": null,
            "_view_module": "@jupyter-widgets/base",
            "_view_module_version": "1.2.0",
            "_view_name": "LayoutView",
            "align_content": null,
            "align_items": null,
            "align_self": null,
            "border": null,
            "bottom": null,
            "display": null,
            "flex": null,
            "flex_flow": null,
            "grid_area": null,
            "grid_auto_columns": null,
            "grid_auto_flow": null,
            "grid_auto_rows": null,
            "grid_column": null,
            "grid_gap": null,
            "grid_row": null,
            "grid_template_areas": null,
            "grid_template_columns": null,
            "grid_template_rows": null,
            "height": null,
            "justify_content": null,
            "justify_items": null,
            "left": null,
            "margin": null,
            "max_height": null,
            "max_width": null,
            "min_height": null,
            "min_width": null,
            "object_fit": null,
            "object_position": null,
            "order": null,
            "overflow": null,
            "overflow_x": null,
            "overflow_y": null,
            "padding": null,
            "right": null,
            "top": null,
            "visibility": null,
            "width": null
          }
        },
        "c154ba3d4cd94965b53a27ee26b74c5e": {
          "model_module": "@jupyter-widgets/controls",
          "model_module_version": "1.5.0",
          "model_name": "ProgressStyleModel",
          "state": {
            "_model_module": "@jupyter-widgets/controls",
            "_model_module_version": "1.5.0",
            "_model_name": "ProgressStyleModel",
            "_view_count": null,
            "_view_module": "@jupyter-widgets/base",
            "_view_module_version": "1.2.0",
            "_view_name": "StyleView",
            "bar_color": null,
            "description_width": ""
          }
        },
        "c7d66dabc7014491aaa3baf4c76387d1": {
          "model_module": "@jupyter-widgets/base",
          "model_module_version": "1.2.0",
          "model_name": "LayoutModel",
          "state": {
            "_model_module": "@jupyter-widgets/base",
            "_model_module_version": "1.2.0",
            "_model_name": "LayoutModel",
            "_view_count": null,
            "_view_module": "@jupyter-widgets/base",
            "_view_module_version": "1.2.0",
            "_view_name": "LayoutView",
            "align_content": null,
            "align_items": null,
            "align_self": null,
            "border": null,
            "bottom": null,
            "display": null,
            "flex": null,
            "flex_flow": null,
            "grid_area": null,
            "grid_auto_columns": null,
            "grid_auto_flow": null,
            "grid_auto_rows": null,
            "grid_column": null,
            "grid_gap": null,
            "grid_row": null,
            "grid_template_areas": null,
            "grid_template_columns": null,
            "grid_template_rows": null,
            "height": null,
            "justify_content": null,
            "justify_items": null,
            "left": null,
            "margin": null,
            "max_height": null,
            "max_width": null,
            "min_height": null,
            "min_width": null,
            "object_fit": null,
            "object_position": null,
            "order": null,
            "overflow": null,
            "overflow_x": null,
            "overflow_y": null,
            "padding": null,
            "right": null,
            "top": null,
            "visibility": null,
            "width": null
          }
        },
        "c831ebdf6b9f4b0ca5a853f22e1d4879": {
          "model_module": "@jupyter-widgets/base",
          "model_module_version": "1.2.0",
          "model_name": "LayoutModel",
          "state": {
            "_model_module": "@jupyter-widgets/base",
            "_model_module_version": "1.2.0",
            "_model_name": "LayoutModel",
            "_view_count": null,
            "_view_module": "@jupyter-widgets/base",
            "_view_module_version": "1.2.0",
            "_view_name": "LayoutView",
            "align_content": null,
            "align_items": null,
            "align_self": null,
            "border": null,
            "bottom": null,
            "display": null,
            "flex": null,
            "flex_flow": null,
            "grid_area": null,
            "grid_auto_columns": null,
            "grid_auto_flow": null,
            "grid_auto_rows": null,
            "grid_column": null,
            "grid_gap": null,
            "grid_row": null,
            "grid_template_areas": null,
            "grid_template_columns": null,
            "grid_template_rows": null,
            "height": null,
            "justify_content": null,
            "justify_items": null,
            "left": null,
            "margin": null,
            "max_height": null,
            "max_width": null,
            "min_height": null,
            "min_width": null,
            "object_fit": null,
            "object_position": null,
            "order": null,
            "overflow": null,
            "overflow_x": null,
            "overflow_y": null,
            "padding": null,
            "right": null,
            "top": null,
            "visibility": null,
            "width": null
          }
        },
        "ca260ba5556d4edd81dc3b7af1169818": {
          "model_module": "@jupyter-widgets/controls",
          "model_module_version": "1.5.0",
          "model_name": "HTMLModel",
          "state": {
            "_dom_classes": [],
            "_model_module": "@jupyter-widgets/controls",
            "_model_module_version": "1.5.0",
            "_model_name": "HTMLModel",
            "_view_count": null,
            "_view_module": "@jupyter-widgets/controls",
            "_view_module_version": "1.5.0",
            "_view_name": "HTMLView",
            "description": "",
            "description_tooltip": null,
            "layout": "IPY_MODEL_d75fe565c78e4633b6591b85bec672cf",
            "placeholder": "​",
            "style": "IPY_MODEL_288d1994cd9c4ab69a849a0092a6e635",
            "value": " 86/86 [00:35&lt;00:00,  2.12it/s]"
          }
        },
        "ccb8b612976a4582a1bfbfeaec5f829a": {
          "model_module": "@jupyter-widgets/controls",
          "model_module_version": "1.5.0",
          "model_name": "ProgressStyleModel",
          "state": {
            "_model_module": "@jupyter-widgets/controls",
            "_model_module_version": "1.5.0",
            "_model_name": "ProgressStyleModel",
            "_view_count": null,
            "_view_module": "@jupyter-widgets/base",
            "_view_module_version": "1.2.0",
            "_view_name": "StyleView",
            "bar_color": null,
            "description_width": ""
          }
        },
        "d103a877c9b04c3f8b0654a443616364": {
          "model_module": "@jupyter-widgets/base",
          "model_module_version": "1.2.0",
          "model_name": "LayoutModel",
          "state": {
            "_model_module": "@jupyter-widgets/base",
            "_model_module_version": "1.2.0",
            "_model_name": "LayoutModel",
            "_view_count": null,
            "_view_module": "@jupyter-widgets/base",
            "_view_module_version": "1.2.0",
            "_view_name": "LayoutView",
            "align_content": null,
            "align_items": null,
            "align_self": null,
            "border": null,
            "bottom": null,
            "display": null,
            "flex": null,
            "flex_flow": null,
            "grid_area": null,
            "grid_auto_columns": null,
            "grid_auto_flow": null,
            "grid_auto_rows": null,
            "grid_column": null,
            "grid_gap": null,
            "grid_row": null,
            "grid_template_areas": null,
            "grid_template_columns": null,
            "grid_template_rows": null,
            "height": null,
            "justify_content": null,
            "justify_items": null,
            "left": null,
            "margin": null,
            "max_height": null,
            "max_width": null,
            "min_height": null,
            "min_width": null,
            "object_fit": null,
            "object_position": null,
            "order": null,
            "overflow": null,
            "overflow_x": null,
            "overflow_y": null,
            "padding": null,
            "right": null,
            "top": null,
            "visibility": null,
            "width": null
          }
        },
        "d4847fbb142f4232923c62a5ab4e79ee": {
          "model_module": "@jupyter-widgets/base",
          "model_module_version": "1.2.0",
          "model_name": "LayoutModel",
          "state": {
            "_model_module": "@jupyter-widgets/base",
            "_model_module_version": "1.2.0",
            "_model_name": "LayoutModel",
            "_view_count": null,
            "_view_module": "@jupyter-widgets/base",
            "_view_module_version": "1.2.0",
            "_view_name": "LayoutView",
            "align_content": null,
            "align_items": null,
            "align_self": null,
            "border": null,
            "bottom": null,
            "display": null,
            "flex": null,
            "flex_flow": null,
            "grid_area": null,
            "grid_auto_columns": null,
            "grid_auto_flow": null,
            "grid_auto_rows": null,
            "grid_column": null,
            "grid_gap": null,
            "grid_row": null,
            "grid_template_areas": null,
            "grid_template_columns": null,
            "grid_template_rows": null,
            "height": null,
            "justify_content": null,
            "justify_items": null,
            "left": null,
            "margin": null,
            "max_height": null,
            "max_width": null,
            "min_height": null,
            "min_width": null,
            "object_fit": null,
            "object_position": null,
            "order": null,
            "overflow": null,
            "overflow_x": null,
            "overflow_y": null,
            "padding": null,
            "right": null,
            "top": null,
            "visibility": null,
            "width": null
          }
        },
        "d546db7723f54cb0a777cd47acdef42a": {
          "model_module": "@jupyter-widgets/controls",
          "model_module_version": "1.5.0",
          "model_name": "HBoxModel",
          "state": {
            "_dom_classes": [],
            "_model_module": "@jupyter-widgets/controls",
            "_model_module_version": "1.5.0",
            "_model_name": "HBoxModel",
            "_view_count": null,
            "_view_module": "@jupyter-widgets/controls",
            "_view_module_version": "1.5.0",
            "_view_name": "HBoxView",
            "box_style": "",
            "children": [
              "IPY_MODEL_8c031b381b1146d9ba7cfec1f64aa0d0",
              "IPY_MODEL_3435048ccc8e49fd9c89afc48bb7cc1e",
              "IPY_MODEL_7d92cd1e6e41443fbc14382ebf103865"
            ],
            "layout": "IPY_MODEL_b1aadf2f8df541febc8da0cf30f7d4ff"
          }
        },
        "d5ddab0a82904ad9be2077e10e59f39c": {
          "model_module": "@jupyter-widgets/controls",
          "model_module_version": "1.5.0",
          "model_name": "HTMLModel",
          "state": {
            "_dom_classes": [],
            "_model_module": "@jupyter-widgets/controls",
            "_model_module_version": "1.5.0",
            "_model_name": "HTMLModel",
            "_view_count": null,
            "_view_module": "@jupyter-widgets/controls",
            "_view_module_version": "1.5.0",
            "_view_name": "HTMLView",
            "description": "",
            "description_tooltip": null,
            "layout": "IPY_MODEL_75c8d3ff26354da9be6f7f1276cbd016",
            "placeholder": "​",
            "style": "IPY_MODEL_e5014f40d8a44e11938a7a2ae2674034",
            "value": " 433/433 [00:00&lt;00:00, 7.57kB/s]"
          }
        },
        "d75fe565c78e4633b6591b85bec672cf": {
          "model_module": "@jupyter-widgets/base",
          "model_module_version": "1.2.0",
          "model_name": "LayoutModel",
          "state": {
            "_model_module": "@jupyter-widgets/base",
            "_model_module_version": "1.2.0",
            "_model_name": "LayoutModel",
            "_view_count": null,
            "_view_module": "@jupyter-widgets/base",
            "_view_module_version": "1.2.0",
            "_view_name": "LayoutView",
            "align_content": null,
            "align_items": null,
            "align_self": null,
            "border": null,
            "bottom": null,
            "display": null,
            "flex": null,
            "flex_flow": null,
            "grid_area": null,
            "grid_auto_columns": null,
            "grid_auto_flow": null,
            "grid_auto_rows": null,
            "grid_column": null,
            "grid_gap": null,
            "grid_row": null,
            "grid_template_areas": null,
            "grid_template_columns": null,
            "grid_template_rows": null,
            "height": null,
            "justify_content": null,
            "justify_items": null,
            "left": null,
            "margin": null,
            "max_height": null,
            "max_width": null,
            "min_height": null,
            "min_width": null,
            "object_fit": null,
            "object_position": null,
            "order": null,
            "overflow": null,
            "overflow_x": null,
            "overflow_y": null,
            "padding": null,
            "right": null,
            "top": null,
            "visibility": null,
            "width": null
          }
        },
        "d788a443c54c4f22ae1d0fc457486995": {
          "model_module": "@jupyter-widgets/controls",
          "model_module_version": "1.5.0",
          "model_name": "FloatProgressModel",
          "state": {
            "_dom_classes": [],
            "_model_module": "@jupyter-widgets/controls",
            "_model_module_version": "1.5.0",
            "_model_name": "FloatProgressModel",
            "_view_count": null,
            "_view_module": "@jupyter-widgets/controls",
            "_view_module_version": "1.5.0",
            "_view_name": "ProgressView",
            "bar_style": "success",
            "description": "",
            "description_tooltip": null,
            "layout": "IPY_MODEL_fa100802ddee4d3eb4b0ff85e1081997",
            "max": 445309892,
            "min": 0,
            "orientation": "horizontal",
            "style": "IPY_MODEL_73174221f6a241918cdaf33edd02e01a",
            "value": 445309892
          }
        },
        "db1b2781dcae487d9ab148818e9b0a3c": {
          "model_module": "@jupyter-widgets/controls",
          "model_module_version": "1.5.0",
          "model_name": "HTMLModel",
          "state": {
            "_dom_classes": [],
            "_model_module": "@jupyter-widgets/controls",
            "_model_module_version": "1.5.0",
            "_model_name": "HTMLModel",
            "_view_count": null,
            "_view_module": "@jupyter-widgets/controls",
            "_view_module_version": "1.5.0",
            "_view_name": "HTMLView",
            "description": "",
            "description_tooltip": null,
            "layout": "IPY_MODEL_73d7653f866a4a73a61a8cead1bdd713",
            "placeholder": "​",
            "style": "IPY_MODEL_9ff25db09d304b0c90e883a151896753",
            "value": "val: 100%"
          }
        },
        "dd3a0d79076743ba8cc08a8758b3896c": {
          "model_module": "@jupyter-widgets/base",
          "model_module_version": "1.2.0",
          "model_name": "LayoutModel",
          "state": {
            "_model_module": "@jupyter-widgets/base",
            "_model_module_version": "1.2.0",
            "_model_name": "LayoutModel",
            "_view_count": null,
            "_view_module": "@jupyter-widgets/base",
            "_view_module_version": "1.2.0",
            "_view_name": "LayoutView",
            "align_content": null,
            "align_items": null,
            "align_self": null,
            "border": null,
            "bottom": null,
            "display": null,
            "flex": null,
            "flex_flow": null,
            "grid_area": null,
            "grid_auto_columns": null,
            "grid_auto_flow": null,
            "grid_auto_rows": null,
            "grid_column": null,
            "grid_gap": null,
            "grid_row": null,
            "grid_template_areas": null,
            "grid_template_columns": null,
            "grid_template_rows": null,
            "height": null,
            "justify_content": null,
            "justify_items": null,
            "left": null,
            "margin": null,
            "max_height": null,
            "max_width": null,
            "min_height": null,
            "min_width": null,
            "object_fit": null,
            "object_position": null,
            "order": null,
            "overflow": null,
            "overflow_x": null,
            "overflow_y": null,
            "padding": null,
            "right": null,
            "top": null,
            "visibility": null,
            "width": null
          }
        },
        "e10d8c73c7f84539870f39410c57019c": {
          "model_module": "@jupyter-widgets/controls",
          "model_module_version": "1.5.0",
          "model_name": "HBoxModel",
          "state": {
            "_dom_classes": [],
            "_model_module": "@jupyter-widgets/controls",
            "_model_module_version": "1.5.0",
            "_model_name": "HBoxModel",
            "_view_count": null,
            "_view_module": "@jupyter-widgets/controls",
            "_view_module_version": "1.5.0",
            "_view_name": "HBoxView",
            "box_style": "",
            "children": [
              "IPY_MODEL_545e4bf8ad2f49c8993b25911089becf",
              "IPY_MODEL_774b91e828694151ab96bbc8d74a28fd",
              "IPY_MODEL_5ebcaf973e254b61bab8a0ef7e635853"
            ],
            "layout": "IPY_MODEL_e24e391dbe0e49b983224875b73bdf8a"
          }
        },
        "e13d61559bce424b98a63b4589cd5333": {
          "model_module": "@jupyter-widgets/base",
          "model_module_version": "1.2.0",
          "model_name": "LayoutModel",
          "state": {
            "_model_module": "@jupyter-widgets/base",
            "_model_module_version": "1.2.0",
            "_model_name": "LayoutModel",
            "_view_count": null,
            "_view_module": "@jupyter-widgets/base",
            "_view_module_version": "1.2.0",
            "_view_name": "LayoutView",
            "align_content": null,
            "align_items": null,
            "align_self": null,
            "border": null,
            "bottom": null,
            "display": null,
            "flex": null,
            "flex_flow": null,
            "grid_area": null,
            "grid_auto_columns": null,
            "grid_auto_flow": null,
            "grid_auto_rows": null,
            "grid_column": null,
            "grid_gap": null,
            "grid_row": null,
            "grid_template_areas": null,
            "grid_template_columns": null,
            "grid_template_rows": null,
            "height": null,
            "justify_content": null,
            "justify_items": null,
            "left": null,
            "margin": null,
            "max_height": null,
            "max_width": null,
            "min_height": null,
            "min_width": null,
            "object_fit": null,
            "object_position": null,
            "order": null,
            "overflow": null,
            "overflow_x": null,
            "overflow_y": null,
            "padding": null,
            "right": null,
            "top": null,
            "visibility": null,
            "width": null
          }
        },
        "e24e391dbe0e49b983224875b73bdf8a": {
          "model_module": "@jupyter-widgets/base",
          "model_module_version": "1.2.0",
          "model_name": "LayoutModel",
          "state": {
            "_model_module": "@jupyter-widgets/base",
            "_model_module_version": "1.2.0",
            "_model_name": "LayoutModel",
            "_view_count": null,
            "_view_module": "@jupyter-widgets/base",
            "_view_module_version": "1.2.0",
            "_view_name": "LayoutView",
            "align_content": null,
            "align_items": null,
            "align_self": null,
            "border": null,
            "bottom": null,
            "display": null,
            "flex": null,
            "flex_flow": null,
            "grid_area": null,
            "grid_auto_columns": null,
            "grid_auto_flow": null,
            "grid_auto_rows": null,
            "grid_column": null,
            "grid_gap": null,
            "grid_row": null,
            "grid_template_areas": null,
            "grid_template_columns": null,
            "grid_template_rows": null,
            "height": null,
            "justify_content": null,
            "justify_items": null,
            "left": null,
            "margin": null,
            "max_height": null,
            "max_width": null,
            "min_height": null,
            "min_width": null,
            "object_fit": null,
            "object_position": null,
            "order": null,
            "overflow": null,
            "overflow_x": null,
            "overflow_y": null,
            "padding": null,
            "right": null,
            "top": null,
            "visibility": null,
            "width": null
          }
        },
        "e2d65f6641594b7682d3c0a134a216cb": {
          "model_module": "@jupyter-widgets/controls",
          "model_module_version": "1.5.0",
          "model_name": "HTMLModel",
          "state": {
            "_dom_classes": [],
            "_model_module": "@jupyter-widgets/controls",
            "_model_module_version": "1.5.0",
            "_model_name": "HTMLModel",
            "_view_count": null,
            "_view_module": "@jupyter-widgets/controls",
            "_view_module_version": "1.5.0",
            "_view_name": "HTMLView",
            "description": "",
            "description_tooltip": null,
            "layout": "IPY_MODEL_673d6211e93f4fc2b031539c5d901305",
            "placeholder": "​",
            "style": "IPY_MODEL_436d5cc6fe09444aaf87db5692785792",
            "value": "model.safetensors: 100%"
          }
        },
        "e35f129d4e5e467eb2d5a9646c314fd7": {
          "model_module": "@jupyter-widgets/controls",
          "model_module_version": "1.5.0",
          "model_name": "DescriptionStyleModel",
          "state": {
            "_model_module": "@jupyter-widgets/controls",
            "_model_module_version": "1.5.0",
            "_model_name": "DescriptionStyleModel",
            "_view_count": null,
            "_view_module": "@jupyter-widgets/base",
            "_view_module_version": "1.2.0",
            "_view_name": "StyleView",
            "description_width": ""
          }
        },
        "e5014f40d8a44e11938a7a2ae2674034": {
          "model_module": "@jupyter-widgets/controls",
          "model_module_version": "1.5.0",
          "model_name": "DescriptionStyleModel",
          "state": {
            "_model_module": "@jupyter-widgets/controls",
            "_model_module_version": "1.5.0",
            "_model_name": "DescriptionStyleModel",
            "_view_count": null,
            "_view_module": "@jupyter-widgets/base",
            "_view_module_version": "1.2.0",
            "_view_name": "StyleView",
            "description_width": ""
          }
        },
        "e5a7407b84a4408f928172a4413b8e60": {
          "model_module": "@jupyter-widgets/controls",
          "model_module_version": "1.5.0",
          "model_name": "DescriptionStyleModel",
          "state": {
            "_model_module": "@jupyter-widgets/controls",
            "_model_module_version": "1.5.0",
            "_model_name": "DescriptionStyleModel",
            "_view_count": null,
            "_view_module": "@jupyter-widgets/base",
            "_view_module_version": "1.2.0",
            "_view_name": "StyleView",
            "description_width": ""
          }
        },
        "e932bdaa2441424080cbb1c34ebbcb84": {
          "model_module": "@jupyter-widgets/base",
          "model_module_version": "1.2.0",
          "model_name": "LayoutModel",
          "state": {
            "_model_module": "@jupyter-widgets/base",
            "_model_module_version": "1.2.0",
            "_model_name": "LayoutModel",
            "_view_count": null,
            "_view_module": "@jupyter-widgets/base",
            "_view_module_version": "1.2.0",
            "_view_name": "LayoutView",
            "align_content": null,
            "align_items": null,
            "align_self": null,
            "border": null,
            "bottom": null,
            "display": null,
            "flex": null,
            "flex_flow": null,
            "grid_area": null,
            "grid_auto_columns": null,
            "grid_auto_flow": null,
            "grid_auto_rows": null,
            "grid_column": null,
            "grid_gap": null,
            "grid_row": null,
            "grid_template_areas": null,
            "grid_template_columns": null,
            "grid_template_rows": null,
            "height": null,
            "justify_content": null,
            "justify_items": null,
            "left": null,
            "margin": null,
            "max_height": null,
            "max_width": null,
            "min_height": null,
            "min_width": null,
            "object_fit": null,
            "object_position": null,
            "order": null,
            "overflow": null,
            "overflow_x": null,
            "overflow_y": null,
            "padding": null,
            "right": null,
            "top": null,
            "visibility": null,
            "width": null
          }
        },
        "ead1e419031c4aa0bdecbbcbe13dde59": {
          "model_module": "@jupyter-widgets/controls",
          "model_module_version": "1.5.0",
          "model_name": "FloatProgressModel",
          "state": {
            "_dom_classes": [],
            "_model_module": "@jupyter-widgets/controls",
            "_model_module_version": "1.5.0",
            "_model_name": "FloatProgressModel",
            "_view_count": null,
            "_view_module": "@jupyter-widgets/controls",
            "_view_module_version": "1.5.0",
            "_view_name": "ProgressView",
            "bar_style": "success",
            "description": "",
            "description_tooltip": null,
            "layout": "IPY_MODEL_d103a877c9b04c3f8b0654a443616364",
            "max": 86,
            "min": 0,
            "orientation": "horizontal",
            "style": "IPY_MODEL_1b1823885387476eb9187b58ce5f5780",
            "value": 86
          }
        },
        "ef0ea79aadca4d8ca3f1fca7f8934506": {
          "model_module": "@jupyter-widgets/controls",
          "model_module_version": "1.5.0",
          "model_name": "HTMLModel",
          "state": {
            "_dom_classes": [],
            "_model_module": "@jupyter-widgets/controls",
            "_model_module_version": "1.5.0",
            "_model_name": "HTMLModel",
            "_view_count": null,
            "_view_module": "@jupyter-widgets/controls",
            "_view_module_version": "1.5.0",
            "_view_name": "HTMLView",
            "description": "",
            "description_tooltip": null,
            "layout": "IPY_MODEL_d4847fbb142f4232923c62a5ab4e79ee",
            "placeholder": "​",
            "style": "IPY_MODEL_2e567a066d4a48038c751f794fe306e2",
            "value": " 2/1000 [02:05&lt;11:45:01, 42.39s/it]"
          }
        },
        "f0858254bbbb42c8ba1fd372e43d7c03": {
          "model_module": "@jupyter-widgets/controls",
          "model_module_version": "1.5.0",
          "model_name": "HTMLModel",
          "state": {
            "_dom_classes": [],
            "_model_module": "@jupyter-widgets/controls",
            "_model_module_version": "1.5.0",
            "_model_name": "HTMLModel",
            "_view_count": null,
            "_view_module": "@jupyter-widgets/controls",
            "_view_module_version": "1.5.0",
            "_view_name": "HTMLView",
            "description": "",
            "description_tooltip": null,
            "layout": "IPY_MODEL_5c8dc17f47b54663b68bca9450ca3b45",
            "placeholder": "​",
            "style": "IPY_MODEL_38848f69ed8a44efb3afc54273c3b68e",
            "value": " 86/86 [00:40&lt;00:00,  2.30it/s]"
          }
        },
        "f1e8d0543d07406a997ecbceaa703614": {
          "model_module": "@jupyter-widgets/base",
          "model_module_version": "1.2.0",
          "model_name": "LayoutModel",
          "state": {
            "_model_module": "@jupyter-widgets/base",
            "_model_module_version": "1.2.0",
            "_model_name": "LayoutModel",
            "_view_count": null,
            "_view_module": "@jupyter-widgets/base",
            "_view_module_version": "1.2.0",
            "_view_name": "LayoutView",
            "align_content": null,
            "align_items": null,
            "align_self": null,
            "border": null,
            "bottom": null,
            "display": null,
            "flex": null,
            "flex_flow": null,
            "grid_area": null,
            "grid_auto_columns": null,
            "grid_auto_flow": null,
            "grid_auto_rows": null,
            "grid_column": null,
            "grid_gap": null,
            "grid_row": null,
            "grid_template_areas": null,
            "grid_template_columns": null,
            "grid_template_rows": null,
            "height": null,
            "justify_content": null,
            "justify_items": null,
            "left": null,
            "margin": null,
            "max_height": null,
            "max_width": null,
            "min_height": null,
            "min_width": null,
            "object_fit": null,
            "object_position": null,
            "order": null,
            "overflow": null,
            "overflow_x": null,
            "overflow_y": null,
            "padding": null,
            "right": null,
            "top": null,
            "visibility": null,
            "width": null
          }
        },
        "fa100802ddee4d3eb4b0ff85e1081997": {
          "model_module": "@jupyter-widgets/base",
          "model_module_version": "1.2.0",
          "model_name": "LayoutModel",
          "state": {
            "_model_module": "@jupyter-widgets/base",
            "_model_module_version": "1.2.0",
            "_model_name": "LayoutModel",
            "_view_count": null,
            "_view_module": "@jupyter-widgets/base",
            "_view_module_version": "1.2.0",
            "_view_name": "LayoutView",
            "align_content": null,
            "align_items": null,
            "align_self": null,
            "border": null,
            "bottom": null,
            "display": null,
            "flex": null,
            "flex_flow": null,
            "grid_area": null,
            "grid_auto_columns": null,
            "grid_auto_flow": null,
            "grid_auto_rows": null,
            "grid_column": null,
            "grid_gap": null,
            "grid_row": null,
            "grid_template_areas": null,
            "grid_template_columns": null,
            "grid_template_rows": null,
            "height": null,
            "justify_content": null,
            "justify_items": null,
            "left": null,
            "margin": null,
            "max_height": null,
            "max_width": null,
            "min_height": null,
            "min_width": null,
            "object_fit": null,
            "object_position": null,
            "order": null,
            "overflow": null,
            "overflow_x": null,
            "overflow_y": null,
            "padding": null,
            "right": null,
            "top": null,
            "visibility": null,
            "width": null
          }
        },
        "fcf8c06ba3d848eb9c5caabfb007d8dc": {
          "model_module": "@jupyter-widgets/controls",
          "model_module_version": "1.5.0",
          "model_name": "HTMLModel",
          "state": {
            "_dom_classes": [],
            "_model_module": "@jupyter-widgets/controls",
            "_model_module_version": "1.5.0",
            "_model_name": "HTMLModel",
            "_view_count": null,
            "_view_module": "@jupyter-widgets/controls",
            "_view_module_version": "1.5.0",
            "_view_name": "HTMLView",
            "description": "",
            "description_tooltip": null,
            "layout": "IPY_MODEL_a7c7c2823a9f4dec930ad9119317ab1d",
            "placeholder": "​",
            "style": "IPY_MODEL_295abf8b768146e2b5093277efaf5edf",
            "value": "config.json: 100%"
          }
        },
        "feb223589be84c8787d49b1f707dfb67": {
          "model_module": "@jupyter-widgets/base",
          "model_module_version": "1.2.0",
          "model_name": "LayoutModel",
          "state": {
            "_model_module": "@jupyter-widgets/base",
            "_model_module_version": "1.2.0",
            "_model_name": "LayoutModel",
            "_view_count": null,
            "_view_module": "@jupyter-widgets/base",
            "_view_module_version": "1.2.0",
            "_view_name": "LayoutView",
            "align_content": null,
            "align_items": null,
            "align_self": null,
            "border": null,
            "bottom": null,
            "display": null,
            "flex": null,
            "flex_flow": null,
            "grid_area": null,
            "grid_auto_columns": null,
            "grid_auto_flow": null,
            "grid_auto_rows": null,
            "grid_column": null,
            "grid_gap": null,
            "grid_row": null,
            "grid_template_areas": null,
            "grid_template_columns": null,
            "grid_template_rows": null,
            "height": null,
            "justify_content": null,
            "justify_items": null,
            "left": null,
            "margin": null,
            "max_height": null,
            "max_width": null,
            "min_height": null,
            "min_width": null,
            "object_fit": null,
            "object_position": null,
            "order": null,
            "overflow": null,
            "overflow_x": null,
            "overflow_y": null,
            "padding": null,
            "right": null,
            "top": null,
            "visibility": null,
            "width": null
          }
        },
        "fef4ec16af144107b9ced81801424c7d": {
          "model_module": "@jupyter-widgets/base",
          "model_module_version": "1.2.0",
          "model_name": "LayoutModel",
          "state": {
            "_model_module": "@jupyter-widgets/base",
            "_model_module_version": "1.2.0",
            "_model_name": "LayoutModel",
            "_view_count": null,
            "_view_module": "@jupyter-widgets/base",
            "_view_module_version": "1.2.0",
            "_view_name": "LayoutView",
            "align_content": null,
            "align_items": null,
            "align_self": null,
            "border": null,
            "bottom": null,
            "display": null,
            "flex": null,
            "flex_flow": null,
            "grid_area": null,
            "grid_auto_columns": null,
            "grid_auto_flow": null,
            "grid_auto_rows": null,
            "grid_column": null,
            "grid_gap": null,
            "grid_row": null,
            "grid_template_areas": null,
            "grid_template_columns": null,
            "grid_template_rows": null,
            "height": null,
            "justify_content": null,
            "justify_items": null,
            "left": null,
            "margin": null,
            "max_height": null,
            "max_width": null,
            "min_height": null,
            "min_width": null,
            "object_fit": null,
            "object_position": null,
            "order": null,
            "overflow": null,
            "overflow_x": null,
            "overflow_y": null,
            "padding": null,
            "right": null,
            "top": null,
            "visibility": null,
            "width": null
          }
        }
      }
    }
  },
  "nbformat": 4,
  "nbformat_minor": 0
}
