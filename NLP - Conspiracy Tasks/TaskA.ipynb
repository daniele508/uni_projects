{
  "cells": [
    {
      "cell_type": "markdown",
      "metadata": {
        "id": "Q0Tikqzex-2S"
      },
      "source": [
        "Installazione delle librerie aggiuntive necessarie\n",
        "\n",
        "*   `emoji`: fornisce funzionalità per lavorare con emoticon e caratteri emoji in Python\n",
        "*   `fasttext`: libreria per calcolare gli embedding di parole, utilizzata in uno dei diversi approcci del data augmentation\n",
        "* `nlpaug`: libreria per effettuare data augmentation di testo. Essa offre tecniche per generare varianti del testo originale\n",
        "*   `sentence-transformers`: framework per calcolare gli embeddings di frasi"
      ]
    },
    {
      "cell_type": "code",
      "execution_count": null,
      "metadata": {
        "colab": {
          "base_uri": "https://localhost:8080/"
        },
        "execution": {
          "iopub.execute_input": "2024-01-03T15:04:55.594693Z",
          "iopub.status.busy": "2024-01-03T15:04:55.593727Z",
          "iopub.status.idle": "2024-01-03T15:05:30.732737Z",
          "shell.execute_reply": "2024-01-03T15:05:30.731620Z",
          "shell.execute_reply.started": "2024-01-03T15:04:55.594656Z"
        },
        "id": "v3GRuW-0x9mN",
        "outputId": "89f00e51-f7d1-48c2-d0f6-fa1b4c08e01e",
        "trusted": true
      },
      "outputs": [],
      "source": [
        "!pip install emoji\n",
        "!pip install fasttext\n",
        "!pip install nlpaug\n",
        "!pip install sentence-transformers"
      ]
    },
    {
      "cell_type": "markdown",
      "metadata": {
        "id": "FKQt5REX5hd6"
      },
      "source": [
        "Import delle librerie utili."
      ]
    },
    {
      "cell_type": "code",
      "execution_count": null,
      "metadata": {
        "execution": {
          "iopub.execute_input": "2024-01-03T15:05:30.735377Z",
          "iopub.status.busy": "2024-01-03T15:05:30.735049Z",
          "iopub.status.idle": "2024-01-03T15:05:30.741798Z",
          "shell.execute_reply": "2024-01-03T15:05:30.740749Z",
          "shell.execute_reply.started": "2024-01-03T15:05:30.735345Z"
        },
        "id": "6IALyjrl3mQY",
        "trusted": true
      },
      "outputs": [],
      "source": [
        "import pandas as pd\n",
        "import numpy as np\n",
        "import emoji\n",
        "import nltk\n",
        "import random\n",
        "import fasttext.util\n",
        "import gc\n",
        "import nlpaug.augmenter.word as naw\n",
        "import torch\n",
        "import seaborn as sns\n",
        "import matplotlib.pyplot as plt\n",
        "from torch import nn\n",
        "from tqdm.auto import tqdm\n",
        "from scipy.spatial.distance import cosine\n",
        "from sklearn.model_selection import train_test_split\n",
        "from torch.optim import Adam\n",
        "from nltk.corpus import wordnet as wn\n",
        "from transformers import AutoConfig, AutoModel, AutoTokenizer\n",
        "from sentence_transformers import SentenceTransformer\n",
        "from sklearn.metrics import f1_score\n",
        "from google.colab import drive"
      ]
    },
    {
      "cell_type": "code",
      "execution_count": null,
      "metadata": {
        "colab": {
          "base_uri": "https://localhost:8080/"
        },
        "id": "V4ONN6nq16M9",
        "outputId": "97ccd5c0-862b-4241-b0ee-561bfa11569b"
      },
      "outputs": [],
      "source": [
        "root = '/content/drive/MyDrive/Colab Notebooks/Competizione/data/taskA/'\n",
        "drive.mount('/content/drive')"
      ]
    },
    {
      "cell_type": "markdown",
      "metadata": {
        "id": "NwXqnvlp1dvJ"
      },
      "source": [
        "Vengono caricati i dati di train."
      ]
    },
    {
      "cell_type": "code",
      "execution_count": null,
      "metadata": {
        "execution": {
          "iopub.execute_input": "2024-01-03T15:05:30.743399Z",
          "iopub.status.busy": "2024-01-03T15:05:30.743028Z",
          "iopub.status.idle": "2024-01-03T15:05:30.777905Z",
          "shell.execute_reply": "2024-01-03T15:05:30.777193Z",
          "shell.execute_reply.started": "2024-01-03T15:05:30.743364Z"
        },
        "id": "plxjm1Tx1dvK",
        "trusted": true
      },
      "outputs": [],
      "source": [
        "train_A = pd.read_csv(root + \"subtaskA_train.csv\", index_col=\"Id\")\n",
        "df_train_A = train_A.copy()"
      ]
    },
    {
      "cell_type": "markdown",
      "metadata": {
        "id": "Il69VsEp1dvK"
      },
      "source": [
        "**POSSIBILI FEATURES IN PIÙ**"
      ]
    },
    {
      "cell_type": "markdown",
      "metadata": {
        "id": "QEamEWqdOPQJ"
      },
      "source": [
        "Si definiscono i metodi che servono per valutare le eventuali features aggiuntive per ogni sentence."
      ]
    },
    {
      "cell_type": "code",
      "execution_count": null,
      "metadata": {
        "execution": {
          "iopub.execute_input": "2024-01-03T15:05:30.780318Z",
          "iopub.status.busy": "2024-01-03T15:05:30.780034Z",
          "iopub.status.idle": "2024-01-03T15:05:30.789626Z",
          "shell.execute_reply": "2024-01-03T15:05:30.788693Z",
          "shell.execute_reply.started": "2024-01-03T15:05:30.780293Z"
        },
        "id": "alXjdCO5OMLl",
        "trusted": true
      },
      "outputs": [],
      "source": [
        "def check_keyword(sentence, key):\n",
        "    sentence=sentence.split()\n",
        "    for word in sentence:\n",
        "        if word.lower() == key:\n",
        "            return 1\n",
        "    return 0\n",
        "\n",
        "def check_caps(sentence, range):\n",
        "    inizio, fine = range\n",
        "    sentence=sentence.split()\n",
        "    count=0\n",
        "    for word in sentence:\n",
        "        if word == word.upper():\n",
        "            count+=1\n",
        "    if count>=inizio and count<fine:\n",
        "      return 1\n",
        "    return 0\n",
        "\n",
        "def check_stem(sentence, stem):\n",
        "    sentence=sentence.split()\n",
        "    for word in sentence:\n",
        "        word=word.lower()\n",
        "        if len(word) >=len(stem) and word[:len(stem)]==stem:\n",
        "            return 1\n",
        "    return 0\n",
        "\n",
        "def check_esclamazioni(sentence, range):\n",
        "    inizio, fine = range\n",
        "    count=0\n",
        "    for character in sentence:\n",
        "        if character==\"!\":\n",
        "            count+=1\n",
        "    if count>=inizio and count<fine:\n",
        "        return 1\n",
        "    return 0\n",
        "\n",
        "def check_emoji(sentence, e):\n",
        "    emoji_list = emoji.distinct_emoji_list(sentence)\n",
        "    if e in emoji_list:\n",
        "        return 1\n",
        "    return 0"
      ]
    },
    {
      "cell_type": "markdown",
      "metadata": {
        "id": "vtO3lYX5U79J"
      },
      "source": [
        "Viene definito il dizionario delle features aggiuntive.\n"
      ]
    },
    {
      "cell_type": "code",
      "execution_count": null,
      "metadata": {
        "execution": {
          "iopub.execute_input": "2024-01-03T15:05:30.791000Z",
          "iopub.status.busy": "2024-01-03T15:05:30.790708Z",
          "iopub.status.idle": "2024-01-03T15:05:30.802702Z",
          "shell.execute_reply": "2024-01-03T15:05:30.801915Z",
          "shell.execute_reply.started": "2024-01-03T15:05:30.790976Z"
        },
        "id": "8U-8edEQVDTH",
        "trusted": true
      },
      "outputs": [],
      "source": [
        "features = {\n",
        "    \"condividi\" :[],\n",
        "    \"video\": [],\n",
        "    \"controllo\": [],\n",
        "    \"verità\": [],\n",
        "    \"diff\": [],\n",
        "    \"liber\" : [],\n",
        "    \"caps0_1\": [],\n",
        "    \"caps2_5\": [],\n",
        "    \"caps6_20\": [],\n",
        "    \"caps21_80\": [],\n",
        "    \"no_esclamazioni\": [],\n",
        "    \"esclamazioni_1\": [],\n",
        "    \"esclamazioni_2\": []\n",
        "}"
      ]
    },
    {
      "cell_type": "markdown",
      "metadata": {
        "id": "94yl-uotVK4r"
      },
      "source": [
        "Metodi per istanziare le features nel dizionario e per ottenere i valori delle features in base ad una sentence."
      ]
    },
    {
      "cell_type": "code",
      "execution_count": null,
      "metadata": {
        "execution": {
          "iopub.execute_input": "2024-01-03T15:05:30.804213Z",
          "iopub.status.busy": "2024-01-03T15:05:30.803870Z",
          "iopub.status.idle": "2024-01-03T15:05:30.813616Z",
          "shell.execute_reply": "2024-01-03T15:05:30.812818Z",
          "shell.execute_reply.started": "2024-01-03T15:05:30.804181Z"
        },
        "id": "ykHB796vU6_d",
        "trusted": true
      },
      "outputs": [],
      "source": [
        "def empty_features(features):\n",
        "    for key in features.keys():\n",
        "        features[key] = []\n",
        "\n",
        "def get_features(sentence, features):\n",
        "    keys=list(features.keys())\n",
        "    for key in keys[:4]:\n",
        "        features[key].append(check_keyword(sentence, str(key)))\n",
        "\n",
        "    features[\"diff\"].append(check_stem(sentence, \"diff\"))\n",
        "    features[\"liber\"].append(check_stem(sentence, \"liber\"))\n",
        "    features[\"caps0_1\"].append(check_caps(sentence, (0,2)))\n",
        "    features[\"caps2_5\"].append(check_caps(sentence, (2,6)))\n",
        "    features[\"caps6_20\"].append(check_caps(sentence, (6,21)))\n",
        "    features[\"caps21_80\"].append(check_caps(sentence, (21,100)))\n",
        "    features[\"no_esclamazioni\"].append(check_esclamazioni(sentence, (0,1)))\n",
        "    features[\"esclamazioni_1\"].append(check_esclamazioni(sentence, (1,2)))\n",
        "    features[\"esclamazioni_2\"].append(check_esclamazioni(sentence, (2,100)))\n",
        "\n",
        "    for e in keys[13:len(keys)]:\n",
        "        features[e].append(check_emoji(sentence, str(e)))"
      ]
    },
    {
      "cell_type": "markdown",
      "metadata": {
        "id": "Dg6_Oyv6XOCz"
      },
      "source": [
        "Il seguente frammento di codice genera un dataframe con le emoji più usate, quindi presenti in almeno 10 frasi distinte."
      ]
    },
    {
      "cell_type": "code",
      "execution_count": null,
      "metadata": {
        "execution": {
          "iopub.execute_input": "2024-01-03T15:05:30.815449Z",
          "iopub.status.busy": "2024-01-03T15:05:30.814709Z",
          "iopub.status.idle": "2024-01-03T15:05:32.715839Z",
          "shell.execute_reply": "2024-01-03T15:05:32.715089Z",
          "shell.execute_reply.started": "2024-01-03T15:05:30.815409Z"
        },
        "id": "vScFu9wbXKeI",
        "trusted": true
      },
      "outputs": [],
      "source": [
        "emojis={}\n",
        "for sentence in df_train_A.comment_text:\n",
        "  sentence_emojis=emoji.distinct_emoji_list(sentence)\n",
        "  for e in sentence_emojis:\n",
        "    emojis[e]=0\n",
        "\n",
        "for sentence in df_train_A.comment_text:\n",
        "  sentence_emojis=emoji.distinct_emoji_list(sentence)\n",
        "  for e in sentence_emojis:\n",
        "    emojis[e]+=1\n",
        "\n",
        "df_emoji=pd.DataFrame(emojis, index=['frequence']).T\n",
        "df_frequent=df_emoji[df_emoji['frequence']>=10].T"
      ]
    },
    {
      "cell_type": "markdown",
      "metadata": {
        "id": "4CtrAekCXjFR"
      },
      "source": [
        "Ogni emoji calcolata viene aggiunta alle features."
      ]
    },
    {
      "cell_type": "code",
      "execution_count": null,
      "metadata": {
        "execution": {
          "iopub.execute_input": "2024-01-03T15:05:32.717533Z",
          "iopub.status.busy": "2024-01-03T15:05:32.717176Z",
          "iopub.status.idle": "2024-01-03T15:05:32.722840Z",
          "shell.execute_reply": "2024-01-03T15:05:32.721838Z",
          "shell.execute_reply.started": "2024-01-03T15:05:32.717495Z"
        },
        "id": "ujdyU7LeXjaX",
        "trusted": true
      },
      "outputs": [],
      "source": [
        "for column in df_frequent.columns:\n",
        "  features[column]=[]"
      ]
    },
    {
      "cell_type": "markdown",
      "metadata": {
        "id": "S2fZF1po1dvO"
      },
      "source": [
        "**SPLIT DATI**"
      ]
    },
    {
      "cell_type": "markdown",
      "metadata": {
        "id": "tg-K7uEb1dvO"
      },
      "source": [
        "Split dei dati in training set e validation set. In questo caso il validation set viene utilizzato per far sì che l'addestramento non vada in overfitting."
      ]
    },
    {
      "cell_type": "code",
      "execution_count": null,
      "metadata": {
        "id": "c_QwA0261dvO"
      },
      "outputs": [],
      "source": [
        "(x_train, x_val, y_train, y_val) = train_test_split(df_train_A.comment_text, df_train_A.conspiratorial, test_size=0.15, random_state=42)"
      ]
    },
    {
      "cell_type": "markdown",
      "metadata": {
        "id": "BJzgwtuL1dvO"
      },
      "source": [
        "**DATA AUGMENTATION**"
      ]
    },
    {
      "cell_type": "markdown",
      "metadata": {
        "id": "PyNEXq281dvO"
      },
      "source": [
        "Prima di scegliere la libreria nlpaug per effettuare data augmentation sono state fatte altre prove per aumentare i dati."
      ]
    },
    {
      "cell_type": "markdown",
      "metadata": {
        "id": "35o2O8L21dvO"
      },
      "source": [
        "Primo approccio: utilizzo di WordNet per ottenere la lista di sinonimi, generazione degli embeddings mediante fastText e uso della distanza coseno per ottenere il sinonimo più \"vicino\"."
      ]
    },
    {
      "cell_type": "code",
      "execution_count": null,
      "metadata": {
        "colab": {
          "base_uri": "https://localhost:8080/"
        },
        "id": "STEfC04m1dvP",
        "outputId": "b1733151-0de8-4e01-b012-ccff09883100"
      },
      "outputs": [],
      "source": [
        "nltk.download('wordnet')\n",
        "nltk.download('punkt')\n",
        "nltk.download('omw-1.4')\n",
        "\n",
        "ft = fasttext.load_model(root+'fastText/cc.it.300.bin')\n",
        "\n",
        "def data_augmentation(testo_originale):\n",
        "    testo = testo_originale\n",
        "    parole = nltk.word_tokenize(testo_originale)            #lista di parole che compongono la frase originale\n",
        "    n_parole = random.randint(1, int(len(parole)/2 + 1))    #numero di parole da modificare\n",
        "    indici = random.sample(range(len(parole)), n_parole)    #indici delle parole da modificare\n",
        "    parole_sinonimi = [parole[i] for i in indici]           #parole da modificare\n",
        "    for parola in parole_sinonimi:\n",
        "        testo = sostituisci_sinonimo(testo, parola)\n",
        "    if testo != testo_originale:\n",
        "        return testo\n",
        "    else:\n",
        "        return testo_originale\n",
        "\n",
        "def sinonimi(parola):\n",
        "    sinonimi = wn.synonyms(parola, lang='ita')          #tutti i sinonimi della parola\n",
        "    s = [elem for lista in sinonimi for elem in lista]\n",
        "    return s\n",
        "\n",
        "def sostituisci_sinonimo(testo, parola):\n",
        "    sinonimi_parola = sinonimi(parola)\n",
        "    for elem in sinonimi_parola:\n",
        "        if elem.lower() == parola.lower():      #eliminazione dei sinonimi dove cambia solo il modo in cui è scritta la parola\n",
        "            sinonimi_parola.remove(elem)\n",
        "    if sinonimi_parola != []:\n",
        "        elemento_scelto = scelta_elemento(parola, sinonimi_parola)\n",
        "        testo_modificato = testo.replace(parola, elemento_scelto)\n",
        "        return testo_modificato\n",
        "    else:\n",
        "        return testo    #se non ci sono sinonimi per le parole scelte, viene restituito il testo originale\n",
        "\n",
        "def scelta_elemento(parola, sinonimi_parola):\n",
        "    embeddings_originale = ft[parola]       #calcolo embeddings\n",
        "    distanze = [cosine(embeddings_originale, ft[elem]) for elem in sinonimi_parola]\n",
        "    sinonimo = sinonimi_parola[np.argmin(distanze)]     #si prende il sinonimo più vicino\n",
        "    return sinonimo"
      ]
    },
    {
      "cell_type": "markdown",
      "metadata": {
        "id": "Pp6sDRO02Y8l"
      },
      "source": [
        "Esempio di utilizzo"
      ]
    },
    {
      "cell_type": "code",
      "execution_count": null,
      "metadata": {
        "colab": {
          "base_uri": "https://localhost:8080/"
        },
        "id": "FhS7rf9C2apA",
        "outputId": "93ce6d2e-237c-473f-8418-de4c930730f1"
      },
      "outputs": [],
      "source": [
        "'''\n",
        "frase_originale =  \"Vado a fare una passeggiata con il cane\"\n",
        "frase_nuova = frase_originale\n",
        "while frase_nuova == frase_originale:\n",
        "    frase_nuova = data_augmentation(frase_originale)\n",
        "\n",
        "print(\"Frase originale:\", frase_originale)\n",
        "print(\"Frase aumentata:\", frase_nuova)\n",
        "'''"
      ]
    },
    {
      "cell_type": "markdown",
      "metadata": {
        "id": "XnaASMBt1dvP"
      },
      "source": [
        "Secondo approccio: utilizzo di fastText per ottenere il sinonimo più vicino dal punto di vista della rappresentazione vettoriale."
      ]
    },
    {
      "cell_type": "code",
      "execution_count": null,
      "metadata": {
        "id": "88Lwb3kf1dvP"
      },
      "outputs": [],
      "source": [
        "def data_augmentation(testo_originale):\n",
        "    testo = testo_originale\n",
        "    parole = nltk.word_tokenize(testo_originale)            #lista di parole che compongono la frase originale\n",
        "    n_parole = random.randint(1, int(len(parole)/2 + 1))    #numero di parole da modificare\n",
        "    indici = random.sample(range(len(parole)), n_parole)    #indici delle parole da modificare\n",
        "    parole_sinonimi = [parole[i] for i in indici]           #parole da modificare\n",
        "    for parola in parole_sinonimi:\n",
        "        testo = sostituisci_sinonimo(testo, parola)\n",
        "    if testo != testo_originale:                            #se il testo originale non ha subito cambiamenti, esso viene restituito, così da poter effettuare una verifica prima di considerare la frase restituita come nuova\n",
        "        return testo\n",
        "    else:\n",
        "        return testo_originale\n",
        "\n",
        "def sostituisci_sinonimo(testo, parola):\n",
        "    elemento_scelto = scelta_elemento(parola)\n",
        "    if elemento_scelto.lower() != parola.lower():           #per non scegliere come sinonimo la stessa parola scritta diversamente\n",
        "        testo_modificato = testo.replace(parola, elemento_scelto)\n",
        "        return testo_modificato\n",
        "    else:\n",
        "        return testo\n",
        "\n",
        "def scelta_elemento(parola):\n",
        "    return ft.get_nearest_neighbors(parola)[0][1]           #ritorna il sinonimo più vicino"
      ]
    },
    {
      "cell_type": "markdown",
      "metadata": {
        "id": "33yXVRcT54lw"
      },
      "source": [
        "Esempio di utilizzo"
      ]
    },
    {
      "cell_type": "code",
      "execution_count": null,
      "metadata": {
        "colab": {
          "base_uri": "https://localhost:8080/"
        },
        "id": "EJvhwvQV54l9",
        "outputId": "26d91292-c0e0-4ebc-a17e-e9313912a8af"
      },
      "outputs": [],
      "source": [
        "'''\n",
        "frase_originale =  \"Vado a fare una passeggiata con il cane\"\n",
        "frase_nuova = frase_originale\n",
        "while frase_nuova == frase_originale:\n",
        "    frase_nuova = data_augmentation(frase_originale)\n",
        "\n",
        "print(\"Frase originale:\", frase_originale)\n",
        "print(\"Frase aumentata:\", frase_nuova)\n",
        "'''"
      ]
    },
    {
      "cell_type": "markdown",
      "metadata": {
        "id": "H-hyElfN1dvP"
      },
      "source": [
        "Dopo il caricamento del modello di fastText, la RAM risulta quasi satura, quindi prima di continuare l'esecuzione del codice, poichè ft non servirà più, si può procedere alla liberazione della RAM stessa."
      ]
    },
    {
      "cell_type": "code",
      "execution_count": null,
      "metadata": {
        "colab": {
          "base_uri": "https://localhost:8080/"
        },
        "id": "hT1i-fYf1dvP",
        "outputId": "fb6bf7a4-2fb0-4ec8-d9fd-51e933800aa3"
      },
      "outputs": [],
      "source": [
        "ft = None\n",
        "gc.collect()"
      ]
    },
    {
      "cell_type": "markdown",
      "metadata": {
        "id": "-FOcNPMf1dvP"
      },
      "source": [
        "<u>Approccio utilizzato per il data augmentation</u>: libreria nlpaug"
      ]
    },
    {
      "cell_type": "markdown",
      "metadata": {
        "id": "nKs18XGT1dvQ"
      },
      "source": [
        "Viene effettuato il data augmentation andando ad utilizzare embeddings contestuali (BERT).\n",
        "\n",
        "In particolare il data augmentation considerato in questo caso inserisce delle nuove parole nel testo."
      ]
    },
    {
      "cell_type": "code",
      "execution_count": null,
      "metadata": {
        "colab": {
          "base_uri": "https://localhost:8080/",
          "height": 269,
          "referenced_widgets": [
            "b649a5bcf1a24c28b920e57cb759f86e",
            "898cbd14407e4846864803ef7cfcd0c9",
            "6510820009634ad4a65d4a20d0ee5d69",
            "de381f9915de470c9b336c75edcc84da",
            "8efafe4f28b3454f8193cf8f14d71599",
            "0e1075106c8f4539b963caa797de8721",
            "4c6717ee7ac340b4807a8af80feb0d18",
            "bce0d587f99b4b53829f789f7762e08f",
            "0a378bb8d3234c52b0e213c92b5a2220",
            "79013ac88ac34c9985223662a2a94498",
            "74b5372546a94c27a73e6b30e535020d",
            "99c7562ae92041448dd9c1bee2c4e436",
            "294ea1d971dd46c1ae2ffa95e6f349b6",
            "ae57277ac2e44d60b57f02f3a504cb7e",
            "5e1ff2b6975d4edb8a76cd3980717661",
            "120ab5b9358d451b93662f758ed76f40",
            "ee51beadff43430ebf715a59c151ffce",
            "55858dec9cb04ccb93fa33908af15c68",
            "2b60035d237146169de0271a68b1feda",
            "82cc17ec449b40c2bb0a2b81c66f3340",
            "d55085f576d94e4e839a1c1e87be37ac",
            "549b85ca03784cd1b41bf0a2dae7f8de",
            "e93718842ca3456c9e6f776c79962458",
            "0eb8e974985947738ba9d8b50e425efe",
            "52ef676fcf7b4de0b6dba6990504a1a8",
            "fe01347225384edfb5694ff1fdf05ee2",
            "e432ab46b9ba47358aab31e33bfc2bef",
            "64c5d68077a54f1a94094c9bd66a2226",
            "0026befb53434cc1a5dce56c79e330c8",
            "b5503b3462254cfd9ce5cc8a77c1578a",
            "0ac2c28416454f4fbf5e12ccee397dad",
            "dad8c3b90c5842f383a8b17b5e33d067",
            "e87d8f2ee727489f9189ad429fcf9b84",
            "7da37cb4b5264936a92958d47567958c",
            "d08006702e3b4f6ea2bcde5752feb10b",
            "7ea146feae29452daaee7145846cb54b",
            "ab09aa203f6f466c86794ef4ae077731",
            "ff31bdca16e8482d9e52bd46c5a28470",
            "c30a443ef545447a86f60e8856c054af",
            "0e7ea50bef0f4f32b764635f61fc2a9b",
            "cc3addbd24c04f1d8e272f20d8d3fe6d",
            "d882793d104f4e0b91f6f3d90e35daa0",
            "c268c8b7791b4bd4826c954a3503ff24",
            "dd2f30ca663c4563bf40d2e52721c169"
          ]
        },
        "id": "AwjH8hxm1dvQ",
        "outputId": "2cf29919-69cb-4fdc-872f-f7fadb1f7097"
      },
      "outputs": [],
      "source": [
        "aug = naw.ContextualWordEmbsAug(model_path='dbmdz/bert-base-italian-xxl-uncased', action='insert', device='cuda')\n",
        "augmented = aug.augment(list(x_train))"
      ]
    },
    {
      "cell_type": "markdown",
      "metadata": {
        "id": "Gl3Iw8cM1dvQ"
      },
      "source": [
        "Vengono create le liste con i testi aumentati e le labels associate."
      ]
    },
    {
      "cell_type": "code",
      "execution_count": null,
      "metadata": {
        "id": "arPv3wLW1dvQ"
      },
      "outputs": [],
      "source": [
        "df_augmented = list(x_train) + augmented\n",
        "df_labels = list(y_train) + list(y_train)"
      ]
    },
    {
      "cell_type": "markdown",
      "metadata": {
        "id": "3WbvCfQU1dvQ"
      },
      "source": [
        "**IPERPARAMETRI**"
      ]
    },
    {
      "cell_type": "markdown",
      "metadata": {
        "id": "_d7GjnMuX2Li"
      },
      "source": [
        "Viene definito il dizionario degli iperparametri, in modo tale da dover modificare solo i valori per effettuare addestramenti diversi."
      ]
    },
    {
      "cell_type": "code",
      "execution_count": null,
      "metadata": {
        "execution": {
          "iopub.execute_input": "2024-01-03T15:05:32.724447Z",
          "iopub.status.busy": "2024-01-03T15:05:32.724086Z",
          "iopub.status.idle": "2024-01-03T15:05:32.734210Z",
          "shell.execute_reply": "2024-01-03T15:05:32.733294Z",
          "shell.execute_reply.started": "2024-01-03T15:05:32.724414Z"
        },
        "id": "BXSJcuZBc62g",
        "trusted": true
      },
      "outputs": [],
      "source": [
        "n_labels = 1\n",
        "\n",
        "model_name = \"dbmdz/bert-base-italian-xxl-uncased\"\n",
        "\n",
        "hyperparameters = {\n",
        "    \"epochs\": 1000,\n",
        "    \"learning_rate\": 1e-6,\n",
        "    \"batch_size\": 16,\n",
        "    \"dropout\": 0.1,\n",
        "    \"h_dim\": 768,\n",
        "    \"patience\": 50,\n",
        "    \"min_delta\": 0.001,\n",
        "    \"language_model\": model_name,\n",
        "    \"extra-features\" : True\n",
        "}\n",
        "\n",
        "if hyperparameters[\"extra-features\"] == False:\n",
        "    features = {}"
      ]
    },
    {
      "cell_type": "markdown",
      "metadata": {
        "id": "-ghl8Cam1dvR"
      },
      "source": [
        "**DATASET**"
      ]
    },
    {
      "cell_type": "markdown",
      "metadata": {
        "id": "yN7hZ49_dA96"
      },
      "source": [
        "La classe Dataset permette di ottenere un oggetto che contenga sia i testi sia le labels."
      ]
    },
    {
      "cell_type": "code",
      "execution_count": null,
      "metadata": {
        "execution": {
          "iopub.execute_input": "2024-01-03T15:05:32.738040Z",
          "iopub.status.busy": "2024-01-03T15:05:32.737751Z",
          "iopub.status.idle": "2024-01-03T15:05:32.745552Z",
          "shell.execute_reply": "2024-01-03T15:05:32.744684Z",
          "shell.execute_reply.started": "2024-01-03T15:05:32.738015Z"
        },
        "id": "fatrcrE6c-RL",
        "trusted": true
      },
      "outputs": [],
      "source": [
        "class Dataset(torch.utils.data.Dataset):\n",
        "\n",
        "    def __init__(self, x, y):\n",
        "        self.texts = [text for text in x]\n",
        "        self.labels = [torch.tensor(label) for label in y]\n",
        "\n",
        "    def __len__(self):\n",
        "        return len(self.labels)\n",
        "\n",
        "    def __getitem__(self, idx):\n",
        "        batch_texts = self.texts[idx]\n",
        "        batch_labels = np.array(self.labels[idx])\n",
        "        return batch_texts, batch_labels"
      ]
    },
    {
      "cell_type": "markdown",
      "metadata": {
        "id": "3dNEnWDi1dvV"
      },
      "source": [
        "**CLASSIFICATORE**"
      ]
    },
    {
      "cell_type": "markdown",
      "metadata": {
        "id": "6ElFANaxd-vI"
      },
      "source": [
        "Viene definita la rete neurale che ha il compito di effettuare la classificazione.\n",
        "\n",
        "\n",
        "È composta da:\n",
        "*   Layer lineare con input e output di dimensione uguale a quella del vettore in ingresso\n",
        "*   Layer di normalizzazione della batch\n",
        "*   Layer di dropout\n",
        "*   Layer con funzione di attivazione ReLU\n",
        "*   Layer lineare con input uguale alla dimensione del vettore in ingresso e output uguale a 1 (classificazione binaria)\n",
        "*   Layer con funzione di uscita Sigmoide, che restituisce un valore compreso tra 0 e 1"
      ]
    },
    {
      "cell_type": "code",
      "execution_count": null,
      "metadata": {
        "execution": {
          "iopub.execute_input": "2024-01-03T15:05:32.746985Z",
          "iopub.status.busy": "2024-01-03T15:05:32.746681Z",
          "iopub.status.idle": "2024-01-03T15:05:32.755148Z",
          "shell.execute_reply": "2024-01-03T15:05:32.754289Z",
          "shell.execute_reply.started": "2024-01-03T15:05:32.746949Z"
        },
        "id": "pax56UyLd-Gi",
        "trusted": true
      },
      "outputs": [],
      "source": [
        "class ClassifierDeep(nn.Module):\n",
        "\n",
        "    def __init__(self, labels, hdim, dropout):\n",
        "        super(ClassifierDeep, self).__init__()\n",
        "        self.classifier = nn.Sequential(\n",
        "            nn.Linear(hdim, hdim),\n",
        "            nn.BatchNorm1d(hdim),\n",
        "            nn.Dropout(dropout),\n",
        "            nn.ReLU(),\n",
        "            nn.Linear(hdim, labels),\n",
        "            nn.Sigmoid()\n",
        "            )\n",
        "\n",
        "    def forward(self, input_texts):\n",
        "        return self.classifier(input_texts)"
      ]
    },
    {
      "cell_type": "markdown",
      "metadata": {
        "id": "W9i5L8Pa1dvW"
      },
      "source": [
        "**EARLY STOPPING**"
      ]
    },
    {
      "cell_type": "markdown",
      "metadata": {
        "id": "Oe3d32V7e5Da"
      },
      "source": [
        "Definita la classe EarlyStopping, utilizzata come funzione di callback che si occupa di interrompere l'addestramento nel caso in cui la loss dovesse avere un trend convergente in cui il valore rimane nell'intervallo del min_delta, oppure in salita. Inoltre salva progressivamente il modello migliore."
      ]
    },
    {
      "cell_type": "code",
      "execution_count": null,
      "metadata": {
        "execution": {
          "iopub.execute_input": "2024-01-03T15:05:32.756974Z",
          "iopub.status.busy": "2024-01-03T15:05:32.756421Z",
          "iopub.status.idle": "2024-01-03T15:05:32.766798Z",
          "shell.execute_reply": "2024-01-03T15:05:32.766015Z",
          "shell.execute_reply.started": "2024-01-03T15:05:32.756940Z"
        },
        "id": "B2oaeLPqfPVs",
        "trusted": true
      },
      "outputs": [],
      "source": [
        "class EarlyStopping:\n",
        "    def __init__(self, patience, min_delta):\n",
        "        self.patience = patience\n",
        "        self.min_delta = min_delta\n",
        "        self.counter = 0\n",
        "        self.early_stop = False\n",
        "        self.min_loss = torch.inf\n",
        "\n",
        "    def __call__(self, loss, model, path):\n",
        "        if self.min_loss > (loss + self.min_delta):\n",
        "            self.min_loss = loss\n",
        "            self.counter = 0\n",
        "            torch.save(model, path)\n",
        "        else:\n",
        "            self.counter += 1\n",
        "            if self.counter >= self.patience:\n",
        "                self.early_stop = True\n",
        "                print(\"Early stopping.\")"
      ]
    },
    {
      "cell_type": "markdown",
      "metadata": {
        "id": "ifWQO38X1dvW"
      },
      "source": [
        "**ADDESTRAMENTO**"
      ]
    },
    {
      "cell_type": "markdown",
      "metadata": {
        "id": "2KgOBFyT1dvW"
      },
      "source": [
        "Per quanto riguarda l'addestramento abbiamo utilizzato 2 approcci: embeddings calcolati sulle singole parole ed embeddings calcolati sull'intera sentence."
      ]
    },
    {
      "cell_type": "markdown",
      "metadata": {
        "id": "b_lwue1v1dvW"
      },
      "source": [
        "Primo approccio: embeddings calcolati sulle singole parole."
      ]
    },
    {
      "cell_type": "markdown",
      "metadata": {
        "id": "Uvu0LS2k1dvW"
      },
      "source": [
        "Metodo per la generazione degli embeddings calcolati sulle singole parole. Il metodo restituisce l’output del last_hidden_state del modello."
      ]
    },
    {
      "cell_type": "code",
      "execution_count": null,
      "metadata": {
        "id": "iVDiMmAE1dvW"
      },
      "outputs": [],
      "source": [
        "def gen_embeddings(input_id_text, attention_mask, lm_model):\n",
        "    with torch.no_grad():\n",
        "        last_hidden_states = lm_model(input_id_text, attention_mask=attention_mask).last_hidden_state\n",
        "        last_hidden_states = last_hidden_states[:,0,:]\n",
        "    return last_hidden_states"
      ]
    },
    {
      "cell_type": "markdown",
      "metadata": {
        "id": "mNnX46Km1dvX"
      },
      "source": [
        "Train loop.\n",
        "\n",
        "Per ogni sentence nella batch vengono generati i token dal tokenizer e attraverso il language model vengono generati gli embeddings dei token.\n",
        "Si concatenano ai vettori degli embeddings le eventuali features aggiuntive."
      ]
    },
    {
      "cell_type": "code",
      "execution_count": null,
      "metadata": {
        "id": "VJIFGBgk1dvX"
      },
      "outputs": [],
      "source": [
        "def train_loop(model, dataloader, lm_model, tokenizer, loss, optimizer, device, features):\n",
        "    model.train()\n",
        "\n",
        "    epoch_acc = 0\n",
        "    epoch_loss = 0\n",
        "    epoch_labels, epoch_output = [], []\n",
        "\n",
        "    for batch_texts, batch_labels in tqdm(dataloader, desc='training set', position=0, leave=True):\n",
        "\n",
        "        optimizer.zero_grad()\n",
        "        batch_labels = batch_labels.to(device)\n",
        "        tokens = tokenizer(list(batch_texts), add_special_tokens=True, return_tensors='pt', padding='max_length', max_length = 512, truncation=True)\n",
        "        input_id_texts = tokens['input_ids'].squeeze(1).to(device)\n",
        "        mask_texts = tokens['attention_mask'].squeeze(1).to(device)\n",
        "        embeddings_texts = gen_embeddings(input_id_texts, mask_texts, lm_model)\n",
        "\n",
        "        if features != {}:\n",
        "            empty_features(features)\n",
        "            for sentence in list(batch_texts):\n",
        "                get_features(sentence, features)\n",
        "            df_features=pd.DataFrame(features)\n",
        "            for column in df_features.columns:\n",
        "                new_column = torch.tensor(df_features[column].values, dtype=torch.float32).view(-1, 1).to(device)\n",
        "                embeddings_texts = torch.cat((embeddings_texts, new_column), dim=1)\n",
        "\n",
        "        embeddings_texts = embeddings_texts.clone().to(torch.float32).to(device)\n",
        "        batch_output = model(embeddings_texts).squeeze()\n",
        "\n",
        "        batch_loss = loss(batch_output.float(), batch_labels.float())\n",
        "        epoch_loss += batch_loss.item()\n",
        "        batch_loss.backward()\n",
        "        optimizer.step()\n",
        "\n",
        "        batch_output = batch_output.round()\n",
        "        epoch_acc += (batch_output == batch_labels).sum().item()\n",
        "\n",
        "        batch_labels = batch_labels.detach().cpu()\n",
        "        batch_output = batch_output.detach().cpu()\n",
        "        input_id_texts = input_id_texts.detach().cpu()\n",
        "        mask_texts = mask_texts.detach().cpu()\n",
        "\n",
        "        epoch_labels += batch_labels\n",
        "\n",
        "        batch_output = list(batch_output.numpy().astype(int))\n",
        "        epoch_output += batch_output\n",
        "\n",
        "    return epoch_loss/len(dataloader), epoch_acc, epoch_labels, epoch_output"
      ]
    },
    {
      "cell_type": "markdown",
      "metadata": {
        "id": "AxNPRn4Z1dvX"
      },
      "source": [
        "Validation loop.\n",
        "\n",
        "Stesse operazioni del train loop senza effettuare la backpropagation."
      ]
    },
    {
      "cell_type": "code",
      "execution_count": null,
      "metadata": {
        "id": "KWPfDYtc1dvX"
      },
      "outputs": [],
      "source": [
        "def val_loop(model, dataloader, lm_model, tokenizer, loss, device, features):\n",
        "    model.eval()\n",
        "\n",
        "    epoch_acc = 0\n",
        "    epoch_loss = 0\n",
        "    epoch_labels, epoch_output = [], []\n",
        "\n",
        "    with torch.no_grad():\n",
        "\n",
        "        for batch_texts, batch_labels, in tqdm(dataloader, desc='validation set', position=0, leave=True):\n",
        "\n",
        "            batch_labels = batch_labels.to(device)\n",
        "            tokens = tokenizer(list(batch_texts), add_special_tokens=True, return_tensors='pt', padding='max_length', max_length = 512, truncation=True)\n",
        "            input_id_texts = tokens['input_ids'].squeeze(1).to(device)\n",
        "            mask_texts = tokens['attention_mask'].squeeze(1).to(device)\n",
        "            batch_labels = batch_labels.to(device)\n",
        "            embeddings_texts = gen_embeddings(input_id_texts, mask_texts, lm_model)\n",
        "\n",
        "            if features != {}:\n",
        "                empty_features(features)\n",
        "                for sentence in list(batch_texts):\n",
        "                    get_features(sentence, features)\n",
        "                df_features=pd.DataFrame(features)\n",
        "                for column in df_features.columns:\n",
        "                    new_column = torch.tensor(df_features[column].values, dtype=torch.float32).view(-1, 1).to(device)\n",
        "                    embeddings_texts = torch.cat((embeddings_texts, new_column), dim=1)\n",
        "\n",
        "            embeddings_texts = embeddings_texts.clone().to(torch.float32).to(device)\n",
        "            batch_output = model(embeddings_texts).squeeze()\n",
        "\n",
        "            batch_loss = loss(batch_output.float(), batch_labels.float())\n",
        "            epoch_loss += batch_loss.item()\n",
        "\n",
        "            batch_output=batch_output.round()\n",
        "            epoch_acc += (batch_output == batch_labels).sum().item()\n",
        "\n",
        "            batch_labels = batch_labels.detach().cpu()\n",
        "            batch_output = batch_output.detach().cpu()\n",
        "\n",
        "            epoch_labels += batch_labels\n",
        "\n",
        "            batch_output = list(batch_output.round().numpy().astype(int))\n",
        "            epoch_output += batch_output\n",
        "\n",
        "    return epoch_loss/len(dataloader), epoch_acc, epoch_labels, epoch_output"
      ]
    },
    {
      "cell_type": "markdown",
      "metadata": {
        "id": "Oxmi-7wF1dvY"
      },
      "source": [
        "Il metodo per l'addestramento.\n",
        "\n",
        "Nel metodo vengono utilizzati AutoConfig, AutoTokenizer e AutoModel per configurare il language model. Quest’ultimo viene poi passato come argomento, insieme al tokenizer, ai metodi train_loop e val_loop."
      ]
    },
    {
      "cell_type": "code",
      "execution_count": null,
      "metadata": {
        "id": "r9WL3z_F1dvY"
      },
      "outputs": [],
      "source": [
        "def train_test(model, epochs, optimizer, device, train_data, val_data, batch_size, model_name, train_loss_fn, early_stopping, features):\n",
        "\n",
        "    train_dataloader = torch.utils.data.DataLoader(train_data, batch_size=batch_size, shuffle=True)\n",
        "    val_dataloader = torch.utils.data.DataLoader(val_data, batch_size=batch_size)\n",
        "\n",
        "    train_loss, validation_loss = [], []\n",
        "    train_acc, validation_acc = [], []\n",
        "    train_f1, validation_f1 = [], []\n",
        "\n",
        "    config = AutoConfig.from_pretrained(model_name)\n",
        "    tokenizer = AutoTokenizer.from_pretrained(model_name)\n",
        "    lm_model = AutoModel.from_pretrained(model_name, config=config).to(device)\n",
        "\n",
        "    for epoch in tqdm(range(1, epochs+1), desc='epoch'):\n",
        "\n",
        "        epoch_train_loss, epoch_train_acc, train_labels, train_outputs = train_loop(model, train_dataloader, lm_model, tokenizer, train_loss_fn, optimizer, device, features)\n",
        "        train_loss.append(epoch_train_loss)\n",
        "        train_acc.append(epoch_train_acc/len(train_data))\n",
        "\n",
        "        epoch_validate_loss, epoch_validate_acc, val_labels, val_outputs = val_loop(model, val_dataloader, lm_model, tokenizer, train_loss_fn, device, features)\n",
        "        validation_loss.append(epoch_validate_loss)\n",
        "        validation_acc.append(epoch_validate_acc/len(val_data))\n",
        "\n",
        "        epoch_train_f1 = f1_score(train_labels, train_outputs, average='macro')\n",
        "        train_f1.append(epoch_train_f1)\n",
        "\n",
        "        epoch_validate_f1 = f1_score(val_labels, val_outputs, average='macro')\n",
        "        validation_f1.append(epoch_validate_f1)\n",
        "\n",
        "        print(f\"\\nTrain loss: {epoch_train_loss:6.4f} Validation loss: {epoch_validate_loss:6.4f}\")\n",
        "        print(f\"Train accuracy: {(epoch_train_acc/len(train_data)):6.4f} Validation accuracy: {(epoch_validate_acc/len(val_data)):6.4f}\\n\")\n",
        "        print(f\"Train f1 score: {epoch_train_f1:6.4f} Validation f1 score: {epoch_validate_f1:6.4f}\\n\")\n",
        "\n",
        "        path = root + 'model/best_model.pth'\n",
        "        early_stopping(epoch_validate_loss, model, path)\n",
        "        if early_stopping.early_stop:\n",
        "            break\n",
        "\n",
        "    return train_loss, validation_loss, train_acc, validation_acc, train_f1, validation_f1"
      ]
    },
    {
      "cell_type": "markdown",
      "metadata": {
        "id": "OYFpjo2p1dvY"
      },
      "source": [
        "<u>Approccio utilizzato</u>: Sentence Transformers"
      ]
    },
    {
      "cell_type": "markdown",
      "metadata": {
        "id": "rXjfXHWJ1dvY"
      },
      "source": [
        "Metodo per la generazione degli embeddings."
      ]
    },
    {
      "cell_type": "code",
      "execution_count": null,
      "metadata": {
        "id": "q90gS2Fm1dvY"
      },
      "outputs": [],
      "source": [
        "def gen_embeddings(batch_texts, features, lm_model):\n",
        "    input = lm_model.encode(batch_texts)\n",
        "    if features != {}:\n",
        "        empty_features(features)\n",
        "        for sentence in list(batch_texts):\n",
        "            get_features(sentence, features)\n",
        "        df_features=pd.DataFrame(features)\n",
        "        for column in df_features.columns:\n",
        "            input=np.append(input, np.array([list(df_features[column])]).T, axis=1)\n",
        "    embeddings_texts = torch.tensor(input).to(torch.float32)\n",
        "\n",
        "    return embeddings_texts"
      ]
    },
    {
      "cell_type": "markdown",
      "metadata": {
        "id": "UDBs_ULeh7yb"
      },
      "source": [
        "Viene definito il train loop dove vengono effettuate le seguenti operazioni:\n",
        "\n",
        "1.   calcolati gli embeddings delle sentences tramite il language model (metodo gen_embeddings)\n",
        "2.   calcolate e concatenate le eventuali features aggiuntive (metodo gen_embeddings)\n",
        "3.   passato il vettore risultante come input al modello\n",
        "4.   calcolata la loss con l'output ottenuto"
      ]
    },
    {
      "cell_type": "code",
      "execution_count": null,
      "metadata": {
        "execution": {
          "iopub.execute_input": "2024-01-03T15:05:32.768407Z",
          "iopub.status.busy": "2024-01-03T15:05:32.767975Z",
          "iopub.status.idle": "2024-01-03T15:05:32.780870Z",
          "shell.execute_reply": "2024-01-03T15:05:32.779980Z",
          "shell.execute_reply.started": "2024-01-03T15:05:32.768374Z"
        },
        "id": "nR1yf0Xgfil4",
        "trusted": true
      },
      "outputs": [],
      "source": [
        "def train_loop(model, dataloader, lm_model, loss, optimizer, device, features):\n",
        "    model.train()\n",
        "\n",
        "    epoch_acc = 0\n",
        "    epoch_loss = 0\n",
        "\n",
        "    epoch_labels, epoch_output = [], []\n",
        "\n",
        "    for batch_texts, batch_labels in tqdm(dataloader, desc='train', position=0, leave=True):\n",
        "\n",
        "        optimizer.zero_grad()\n",
        "        batch_labels = batch_labels.to(device)\n",
        "        embeddings_texts = gen_embeddings(batch_texts, features, lm_model).to(device)\n",
        "        output = model(embeddings_texts).squeeze()\n",
        "\n",
        "        batch_loss = loss(output.float(), batch_labels.float())\n",
        "        batch_loss.backward()\n",
        "        optimizer.step()\n",
        "\n",
        "        epoch_loss += batch_loss.item()\n",
        "        epoch_acc += (output.round() == batch_labels).sum().item()\n",
        "        batch_labels = batch_labels.detach().cpu()\n",
        "        output = output.detach().cpu()\n",
        "\n",
        "        epoch_labels += batch_labels\n",
        "\n",
        "        batch_output = list(output.round().numpy().astype(int))\n",
        "        epoch_output += batch_output\n",
        "\n",
        "    return epoch_loss/len(dataloader), epoch_acc, epoch_labels, epoch_output"
      ]
    },
    {
      "cell_type": "markdown",
      "metadata": {
        "id": "-Fh3B4Qhkf3p"
      },
      "source": [
        "Viene definito il validation loop, in cui vengono eseguite le stesse operazioni del train loop senza effettuare la backpropagation, ma utilizzando il modello solo per la valutazione."
      ]
    },
    {
      "cell_type": "code",
      "execution_count": null,
      "metadata": {
        "execution": {
          "iopub.execute_input": "2024-01-03T15:05:32.782543Z",
          "iopub.status.busy": "2024-01-03T15:05:32.782128Z",
          "iopub.status.idle": "2024-01-03T15:05:32.794903Z",
          "shell.execute_reply": "2024-01-03T15:05:32.794079Z",
          "shell.execute_reply.started": "2024-01-03T15:05:32.782510Z"
        },
        "id": "rTN-u-Pnkx5Y",
        "trusted": true
      },
      "outputs": [],
      "source": [
        "def val_loop(model, dataloader, lm_model, loss, device, features):\n",
        "    model.eval()\n",
        "\n",
        "    epoch_acc = 0\n",
        "    epoch_loss = 0\n",
        "\n",
        "    epoch_labels, epoch_output = [], []\n",
        "\n",
        "    with torch.no_grad():\n",
        "\n",
        "        for batch_texts, batch_labels, in tqdm(dataloader, desc=\"val\"):\n",
        "            batch_labels = batch_labels.to(device)\n",
        "            embeddings_texts = gen_embeddings(batch_texts, features, lm_model).to(device)\n",
        "            output = model(embeddings_texts).squeeze()\n",
        "\n",
        "            batch_loss = loss(output.float(), batch_labels.float())\n",
        "            epoch_loss += batch_loss.item()\n",
        "\n",
        "            epoch_acc += (output.round() == batch_labels).sum().item()\n",
        "\n",
        "            batch_labels = batch_labels.detach().cpu()\n",
        "            output = output.detach().cpu()\n",
        "\n",
        "            epoch_labels += batch_labels\n",
        "\n",
        "            batch_output = list(output.round().numpy().astype(int))\n",
        "            epoch_output += batch_output\n",
        "\n",
        "    return epoch_loss/len(dataloader), epoch_acc, epoch_labels, epoch_output"
      ]
    },
    {
      "cell_type": "markdown",
      "metadata": {
        "id": "0mmTTw1pwGQc"
      },
      "source": [
        "Il metodo seguente effettua i loop di train e validation e ritorna la loss, l'accuratezza e la f1-score per epoca."
      ]
    },
    {
      "cell_type": "code",
      "execution_count": null,
      "metadata": {
        "execution": {
          "iopub.execute_input": "2024-01-03T15:05:32.796329Z",
          "iopub.status.busy": "2024-01-03T15:05:32.795988Z",
          "iopub.status.idle": "2024-01-03T15:05:32.809725Z",
          "shell.execute_reply": "2024-01-03T15:05:32.808898Z",
          "shell.execute_reply.started": "2024-01-03T15:05:32.796296Z"
        },
        "id": "qfLwBAVzwA_P",
        "trusted": true
      },
      "outputs": [],
      "source": [
        "def train_test(model, epochs, optimizer, device, train_data, val_data, batch_size, model_name, train_loss_fn, early_stopping, features):\n",
        "\n",
        "    train_dataloader = torch.utils.data.DataLoader(train_data, batch_size=batch_size, shuffle=True)\n",
        "    val_dataloader = torch.utils.data.DataLoader(val_data, batch_size=batch_size)\n",
        "\n",
        "    train_loss, validation_loss = [], []\n",
        "    train_acc, validation_acc = [], []\n",
        "    train_f1, validation_f1 = [], []\n",
        "\n",
        "    lm_model = SentenceTransformer(hyperparameters['language_model'])\n",
        "\n",
        "    for epoch in tqdm(range(1, epochs+1), desc='epoch'):\n",
        "\n",
        "        epoch_train_loss, epoch_train_acc, train_labels, train_outputs = train_loop(model, train_dataloader, lm_model, train_loss_fn, optimizer, device, features)\n",
        "        train_loss.append(epoch_train_loss)\n",
        "        train_acc.append(epoch_train_acc/len(train_data))\n",
        "\n",
        "        epoch_validate_loss, epoch_validate_acc, val_labels, val_outputs = val_loop(model, val_dataloader, lm_model, train_loss_fn, device, features)\n",
        "        validation_loss.append(epoch_validate_loss)\n",
        "        validation_acc.append(epoch_validate_acc/len(val_data))\n",
        "\n",
        "        epoch_train_f1 = f1_score(train_labels, train_outputs, average='macro')\n",
        "        train_f1.append(epoch_train_f1)\n",
        "\n",
        "        epoch_validate_f1 = f1_score(val_labels, val_outputs, average='macro')\n",
        "        validation_f1.append(epoch_validate_f1)\n",
        "\n",
        "        print(f\"\\nTrain loss: {epoch_train_loss:6.4f} Validation loss: {epoch_validate_loss:6.4f}\")\n",
        "        print(f\"Train accuracy: {(epoch_train_acc/len(train_data)):6.4f} Validation accuracy: {(epoch_validate_acc/len(val_data)):6.4f}\\n\")\n",
        "        print(f\"Train f1 score: {epoch_train_f1:6.4f} Validation f1 score: {epoch_validate_f1:6.4f}\\n\")\n",
        "\n",
        "        path = root + 'model/best_model.pth'\n",
        "        early_stopping(epoch_validate_loss, model, path)\n",
        "        if early_stopping.early_stop:\n",
        "            break\n",
        "\n",
        "    return train_loss, validation_loss, train_acc, validation_acc, train_f1, validation_f1"
      ]
    },
    {
      "cell_type": "markdown",
      "metadata": {
        "id": "VK4vj6TSxIli"
      },
      "source": [
        "Vengono creati gli oggetti Dataset per ogni set di dati."
      ]
    },
    {
      "cell_type": "code",
      "execution_count": null,
      "metadata": {
        "execution": {
          "iopub.execute_input": "2024-01-03T15:12:21.084119Z",
          "iopub.status.busy": "2024-01-03T15:12:21.083817Z",
          "iopub.status.idle": "2024-01-03T15:12:21.117758Z",
          "shell.execute_reply": "2024-01-03T15:12:21.116969Z",
          "shell.execute_reply.started": "2024-01-03T15:12:21.084081Z"
        },
        "id": "BOUrieb9xQMi",
        "trusted": true
      },
      "outputs": [],
      "source": [
        "train_dataset = Dataset(df_augmented, df_labels)\n",
        "val_dataset = Dataset(x_val, y_val)"
      ]
    },
    {
      "cell_type": "markdown",
      "metadata": {
        "id": "CQTQ9q8ixUid"
      },
      "source": [
        "Vengono istanziate le seguenti variabili per cominciare l'addestramento:\n",
        "\n",
        "*   il device utilizzato (per l'addestramento è stata usata la GPU)\n",
        "*   il modello della rete classificatore\n",
        "*   la funzione di loss da utilizzare, la Binary Cross Entropy, in quanto siamo dinanzi ad una classificazione binaria\n",
        "*   l'ottimizzatore, Adam\n",
        "*   la funzione di callback, l'early-stopping"
      ]
    },
    {
      "cell_type": "code",
      "execution_count": null,
      "metadata": {
        "execution": {
          "iopub.execute_input": "2024-01-03T15:12:21.119843Z",
          "iopub.status.busy": "2024-01-03T15:12:21.119088Z",
          "iopub.status.idle": "2024-01-03T15:12:21.135454Z",
          "shell.execute_reply": "2024-01-03T15:12:21.134455Z",
          "shell.execute_reply.started": "2024-01-03T15:12:21.119807Z"
        },
        "id": "IxteRPRIxq1c",
        "trusted": true
      },
      "outputs": [],
      "source": [
        "device = torch.device(\"cuda\" if torch.cuda.is_available() else \"cpu\")\n",
        "model = ClassifierDeep(n_labels, hyperparameters[\"h_dim\"]+len(features)*hyperparameters[\"extra-features\"], hyperparameters[\"dropout\"]).to(device)\n",
        "loss = nn.BCELoss()\n",
        "optimizer = Adam(model.parameters(), lr=hyperparameters[\"learning_rate\"])\n",
        "early_stopping = EarlyStopping(patience=hyperparameters['patience'], min_delta=hyperparameters['min_delta'])"
      ]
    },
    {
      "cell_type": "markdown",
      "metadata": {
        "id": "roNu9RX5yZ4c"
      },
      "source": [
        "Viene effettuato l'addestramento"
      ]
    },
    {
      "cell_type": "code",
      "execution_count": null,
      "metadata": {
        "colab": {
          "base_uri": "https://localhost:8080/",
          "height": 695,
          "referenced_widgets": [
            "259403067173410a83f79fb982fd0a81",
            "b437f50313b34fbe97c48fd59eef69d5",
            "51b228e4fcc2481a9b025102a5b17254",
            "8066dc447f9640fda97f31c6fd2392d7",
            "3b1cbedc64bf4af586c7139e278f3dc2",
            "5b02f7405679446f8a38cdba2b4de93b",
            "bd44b2d3532f49bea60f6775fafbbf73",
            "9a9212027c874c40b54a30aec3ee5cf4",
            "00354f632f384e1b95e7770d4ea2d5ee",
            "2e3a88b33a79430297003492fd15b02a",
            "7886bc9288c347c5b69aa406c8b25bb5",
            "c5a10d905deb4f1d8bdda44ee5ea2605",
            "73f2f48e0ab74940b504395584722c43",
            "390414133e20480383e340efbfe2ac08",
            "dab06cdf569b4046b29765bf0bed9067",
            "5b1f389716b7448bbae742c5f3bb2032",
            "ada1e7fd944a43889d26a558daa1770c",
            "f0a6b46f1d364f83a7c201b4d91e0d8c",
            "9de7c3baddbd4004a4ee104a4b40d3d5",
            "d9b78107510e4f3eaddbb718928eacf4",
            "2147adc91fa24a03aa1b7aeb9ad2c712",
            "19fe8aca8ae9436e851ee8227acc9fff",
            "3c7a9f99cebc47899e5c8545136215c4",
            "552cd29bc2bd477ab34844ca073e91d6",
            "c20af1716f3a44f990b27cd01957e030",
            "b8500770efa94f408dff16a2da0edd5a",
            "58ccb506868949c697b86400f6847645",
            "3ff9999f9c904cfcae746b276648b3a1",
            "92739d2a263542909c5e524bc83e3c4d",
            "3dc17460461e4e6989274e131ffe4f75",
            "87cb2e53cbb54e8785bb4d400fbd6d6b",
            "4092c572ebd040e683010449a09c1339",
            "9f8d37f83e004f9bb31442fccaba4c2a",
            "79e962c3fa14406b8007fafa36c24f64",
            "32d1eda8e75f4da7a6c0ad732cce704d",
            "069599bca59f48848ce67ad7da54f75f",
            "56f650b6661a4bc8ba68ac3a80f47cba",
            "923af189c7d04aea8c1a5aa506ffdfc6",
            "1ce18cb95cb14838bfb404cb81a0c756",
            "c18ec9c81ac44e64a26adc315bd39bf5",
            "cfd942927ad54e5db2e8e8c5b65b91de",
            "bba8560c98ad4dfd9f082a9a3017b9d8",
            "e9d0c5ca0f244df8a8dddeed8ee38782",
            "7a5574488d664cc3acdd64496cac0aab",
            "8dcb92bc96e345ed8ac41e1d9acf6b55",
            "c298a6a6787e4d43975b97d342b1ceb2",
            "e6ddf18101394bbbb9022609dc2433c5",
            "3cedc86ca40b467eb6a630e065c582d1",
            "4d0279de1c8c4c798868fdea32605c41",
            "fc55f454c2764cd9a37ce3d83fa8bc3e",
            "83d6c28dd20f497db00dfd01be6ea7a0",
            "e109a8c7cee54e1aaa70788244a9a602",
            "20590057959e44699bc747bf14fcba87",
            "8fcc9e3908bf4d9d975ccc7fec776bf6",
            "0c1c721688f349209b09173d52bbc819",
            "e30edcdd8fc641af81224fb3d62e39a7",
            "eb5f0cd83021433ba2811fff5ec9c3a0",
            "8523de6bf9c54171bd747694be976b2f",
            "bf6a9bf5c746420586cc3035f996999e",
            "7f74bd53f28e46ff9f1553e9e4526b4b",
            "73e728610f124d3fa674efe076c8f5f3",
            "47d5829dc7f842d69fcd18c11c873bc2",
            "2c885726d0894e6a88811249cffef15d",
            "3c6d757b24154ad39be03c4dd7535ed4",
            "a494c5f9a1eb4c809db03fcfd74862b7",
            "cd229a2f18b5425487e25443d1e33f11",
            "16e6921b87bd43d5b1d8bd6182152376",
            "a462268830fc427aa9ee8edcd53747cb",
            "40a4862d28954ca4823dcf0a1579327c",
            "47912575967c474a8d66d00e7ee3d1cd",
            "fbf1121283c14a7a9b23dc9fce925ff2",
            "e521d7adcef34079a518a76cbdf1b3ad",
            "9060a4fbd99b4efcbacff27a733bcbec",
            "e4c62df632a344b5882ae3678bfe4caf",
            "c6906fe4f8094f60b905b5c1fd29b14c",
            "2f5f4d56e0bd4a6e84e3d12da27e7264",
            "236dfbe1b1544447a001c4927844351f"
          ]
        },
        "execution": {
          "iopub.execute_input": "2024-01-03T15:12:21.137207Z",
          "iopub.status.busy": "2024-01-03T15:12:21.136604Z",
          "iopub.status.idle": "2024-01-03T15:37:56.476823Z",
          "shell.execute_reply": "2024-01-03T15:37:56.475838Z",
          "shell.execute_reply.started": "2024-01-03T15:12:21.137154Z"
        },
        "id": "wZR_nvxjyXfL",
        "outputId": "58531097-cfff-4f72-905d-deee66e45ab9",
        "trusted": true
      },
      "outputs": [],
      "source": [
        "train_loss, validation_loss, train_acc, validation_acc, train_f1, validation_f1 = train_test(model, hyperparameters['epochs'], optimizer, device, train_dataset, val_dataset, hyperparameters['batch_size'], hyperparameters['language_model'], loss, early_stopping, features)"
      ]
    },
    {
      "cell_type": "markdown",
      "metadata": {
        "id": "-HVvjN3w1dvb"
      },
      "source": [
        "**VISUALIZZAZIONE DEI RISULTATI**"
      ]
    },
    {
      "cell_type": "markdown",
      "metadata": {
        "id": "JHi5jig61dvb"
      },
      "source": [
        "Andamento dell'addestramento dal punto di vista numerico."
      ]
    },
    {
      "cell_type": "code",
      "execution_count": null,
      "metadata": {
        "colab": {
          "base_uri": "https://localhost:8080/"
        },
        "id": "syJUVloy1dvb",
        "outputId": "3081c857-fc64-4648-b5be-9bc7c4d23663"
      },
      "outputs": [],
      "source": [
        "print(\"Train loss: \", train_loss)\n",
        "print(\"Validation loss: \", validation_loss)\n",
        "print(\"Train accuracy: \", train_acc)\n",
        "print(\"Validation accuracy: \", validation_acc)\n",
        "print(\"F1 score training set: \", train_f1)\n",
        "print(\"F1 score validation set: \", validation_f1)"
      ]
    },
    {
      "cell_type": "markdown",
      "metadata": {
        "id": "DENTDp7SysBG"
      },
      "source": [
        "Vengono plottate le misure ritornate dall'addestramento, sia per il training set sia per il validation set."
      ]
    },
    {
      "cell_type": "code",
      "execution_count": null,
      "metadata": {
        "colab": {
          "base_uri": "https://localhost:8080/",
          "height": 1000
        },
        "id": "WfhISF_T1dvc",
        "outputId": "049a1bd9-47ec-4138-c24b-50bf1c289409"
      },
      "outputs": [],
      "source": [
        "sns.lineplot(data=train_loss, label=\"train_loss\", color=\"blue\")\n",
        "sns.lineplot(data=validation_loss, label=\"val_loss\", color=\"red\")\n",
        "plt.legend(loc='upper left')\n",
        "plt.ylim(0,1)\n",
        "plt.yticks([i/10 for i in range(11)])\n",
        "plt.show()\n",
        "\n",
        "\n",
        "sns.lineplot(data=train_acc, label=\"train_accuracy\", color=\"blue\")\n",
        "sns.lineplot(data=validation_acc, label=\"val_accuracy\", color=\"red\")\n",
        "plt.legend(loc='lower right')\n",
        "plt.ylim(0,1)\n",
        "plt.yticks([i/10 for i in range(11)])\n",
        "plt.show()\n",
        "\n",
        "sns.lineplot(data=train_f1, label=\"f1-score train\", color=\"blue\")\n",
        "sns.lineplot(data=validation_f1, label=\"f1-score validation\", color=\"red\")\n",
        "plt.legend(loc='lower right')\n",
        "plt.ylim(0,1)\n",
        "plt.yticks([i/10 for i in range(11)])\n",
        "plt.show()"
      ]
    },
    {
      "cell_type": "markdown",
      "metadata": {
        "id": "CB0usvcA1dvc"
      },
      "source": [
        "**PREDIZIONE DELLE ETICHETTE DEL TEST**"
      ]
    },
    {
      "cell_type": "markdown",
      "metadata": {
        "id": "aKcK8JAO4MyB"
      },
      "source": [
        "Viene caricato il test set."
      ]
    },
    {
      "cell_type": "code",
      "execution_count": null,
      "metadata": {
        "execution": {
          "iopub.execute_input": "2024-01-03T15:37:57.173124Z",
          "iopub.status.busy": "2024-01-03T15:37:57.172847Z",
          "iopub.status.idle": "2024-01-03T15:37:57.198394Z",
          "shell.execute_reply": "2024-01-03T15:37:57.197463Z",
          "shell.execute_reply.started": "2024-01-03T15:37:57.173099Z"
        },
        "id": "JqiqjkB14Shp",
        "trusted": true
      },
      "outputs": [],
      "source": [
        "df_test_A = pd.read_csv(root + \"subtaskA_test.csv\", index_col=\"Id\")"
      ]
    },
    {
      "cell_type": "markdown",
      "metadata": {
        "id": "wlPtynf_1dvc"
      },
      "source": [
        "Viene caricato il modello salvato."
      ]
    },
    {
      "cell_type": "code",
      "execution_count": null,
      "metadata": {
        "colab": {
          "base_uri": "https://localhost:8080/"
        },
        "id": "kKpTMCUX1dvd",
        "outputId": "d60ee8f2-e748-4db3-dd38-1fc718b7ee93"
      },
      "outputs": [],
      "source": [
        "path = root + 'model/best_model.pth'\n",
        "model = torch.load(path)\n",
        "model.eval()"
      ]
    },
    {
      "cell_type": "markdown",
      "metadata": {
        "id": "W3_zwLpe44BB"
      },
      "source": [
        "Vengono predette le etichette dei dati di test."
      ]
    },
    {
      "cell_type": "code",
      "execution_count": null,
      "metadata": {
        "colab": {
          "base_uri": "https://localhost:8080/"
        },
        "execution": {
          "iopub.execute_input": "2024-01-03T15:37:57.210407Z",
          "iopub.status.busy": "2024-01-03T15:37:57.210048Z",
          "iopub.status.idle": "2024-01-03T15:38:06.385846Z",
          "shell.execute_reply": "2024-01-03T15:38:06.384895Z",
          "shell.execute_reply.started": "2024-01-03T15:37:57.210381Z"
        },
        "id": "Z2aPvraQ43UM",
        "outputId": "aa067727-9ef7-4f75-abfc-25ac34309272",
        "trusted": true
      },
      "outputs": [],
      "source": [
        "lm_model = SentenceTransformer(hyperparameters['language_model'])\n",
        "input = lm_model.encode(df_test_A.comment_text)\n",
        "if features != {}:\n",
        "    empty_features(features)\n",
        "    for sentence in df_test_A.comment_text:\n",
        "        get_features(sentence, features)\n",
        "    df_features=pd.DataFrame(features)\n",
        "    for column in df_features.columns:\n",
        "        input=np.append(input, np.array([list(df_features[column])]).T, axis=1)\n",
        "embeddings_texts = torch.tensor(input).to(torch.float32).to('cuda')\n",
        "output = model(embeddings_texts).squeeze()\n",
        "y_pred = output.round().int().tolist()"
      ]
    },
    {
      "cell_type": "markdown",
      "metadata": {
        "id": "y5kircs15E7o"
      },
      "source": [
        "Vengono salvati i dati di test etichettati dal modello in un file csv per la submission."
      ]
    },
    {
      "cell_type": "code",
      "execution_count": null,
      "metadata": {
        "execution": {
          "iopub.execute_input": "2024-01-03T15:38:06.390424Z",
          "iopub.status.busy": "2024-01-03T15:38:06.390109Z",
          "iopub.status.idle": "2024-01-03T15:38:06.408236Z",
          "shell.execute_reply": "2024-01-03T15:38:06.407333Z",
          "shell.execute_reply.started": "2024-01-03T15:38:06.390396Z"
        },
        "id": "v_46PNuP5EOs",
        "trusted": true
      },
      "outputs": [],
      "source": [
        "df_new = pd.DataFrame(y_pred, columns=['Expected'])\n",
        "df_new.to_csv(root + 'test/test.csv', index=True, index_label=\"Id\")"
      ]
    }
  ],
  "metadata": {
    "accelerator": "GPU",
    "colab": {
      "gpuType": "T4",
      "provenance": []
    },
    "kaggle": {
      "accelerator": "nvidiaTeslaT4",
      "dataSources": [
        {
          "datasetId": 4246824,
          "sourceId": 7318215,
          "sourceType": "datasetVersion"
        },
        {
          "datasetId": 4252265,
          "sourceId": 7326189,
          "sourceType": "datasetVersion"
        },
        {
          "datasetId": 4255656,
          "sourceId": 7331109,
          "sourceType": "datasetVersion"
        }
      ],
      "dockerImageVersionId": 30626,
      "isGpuEnabled": true,
      "isInternetEnabled": true,
      "language": "python",
      "sourceType": "notebook"
    },
    "kernelspec": {
      "display_name": "Python 3",
      "name": "python3"
    },
    "language_info": {
      "codemirror_mode": {
        "name": "ipython",
        "version": 3
      },
      "file_extension": ".py",
      "mimetype": "text/x-python",
      "name": "python",
      "nbconvert_exporter": "python",
      "pygments_lexer": "ipython3",
      "version": "3.10.12"
    },
    "widgets": {
      "application/vnd.jupyter.widget-state+json": {
        "0026befb53434cc1a5dce56c79e330c8": {
          "model_module": "@jupyter-widgets/controls",
          "model_module_version": "1.5.0",
          "model_name": "DescriptionStyleModel",
          "state": {
            "_model_module": "@jupyter-widgets/controls",
            "_model_module_version": "1.5.0",
            "_model_name": "DescriptionStyleModel",
            "_view_count": null,
            "_view_module": "@jupyter-widgets/base",
            "_view_module_version": "1.2.0",
            "_view_name": "StyleView",
            "description_width": ""
          }
        },
        "00354f632f384e1b95e7770d4ea2d5ee": {
          "model_module": "@jupyter-widgets/controls",
          "model_module_version": "1.5.0",
          "model_name": "ProgressStyleModel",
          "state": {
            "_model_module": "@jupyter-widgets/controls",
            "_model_module_version": "1.5.0",
            "_model_name": "ProgressStyleModel",
            "_view_count": null,
            "_view_module": "@jupyter-widgets/base",
            "_view_module_version": "1.2.0",
            "_view_name": "StyleView",
            "bar_color": null,
            "description_width": ""
          }
        },
        "069599bca59f48848ce67ad7da54f75f": {
          "model_module": "@jupyter-widgets/controls",
          "model_module_version": "1.5.0",
          "model_name": "FloatProgressModel",
          "state": {
            "_dom_classes": [],
            "_model_module": "@jupyter-widgets/controls",
            "_model_module_version": "1.5.0",
            "_model_name": "FloatProgressModel",
            "_view_count": null,
            "_view_module": "@jupyter-widgets/controls",
            "_view_module_version": "1.5.0",
            "_view_name": "ProgressView",
            "bar_style": "success",
            "description": "",
            "description_tooltip": null,
            "layout": "IPY_MODEL_cfd942927ad54e5db2e8e8c5b65b91de",
            "max": 196,
            "min": 0,
            "orientation": "horizontal",
            "style": "IPY_MODEL_bba8560c98ad4dfd9f082a9a3017b9d8",
            "value": 196
          }
        },
        "0a378bb8d3234c52b0e213c92b5a2220": {
          "model_module": "@jupyter-widgets/controls",
          "model_module_version": "1.5.0",
          "model_name": "ProgressStyleModel",
          "state": {
            "_model_module": "@jupyter-widgets/controls",
            "_model_module_version": "1.5.0",
            "_model_name": "ProgressStyleModel",
            "_view_count": null,
            "_view_module": "@jupyter-widgets/base",
            "_view_module_version": "1.2.0",
            "_view_name": "StyleView",
            "bar_color": null,
            "description_width": ""
          }
        },
        "0ac2c28416454f4fbf5e12ccee397dad": {
          "model_module": "@jupyter-widgets/controls",
          "model_module_version": "1.5.0",
          "model_name": "ProgressStyleModel",
          "state": {
            "_model_module": "@jupyter-widgets/controls",
            "_model_module_version": "1.5.0",
            "_model_name": "ProgressStyleModel",
            "_view_count": null,
            "_view_module": "@jupyter-widgets/base",
            "_view_module_version": "1.2.0",
            "_view_name": "StyleView",
            "bar_color": null,
            "description_width": ""
          }
        },
        "0c1c721688f349209b09173d52bbc819": {
          "model_module": "@jupyter-widgets/controls",
          "model_module_version": "1.5.0",
          "model_name": "DescriptionStyleModel",
          "state": {
            "_model_module": "@jupyter-widgets/controls",
            "_model_module_version": "1.5.0",
            "_model_name": "DescriptionStyleModel",
            "_view_count": null,
            "_view_module": "@jupyter-widgets/base",
            "_view_module_version": "1.2.0",
            "_view_name": "StyleView",
            "description_width": ""
          }
        },
        "0e1075106c8f4539b963caa797de8721": {
          "model_module": "@jupyter-widgets/base",
          "model_module_version": "1.2.0",
          "model_name": "LayoutModel",
          "state": {
            "_model_module": "@jupyter-widgets/base",
            "_model_module_version": "1.2.0",
            "_model_name": "LayoutModel",
            "_view_count": null,
            "_view_module": "@jupyter-widgets/base",
            "_view_module_version": "1.2.0",
            "_view_name": "LayoutView",
            "align_content": null,
            "align_items": null,
            "align_self": null,
            "border": null,
            "bottom": null,
            "display": null,
            "flex": null,
            "flex_flow": null,
            "grid_area": null,
            "grid_auto_columns": null,
            "grid_auto_flow": null,
            "grid_auto_rows": null,
            "grid_column": null,
            "grid_gap": null,
            "grid_row": null,
            "grid_template_areas": null,
            "grid_template_columns": null,
            "grid_template_rows": null,
            "height": null,
            "justify_content": null,
            "justify_items": null,
            "left": null,
            "margin": null,
            "max_height": null,
            "max_width": null,
            "min_height": null,
            "min_width": null,
            "object_fit": null,
            "object_position": null,
            "order": null,
            "overflow": null,
            "overflow_x": null,
            "overflow_y": null,
            "padding": null,
            "right": null,
            "top": null,
            "visibility": null,
            "width": null
          }
        },
        "0e7ea50bef0f4f32b764635f61fc2a9b": {
          "model_module": "@jupyter-widgets/controls",
          "model_module_version": "1.5.0",
          "model_name": "DescriptionStyleModel",
          "state": {
            "_model_module": "@jupyter-widgets/controls",
            "_model_module_version": "1.5.0",
            "_model_name": "DescriptionStyleModel",
            "_view_count": null,
            "_view_module": "@jupyter-widgets/base",
            "_view_module_version": "1.2.0",
            "_view_name": "StyleView",
            "description_width": ""
          }
        },
        "0eb8e974985947738ba9d8b50e425efe": {
          "model_module": "@jupyter-widgets/controls",
          "model_module_version": "1.5.0",
          "model_name": "HTMLModel",
          "state": {
            "_dom_classes": [],
            "_model_module": "@jupyter-widgets/controls",
            "_model_module_version": "1.5.0",
            "_model_name": "HTMLModel",
            "_view_count": null,
            "_view_module": "@jupyter-widgets/controls",
            "_view_module_version": "1.5.0",
            "_view_name": "HTMLView",
            "description": "",
            "description_tooltip": null,
            "layout": "IPY_MODEL_64c5d68077a54f1a94094c9bd66a2226",
            "placeholder": "​",
            "style": "IPY_MODEL_0026befb53434cc1a5dce56c79e330c8",
            "value": "vocab.txt: 100%"
          }
        },
        "120ab5b9358d451b93662f758ed76f40": {
          "model_module": "@jupyter-widgets/base",
          "model_module_version": "1.2.0",
          "model_name": "LayoutModel",
          "state": {
            "_model_module": "@jupyter-widgets/base",
            "_model_module_version": "1.2.0",
            "_model_name": "LayoutModel",
            "_view_count": null,
            "_view_module": "@jupyter-widgets/base",
            "_view_module_version": "1.2.0",
            "_view_name": "LayoutView",
            "align_content": null,
            "align_items": null,
            "align_self": null,
            "border": null,
            "bottom": null,
            "display": null,
            "flex": null,
            "flex_flow": null,
            "grid_area": null,
            "grid_auto_columns": null,
            "grid_auto_flow": null,
            "grid_auto_rows": null,
            "grid_column": null,
            "grid_gap": null,
            "grid_row": null,
            "grid_template_areas": null,
            "grid_template_columns": null,
            "grid_template_rows": null,
            "height": null,
            "justify_content": null,
            "justify_items": null,
            "left": null,
            "margin": null,
            "max_height": null,
            "max_width": null,
            "min_height": null,
            "min_width": null,
            "object_fit": null,
            "object_position": null,
            "order": null,
            "overflow": null,
            "overflow_x": null,
            "overflow_y": null,
            "padding": null,
            "right": null,
            "top": null,
            "visibility": null,
            "width": null
          }
        },
        "16e6921b87bd43d5b1d8bd6182152376": {
          "model_module": "@jupyter-widgets/controls",
          "model_module_version": "1.5.0",
          "model_name": "HBoxModel",
          "state": {
            "_dom_classes": [],
            "_model_module": "@jupyter-widgets/controls",
            "_model_module_version": "1.5.0",
            "_model_name": "HBoxModel",
            "_view_count": null,
            "_view_module": "@jupyter-widgets/controls",
            "_view_module_version": "1.5.0",
            "_view_name": "HBoxView",
            "box_style": "",
            "children": [
              "IPY_MODEL_a462268830fc427aa9ee8edcd53747cb",
              "IPY_MODEL_40a4862d28954ca4823dcf0a1579327c",
              "IPY_MODEL_47912575967c474a8d66d00e7ee3d1cd"
            ],
            "layout": "IPY_MODEL_fbf1121283c14a7a9b23dc9fce925ff2"
          }
        },
        "19fe8aca8ae9436e851ee8227acc9fff": {
          "model_module": "@jupyter-widgets/controls",
          "model_module_version": "1.5.0",
          "model_name": "DescriptionStyleModel",
          "state": {
            "_model_module": "@jupyter-widgets/controls",
            "_model_module_version": "1.5.0",
            "_model_name": "DescriptionStyleModel",
            "_view_count": null,
            "_view_module": "@jupyter-widgets/base",
            "_view_module_version": "1.2.0",
            "_view_name": "StyleView",
            "description_width": ""
          }
        },
        "1ce18cb95cb14838bfb404cb81a0c756": {
          "model_module": "@jupyter-widgets/base",
          "model_module_version": "1.2.0",
          "model_name": "LayoutModel",
          "state": {
            "_model_module": "@jupyter-widgets/base",
            "_model_module_version": "1.2.0",
            "_model_name": "LayoutModel",
            "_view_count": null,
            "_view_module": "@jupyter-widgets/base",
            "_view_module_version": "1.2.0",
            "_view_name": "LayoutView",
            "align_content": null,
            "align_items": null,
            "align_self": null,
            "border": null,
            "bottom": null,
            "display": null,
            "flex": null,
            "flex_flow": null,
            "grid_area": null,
            "grid_auto_columns": null,
            "grid_auto_flow": null,
            "grid_auto_rows": null,
            "grid_column": null,
            "grid_gap": null,
            "grid_row": null,
            "grid_template_areas": null,
            "grid_template_columns": null,
            "grid_template_rows": null,
            "height": null,
            "justify_content": null,
            "justify_items": null,
            "left": null,
            "margin": null,
            "max_height": null,
            "max_width": null,
            "min_height": null,
            "min_width": null,
            "object_fit": null,
            "object_position": null,
            "order": null,
            "overflow": null,
            "overflow_x": null,
            "overflow_y": null,
            "padding": null,
            "right": null,
            "top": null,
            "visibility": null,
            "width": null
          }
        },
        "20590057959e44699bc747bf14fcba87": {
          "model_module": "@jupyter-widgets/controls",
          "model_module_version": "1.5.0",
          "model_name": "ProgressStyleModel",
          "state": {
            "_model_module": "@jupyter-widgets/controls",
            "_model_module_version": "1.5.0",
            "_model_name": "ProgressStyleModel",
            "_view_count": null,
            "_view_module": "@jupyter-widgets/base",
            "_view_module_version": "1.2.0",
            "_view_name": "StyleView",
            "bar_color": null,
            "description_width": ""
          }
        },
        "2147adc91fa24a03aa1b7aeb9ad2c712": {
          "model_module": "@jupyter-widgets/base",
          "model_module_version": "1.2.0",
          "model_name": "LayoutModel",
          "state": {
            "_model_module": "@jupyter-widgets/base",
            "_model_module_version": "1.2.0",
            "_model_name": "LayoutModel",
            "_view_count": null,
            "_view_module": "@jupyter-widgets/base",
            "_view_module_version": "1.2.0",
            "_view_name": "LayoutView",
            "align_content": null,
            "align_items": null,
            "align_self": null,
            "border": null,
            "bottom": null,
            "display": null,
            "flex": null,
            "flex_flow": null,
            "grid_area": null,
            "grid_auto_columns": null,
            "grid_auto_flow": null,
            "grid_auto_rows": null,
            "grid_column": null,
            "grid_gap": null,
            "grid_row": null,
            "grid_template_areas": null,
            "grid_template_columns": null,
            "grid_template_rows": null,
            "height": null,
            "justify_content": null,
            "justify_items": null,
            "left": null,
            "margin": null,
            "max_height": null,
            "max_width": null,
            "min_height": null,
            "min_width": null,
            "object_fit": null,
            "object_position": null,
            "order": null,
            "overflow": null,
            "overflow_x": null,
            "overflow_y": null,
            "padding": null,
            "right": null,
            "top": null,
            "visibility": null,
            "width": null
          }
        },
        "236dfbe1b1544447a001c4927844351f": {
          "model_module": "@jupyter-widgets/controls",
          "model_module_version": "1.5.0",
          "model_name": "DescriptionStyleModel",
          "state": {
            "_model_module": "@jupyter-widgets/controls",
            "_model_module_version": "1.5.0",
            "_model_name": "DescriptionStyleModel",
            "_view_count": null,
            "_view_module": "@jupyter-widgets/base",
            "_view_module_version": "1.2.0",
            "_view_name": "StyleView",
            "description_width": ""
          }
        },
        "259403067173410a83f79fb982fd0a81": {
          "model_module": "@jupyter-widgets/controls",
          "model_module_version": "1.5.0",
          "model_name": "HBoxModel",
          "state": {
            "_dom_classes": [],
            "_model_module": "@jupyter-widgets/controls",
            "_model_module_version": "1.5.0",
            "_model_name": "HBoxModel",
            "_view_count": null,
            "_view_module": "@jupyter-widgets/controls",
            "_view_module_version": "1.5.0",
            "_view_name": "HBoxView",
            "box_style": "",
            "children": [
              "IPY_MODEL_b437f50313b34fbe97c48fd59eef69d5",
              "IPY_MODEL_51b228e4fcc2481a9b025102a5b17254",
              "IPY_MODEL_8066dc447f9640fda97f31c6fd2392d7"
            ],
            "layout": "IPY_MODEL_3b1cbedc64bf4af586c7139e278f3dc2"
          }
        },
        "294ea1d971dd46c1ae2ffa95e6f349b6": {
          "model_module": "@jupyter-widgets/controls",
          "model_module_version": "1.5.0",
          "model_name": "HTMLModel",
          "state": {
            "_dom_classes": [],
            "_model_module": "@jupyter-widgets/controls",
            "_model_module_version": "1.5.0",
            "_model_name": "HTMLModel",
            "_view_count": null,
            "_view_module": "@jupyter-widgets/controls",
            "_view_module_version": "1.5.0",
            "_view_name": "HTMLView",
            "description": "",
            "description_tooltip": null,
            "layout": "IPY_MODEL_ee51beadff43430ebf715a59c151ffce",
            "placeholder": "​",
            "style": "IPY_MODEL_55858dec9cb04ccb93fa33908af15c68",
            "value": "config.json: 100%"
          }
        },
        "2b60035d237146169de0271a68b1feda": {
          "model_module": "@jupyter-widgets/base",
          "model_module_version": "1.2.0",
          "model_name": "LayoutModel",
          "state": {
            "_model_module": "@jupyter-widgets/base",
            "_model_module_version": "1.2.0",
            "_model_name": "LayoutModel",
            "_view_count": null,
            "_view_module": "@jupyter-widgets/base",
            "_view_module_version": "1.2.0",
            "_view_name": "LayoutView",
            "align_content": null,
            "align_items": null,
            "align_self": null,
            "border": null,
            "bottom": null,
            "display": null,
            "flex": null,
            "flex_flow": null,
            "grid_area": null,
            "grid_auto_columns": null,
            "grid_auto_flow": null,
            "grid_auto_rows": null,
            "grid_column": null,
            "grid_gap": null,
            "grid_row": null,
            "grid_template_areas": null,
            "grid_template_columns": null,
            "grid_template_rows": null,
            "height": null,
            "justify_content": null,
            "justify_items": null,
            "left": null,
            "margin": null,
            "max_height": null,
            "max_width": null,
            "min_height": null,
            "min_width": null,
            "object_fit": null,
            "object_position": null,
            "order": null,
            "overflow": null,
            "overflow_x": null,
            "overflow_y": null,
            "padding": null,
            "right": null,
            "top": null,
            "visibility": null,
            "width": null
          }
        },
        "2c885726d0894e6a88811249cffef15d": {
          "model_module": "@jupyter-widgets/base",
          "model_module_version": "1.2.0",
          "model_name": "LayoutModel",
          "state": {
            "_model_module": "@jupyter-widgets/base",
            "_model_module_version": "1.2.0",
            "_model_name": "LayoutModel",
            "_view_count": null,
            "_view_module": "@jupyter-widgets/base",
            "_view_module_version": "1.2.0",
            "_view_name": "LayoutView",
            "align_content": null,
            "align_items": null,
            "align_self": null,
            "border": null,
            "bottom": null,
            "display": null,
            "flex": null,
            "flex_flow": null,
            "grid_area": null,
            "grid_auto_columns": null,
            "grid_auto_flow": null,
            "grid_auto_rows": null,
            "grid_column": null,
            "grid_gap": null,
            "grid_row": null,
            "grid_template_areas": null,
            "grid_template_columns": null,
            "grid_template_rows": null,
            "height": null,
            "justify_content": null,
            "justify_items": null,
            "left": null,
            "margin": null,
            "max_height": null,
            "max_width": null,
            "min_height": null,
            "min_width": null,
            "object_fit": null,
            "object_position": null,
            "order": null,
            "overflow": null,
            "overflow_x": null,
            "overflow_y": null,
            "padding": null,
            "right": null,
            "top": null,
            "visibility": null,
            "width": null
          }
        },
        "2e3a88b33a79430297003492fd15b02a": {
          "model_module": "@jupyter-widgets/base",
          "model_module_version": "1.2.0",
          "model_name": "LayoutModel",
          "state": {
            "_model_module": "@jupyter-widgets/base",
            "_model_module_version": "1.2.0",
            "_model_name": "LayoutModel",
            "_view_count": null,
            "_view_module": "@jupyter-widgets/base",
            "_view_module_version": "1.2.0",
            "_view_name": "LayoutView",
            "align_content": null,
            "align_items": null,
            "align_self": null,
            "border": null,
            "bottom": null,
            "display": null,
            "flex": null,
            "flex_flow": null,
            "grid_area": null,
            "grid_auto_columns": null,
            "grid_auto_flow": null,
            "grid_auto_rows": null,
            "grid_column": null,
            "grid_gap": null,
            "grid_row": null,
            "grid_template_areas": null,
            "grid_template_columns": null,
            "grid_template_rows": null,
            "height": null,
            "justify_content": null,
            "justify_items": null,
            "left": null,
            "margin": null,
            "max_height": null,
            "max_width": null,
            "min_height": null,
            "min_width": null,
            "object_fit": null,
            "object_position": null,
            "order": null,
            "overflow": null,
            "overflow_x": null,
            "overflow_y": null,
            "padding": null,
            "right": null,
            "top": null,
            "visibility": null,
            "width": null
          }
        },
        "2f5f4d56e0bd4a6e84e3d12da27e7264": {
          "model_module": "@jupyter-widgets/base",
          "model_module_version": "1.2.0",
          "model_name": "LayoutModel",
          "state": {
            "_model_module": "@jupyter-widgets/base",
            "_model_module_version": "1.2.0",
            "_model_name": "LayoutModel",
            "_view_count": null,
            "_view_module": "@jupyter-widgets/base",
            "_view_module_version": "1.2.0",
            "_view_name": "LayoutView",
            "align_content": null,
            "align_items": null,
            "align_self": null,
            "border": null,
            "bottom": null,
            "display": null,
            "flex": null,
            "flex_flow": null,
            "grid_area": null,
            "grid_auto_columns": null,
            "grid_auto_flow": null,
            "grid_auto_rows": null,
            "grid_column": null,
            "grid_gap": null,
            "grid_row": null,
            "grid_template_areas": null,
            "grid_template_columns": null,
            "grid_template_rows": null,
            "height": null,
            "justify_content": null,
            "justify_items": null,
            "left": null,
            "margin": null,
            "max_height": null,
            "max_width": null,
            "min_height": null,
            "min_width": null,
            "object_fit": null,
            "object_position": null,
            "order": null,
            "overflow": null,
            "overflow_x": null,
            "overflow_y": null,
            "padding": null,
            "right": null,
            "top": null,
            "visibility": null,
            "width": null
          }
        },
        "32d1eda8e75f4da7a6c0ad732cce704d": {
          "model_module": "@jupyter-widgets/controls",
          "model_module_version": "1.5.0",
          "model_name": "HTMLModel",
          "state": {
            "_dom_classes": [],
            "_model_module": "@jupyter-widgets/controls",
            "_model_module_version": "1.5.0",
            "_model_name": "HTMLModel",
            "_view_count": null,
            "_view_module": "@jupyter-widgets/controls",
            "_view_module_version": "1.5.0",
            "_view_name": "HTMLView",
            "description": "",
            "description_tooltip": null,
            "layout": "IPY_MODEL_1ce18cb95cb14838bfb404cb81a0c756",
            "placeholder": "​",
            "style": "IPY_MODEL_c18ec9c81ac44e64a26adc315bd39bf5",
            "value": "training set: 100%"
          }
        },
        "390414133e20480383e340efbfe2ac08": {
          "model_module": "@jupyter-widgets/controls",
          "model_module_version": "1.5.0",
          "model_name": "FloatProgressModel",
          "state": {
            "_dom_classes": [],
            "_model_module": "@jupyter-widgets/controls",
            "_model_module_version": "1.5.0",
            "_model_name": "FloatProgressModel",
            "_view_count": null,
            "_view_module": "@jupyter-widgets/controls",
            "_view_module_version": "1.5.0",
            "_view_name": "ProgressView",
            "bar_style": "success",
            "description": "",
            "description_tooltip": null,
            "layout": "IPY_MODEL_9de7c3baddbd4004a4ee104a4b40d3d5",
            "max": 196,
            "min": 0,
            "orientation": "horizontal",
            "style": "IPY_MODEL_d9b78107510e4f3eaddbb718928eacf4",
            "value": 196
          }
        },
        "3b1cbedc64bf4af586c7139e278f3dc2": {
          "model_module": "@jupyter-widgets/base",
          "model_module_version": "1.2.0",
          "model_name": "LayoutModel",
          "state": {
            "_model_module": "@jupyter-widgets/base",
            "_model_module_version": "1.2.0",
            "_model_name": "LayoutModel",
            "_view_count": null,
            "_view_module": "@jupyter-widgets/base",
            "_view_module_version": "1.2.0",
            "_view_name": "LayoutView",
            "align_content": null,
            "align_items": null,
            "align_self": null,
            "border": null,
            "bottom": null,
            "display": null,
            "flex": null,
            "flex_flow": null,
            "grid_area": null,
            "grid_auto_columns": null,
            "grid_auto_flow": null,
            "grid_auto_rows": null,
            "grid_column": null,
            "grid_gap": null,
            "grid_row": null,
            "grid_template_areas": null,
            "grid_template_columns": null,
            "grid_template_rows": null,
            "height": null,
            "justify_content": null,
            "justify_items": null,
            "left": null,
            "margin": null,
            "max_height": null,
            "max_width": null,
            "min_height": null,
            "min_width": null,
            "object_fit": null,
            "object_position": null,
            "order": null,
            "overflow": null,
            "overflow_x": null,
            "overflow_y": null,
            "padding": null,
            "right": null,
            "top": null,
            "visibility": null,
            "width": null
          }
        },
        "3c6d757b24154ad39be03c4dd7535ed4": {
          "model_module": "@jupyter-widgets/controls",
          "model_module_version": "1.5.0",
          "model_name": "ProgressStyleModel",
          "state": {
            "_model_module": "@jupyter-widgets/controls",
            "_model_module_version": "1.5.0",
            "_model_name": "ProgressStyleModel",
            "_view_count": null,
            "_view_module": "@jupyter-widgets/base",
            "_view_module_version": "1.2.0",
            "_view_name": "StyleView",
            "bar_color": null,
            "description_width": ""
          }
        },
        "3c7a9f99cebc47899e5c8545136215c4": {
          "model_module": "@jupyter-widgets/controls",
          "model_module_version": "1.5.0",
          "model_name": "HBoxModel",
          "state": {
            "_dom_classes": [],
            "_model_module": "@jupyter-widgets/controls",
            "_model_module_version": "1.5.0",
            "_model_name": "HBoxModel",
            "_view_count": null,
            "_view_module": "@jupyter-widgets/controls",
            "_view_module_version": "1.5.0",
            "_view_name": "HBoxView",
            "box_style": "",
            "children": [
              "IPY_MODEL_552cd29bc2bd477ab34844ca073e91d6",
              "IPY_MODEL_c20af1716f3a44f990b27cd01957e030",
              "IPY_MODEL_b8500770efa94f408dff16a2da0edd5a"
            ],
            "layout": "IPY_MODEL_58ccb506868949c697b86400f6847645"
          }
        },
        "3cedc86ca40b467eb6a630e065c582d1": {
          "model_module": "@jupyter-widgets/controls",
          "model_module_version": "1.5.0",
          "model_name": "HTMLModel",
          "state": {
            "_dom_classes": [],
            "_model_module": "@jupyter-widgets/controls",
            "_model_module_version": "1.5.0",
            "_model_name": "HTMLModel",
            "_view_count": null,
            "_view_module": "@jupyter-widgets/controls",
            "_view_module_version": "1.5.0",
            "_view_name": "HTMLView",
            "description": "",
            "description_tooltip": null,
            "layout": "IPY_MODEL_8fcc9e3908bf4d9d975ccc7fec776bf6",
            "placeholder": "​",
            "style": "IPY_MODEL_0c1c721688f349209b09173d52bbc819",
            "value": " 18/18 [00:08&lt;00:00,  2.46it/s]"
          }
        },
        "3dc17460461e4e6989274e131ffe4f75": {
          "model_module": "@jupyter-widgets/base",
          "model_module_version": "1.2.0",
          "model_name": "LayoutModel",
          "state": {
            "_model_module": "@jupyter-widgets/base",
            "_model_module_version": "1.2.0",
            "_model_name": "LayoutModel",
            "_view_count": null,
            "_view_module": "@jupyter-widgets/base",
            "_view_module_version": "1.2.0",
            "_view_name": "LayoutView",
            "align_content": null,
            "align_items": null,
            "align_self": null,
            "border": null,
            "bottom": null,
            "display": null,
            "flex": null,
            "flex_flow": null,
            "grid_area": null,
            "grid_auto_columns": null,
            "grid_auto_flow": null,
            "grid_auto_rows": null,
            "grid_column": null,
            "grid_gap": null,
            "grid_row": null,
            "grid_template_areas": null,
            "grid_template_columns": null,
            "grid_template_rows": null,
            "height": null,
            "justify_content": null,
            "justify_items": null,
            "left": null,
            "margin": null,
            "max_height": null,
            "max_width": null,
            "min_height": null,
            "min_width": null,
            "object_fit": null,
            "object_position": null,
            "order": null,
            "overflow": null,
            "overflow_x": null,
            "overflow_y": null,
            "padding": null,
            "right": null,
            "top": null,
            "visibility": null,
            "width": null
          }
        },
        "3ff9999f9c904cfcae746b276648b3a1": {
          "model_module": "@jupyter-widgets/base",
          "model_module_version": "1.2.0",
          "model_name": "LayoutModel",
          "state": {
            "_model_module": "@jupyter-widgets/base",
            "_model_module_version": "1.2.0",
            "_model_name": "LayoutModel",
            "_view_count": null,
            "_view_module": "@jupyter-widgets/base",
            "_view_module_version": "1.2.0",
            "_view_name": "LayoutView",
            "align_content": null,
            "align_items": null,
            "align_self": null,
            "border": null,
            "bottom": null,
            "display": null,
            "flex": null,
            "flex_flow": null,
            "grid_area": null,
            "grid_auto_columns": null,
            "grid_auto_flow": null,
            "grid_auto_rows": null,
            "grid_column": null,
            "grid_gap": null,
            "grid_row": null,
            "grid_template_areas": null,
            "grid_template_columns": null,
            "grid_template_rows": null,
            "height": null,
            "justify_content": null,
            "justify_items": null,
            "left": null,
            "margin": null,
            "max_height": null,
            "max_width": null,
            "min_height": null,
            "min_width": null,
            "object_fit": null,
            "object_position": null,
            "order": null,
            "overflow": null,
            "overflow_x": null,
            "overflow_y": null,
            "padding": null,
            "right": null,
            "top": null,
            "visibility": null,
            "width": null
          }
        },
        "4092c572ebd040e683010449a09c1339": {
          "model_module": "@jupyter-widgets/base",
          "model_module_version": "1.2.0",
          "model_name": "LayoutModel",
          "state": {
            "_model_module": "@jupyter-widgets/base",
            "_model_module_version": "1.2.0",
            "_model_name": "LayoutModel",
            "_view_count": null,
            "_view_module": "@jupyter-widgets/base",
            "_view_module_version": "1.2.0",
            "_view_name": "LayoutView",
            "align_content": null,
            "align_items": null,
            "align_self": null,
            "border": null,
            "bottom": null,
            "display": null,
            "flex": null,
            "flex_flow": null,
            "grid_area": null,
            "grid_auto_columns": null,
            "grid_auto_flow": null,
            "grid_auto_rows": null,
            "grid_column": null,
            "grid_gap": null,
            "grid_row": null,
            "grid_template_areas": null,
            "grid_template_columns": null,
            "grid_template_rows": null,
            "height": null,
            "justify_content": null,
            "justify_items": null,
            "left": null,
            "margin": null,
            "max_height": null,
            "max_width": null,
            "min_height": null,
            "min_width": null,
            "object_fit": null,
            "object_position": null,
            "order": null,
            "overflow": null,
            "overflow_x": null,
            "overflow_y": null,
            "padding": null,
            "right": null,
            "top": null,
            "visibility": null,
            "width": null
          }
        },
        "40a4862d28954ca4823dcf0a1579327c": {
          "model_module": "@jupyter-widgets/controls",
          "model_module_version": "1.5.0",
          "model_name": "FloatProgressModel",
          "state": {
            "_dom_classes": [],
            "_model_module": "@jupyter-widgets/controls",
            "_model_module_version": "1.5.0",
            "_model_name": "FloatProgressModel",
            "_view_count": null,
            "_view_module": "@jupyter-widgets/controls",
            "_view_module_version": "1.5.0",
            "_view_name": "ProgressView",
            "bar_style": "success",
            "description": "",
            "description_tooltip": null,
            "layout": "IPY_MODEL_e4c62df632a344b5882ae3678bfe4caf",
            "max": 18,
            "min": 0,
            "orientation": "horizontal",
            "style": "IPY_MODEL_c6906fe4f8094f60b905b5c1fd29b14c",
            "value": 18
          }
        },
        "47912575967c474a8d66d00e7ee3d1cd": {
          "model_module": "@jupyter-widgets/controls",
          "model_module_version": "1.5.0",
          "model_name": "HTMLModel",
          "state": {
            "_dom_classes": [],
            "_model_module": "@jupyter-widgets/controls",
            "_model_module_version": "1.5.0",
            "_model_name": "HTMLModel",
            "_view_count": null,
            "_view_module": "@jupyter-widgets/controls",
            "_view_module_version": "1.5.0",
            "_view_name": "HTMLView",
            "description": "",
            "description_tooltip": null,
            "layout": "IPY_MODEL_2f5f4d56e0bd4a6e84e3d12da27e7264",
            "placeholder": "​",
            "style": "IPY_MODEL_236dfbe1b1544447a001c4927844351f",
            "value": " 18/18 [00:08&lt;00:00,  2.49it/s]"
          }
        },
        "47d5829dc7f842d69fcd18c11c873bc2": {
          "model_module": "@jupyter-widgets/controls",
          "model_module_version": "1.5.0",
          "model_name": "DescriptionStyleModel",
          "state": {
            "_model_module": "@jupyter-widgets/controls",
            "_model_module_version": "1.5.0",
            "_model_name": "DescriptionStyleModel",
            "_view_count": null,
            "_view_module": "@jupyter-widgets/base",
            "_view_module_version": "1.2.0",
            "_view_name": "StyleView",
            "description_width": ""
          }
        },
        "4c6717ee7ac340b4807a8af80feb0d18": {
          "model_module": "@jupyter-widgets/controls",
          "model_module_version": "1.5.0",
          "model_name": "DescriptionStyleModel",
          "state": {
            "_model_module": "@jupyter-widgets/controls",
            "_model_module_version": "1.5.0",
            "_model_name": "DescriptionStyleModel",
            "_view_count": null,
            "_view_module": "@jupyter-widgets/base",
            "_view_module_version": "1.2.0",
            "_view_name": "StyleView",
            "description_width": ""
          }
        },
        "4d0279de1c8c4c798868fdea32605c41": {
          "model_module": "@jupyter-widgets/base",
          "model_module_version": "1.2.0",
          "model_name": "LayoutModel",
          "state": {
            "_model_module": "@jupyter-widgets/base",
            "_model_module_version": "1.2.0",
            "_model_name": "LayoutModel",
            "_view_count": null,
            "_view_module": "@jupyter-widgets/base",
            "_view_module_version": "1.2.0",
            "_view_name": "LayoutView",
            "align_content": null,
            "align_items": null,
            "align_self": null,
            "border": null,
            "bottom": null,
            "display": null,
            "flex": null,
            "flex_flow": null,
            "grid_area": null,
            "grid_auto_columns": null,
            "grid_auto_flow": null,
            "grid_auto_rows": null,
            "grid_column": null,
            "grid_gap": null,
            "grid_row": null,
            "grid_template_areas": null,
            "grid_template_columns": null,
            "grid_template_rows": null,
            "height": null,
            "justify_content": null,
            "justify_items": null,
            "left": null,
            "margin": null,
            "max_height": null,
            "max_width": null,
            "min_height": null,
            "min_width": null,
            "object_fit": null,
            "object_position": null,
            "order": null,
            "overflow": null,
            "overflow_x": null,
            "overflow_y": null,
            "padding": null,
            "right": null,
            "top": null,
            "visibility": null,
            "width": null
          }
        },
        "51b228e4fcc2481a9b025102a5b17254": {
          "model_module": "@jupyter-widgets/controls",
          "model_module_version": "1.5.0",
          "model_name": "FloatProgressModel",
          "state": {
            "_dom_classes": [],
            "_model_module": "@jupyter-widgets/controls",
            "_model_module_version": "1.5.0",
            "_model_name": "FloatProgressModel",
            "_view_count": null,
            "_view_module": "@jupyter-widgets/controls",
            "_view_module_version": "1.5.0",
            "_view_name": "ProgressView",
            "bar_style": "danger",
            "description": "",
            "description_tooltip": null,
            "layout": "IPY_MODEL_9a9212027c874c40b54a30aec3ee5cf4",
            "max": 1000,
            "min": 0,
            "orientation": "horizontal",
            "style": "IPY_MODEL_00354f632f384e1b95e7770d4ea2d5ee",
            "value": 2
          }
        },
        "52ef676fcf7b4de0b6dba6990504a1a8": {
          "model_module": "@jupyter-widgets/controls",
          "model_module_version": "1.5.0",
          "model_name": "FloatProgressModel",
          "state": {
            "_dom_classes": [],
            "_model_module": "@jupyter-widgets/controls",
            "_model_module_version": "1.5.0",
            "_model_name": "FloatProgressModel",
            "_view_count": null,
            "_view_module": "@jupyter-widgets/controls",
            "_view_module_version": "1.5.0",
            "_view_name": "ProgressView",
            "bar_style": "success",
            "description": "",
            "description_tooltip": null,
            "layout": "IPY_MODEL_b5503b3462254cfd9ce5cc8a77c1578a",
            "max": 242585,
            "min": 0,
            "orientation": "horizontal",
            "style": "IPY_MODEL_0ac2c28416454f4fbf5e12ccee397dad",
            "value": 242585
          }
        },
        "549b85ca03784cd1b41bf0a2dae7f8de": {
          "model_module": "@jupyter-widgets/controls",
          "model_module_version": "1.5.0",
          "model_name": "DescriptionStyleModel",
          "state": {
            "_model_module": "@jupyter-widgets/controls",
            "_model_module_version": "1.5.0",
            "_model_name": "DescriptionStyleModel",
            "_view_count": null,
            "_view_module": "@jupyter-widgets/base",
            "_view_module_version": "1.2.0",
            "_view_name": "StyleView",
            "description_width": ""
          }
        },
        "552cd29bc2bd477ab34844ca073e91d6": {
          "model_module": "@jupyter-widgets/controls",
          "model_module_version": "1.5.0",
          "model_name": "HTMLModel",
          "state": {
            "_dom_classes": [],
            "_model_module": "@jupyter-widgets/controls",
            "_model_module_version": "1.5.0",
            "_model_name": "HTMLModel",
            "_view_count": null,
            "_view_module": "@jupyter-widgets/controls",
            "_view_module_version": "1.5.0",
            "_view_name": "HTMLView",
            "description": "",
            "description_tooltip": null,
            "layout": "IPY_MODEL_3ff9999f9c904cfcae746b276648b3a1",
            "placeholder": "​",
            "style": "IPY_MODEL_92739d2a263542909c5e524bc83e3c4d",
            "value": "validation set: 100%"
          }
        },
        "55858dec9cb04ccb93fa33908af15c68": {
          "model_module": "@jupyter-widgets/controls",
          "model_module_version": "1.5.0",
          "model_name": "DescriptionStyleModel",
          "state": {
            "_model_module": "@jupyter-widgets/controls",
            "_model_module_version": "1.5.0",
            "_model_name": "DescriptionStyleModel",
            "_view_count": null,
            "_view_module": "@jupyter-widgets/base",
            "_view_module_version": "1.2.0",
            "_view_name": "StyleView",
            "description_width": ""
          }
        },
        "56f650b6661a4bc8ba68ac3a80f47cba": {
          "model_module": "@jupyter-widgets/controls",
          "model_module_version": "1.5.0",
          "model_name": "HTMLModel",
          "state": {
            "_dom_classes": [],
            "_model_module": "@jupyter-widgets/controls",
            "_model_module_version": "1.5.0",
            "_model_name": "HTMLModel",
            "_view_count": null,
            "_view_module": "@jupyter-widgets/controls",
            "_view_module_version": "1.5.0",
            "_view_name": "HTMLView",
            "description": "",
            "description_tooltip": null,
            "layout": "IPY_MODEL_e9d0c5ca0f244df8a8dddeed8ee38782",
            "placeholder": "​",
            "style": "IPY_MODEL_7a5574488d664cc3acdd64496cac0aab",
            "value": " 196/196 [01:39&lt;00:00,  2.23it/s]"
          }
        },
        "58ccb506868949c697b86400f6847645": {
          "model_module": "@jupyter-widgets/base",
          "model_module_version": "1.2.0",
          "model_name": "LayoutModel",
          "state": {
            "_model_module": "@jupyter-widgets/base",
            "_model_module_version": "1.2.0",
            "_model_name": "LayoutModel",
            "_view_count": null,
            "_view_module": "@jupyter-widgets/base",
            "_view_module_version": "1.2.0",
            "_view_name": "LayoutView",
            "align_content": null,
            "align_items": null,
            "align_self": null,
            "border": null,
            "bottom": null,
            "display": null,
            "flex": null,
            "flex_flow": null,
            "grid_area": null,
            "grid_auto_columns": null,
            "grid_auto_flow": null,
            "grid_auto_rows": null,
            "grid_column": null,
            "grid_gap": null,
            "grid_row": null,
            "grid_template_areas": null,
            "grid_template_columns": null,
            "grid_template_rows": null,
            "height": null,
            "justify_content": null,
            "justify_items": null,
            "left": null,
            "margin": null,
            "max_height": null,
            "max_width": null,
            "min_height": null,
            "min_width": null,
            "object_fit": null,
            "object_position": null,
            "order": null,
            "overflow": null,
            "overflow_x": null,
            "overflow_y": null,
            "padding": null,
            "right": null,
            "top": null,
            "visibility": null,
            "width": null
          }
        },
        "5b02f7405679446f8a38cdba2b4de93b": {
          "model_module": "@jupyter-widgets/base",
          "model_module_version": "1.2.0",
          "model_name": "LayoutModel",
          "state": {
            "_model_module": "@jupyter-widgets/base",
            "_model_module_version": "1.2.0",
            "_model_name": "LayoutModel",
            "_view_count": null,
            "_view_module": "@jupyter-widgets/base",
            "_view_module_version": "1.2.0",
            "_view_name": "LayoutView",
            "align_content": null,
            "align_items": null,
            "align_self": null,
            "border": null,
            "bottom": null,
            "display": null,
            "flex": null,
            "flex_flow": null,
            "grid_area": null,
            "grid_auto_columns": null,
            "grid_auto_flow": null,
            "grid_auto_rows": null,
            "grid_column": null,
            "grid_gap": null,
            "grid_row": null,
            "grid_template_areas": null,
            "grid_template_columns": null,
            "grid_template_rows": null,
            "height": null,
            "justify_content": null,
            "justify_items": null,
            "left": null,
            "margin": null,
            "max_height": null,
            "max_width": null,
            "min_height": null,
            "min_width": null,
            "object_fit": null,
            "object_position": null,
            "order": null,
            "overflow": null,
            "overflow_x": null,
            "overflow_y": null,
            "padding": null,
            "right": null,
            "top": null,
            "visibility": null,
            "width": null
          }
        },
        "5b1f389716b7448bbae742c5f3bb2032": {
          "model_module": "@jupyter-widgets/base",
          "model_module_version": "1.2.0",
          "model_name": "LayoutModel",
          "state": {
            "_model_module": "@jupyter-widgets/base",
            "_model_module_version": "1.2.0",
            "_model_name": "LayoutModel",
            "_view_count": null,
            "_view_module": "@jupyter-widgets/base",
            "_view_module_version": "1.2.0",
            "_view_name": "LayoutView",
            "align_content": null,
            "align_items": null,
            "align_self": null,
            "border": null,
            "bottom": null,
            "display": null,
            "flex": null,
            "flex_flow": null,
            "grid_area": null,
            "grid_auto_columns": null,
            "grid_auto_flow": null,
            "grid_auto_rows": null,
            "grid_column": null,
            "grid_gap": null,
            "grid_row": null,
            "grid_template_areas": null,
            "grid_template_columns": null,
            "grid_template_rows": null,
            "height": null,
            "justify_content": null,
            "justify_items": null,
            "left": null,
            "margin": null,
            "max_height": null,
            "max_width": null,
            "min_height": null,
            "min_width": null,
            "object_fit": null,
            "object_position": null,
            "order": null,
            "overflow": null,
            "overflow_x": null,
            "overflow_y": null,
            "padding": null,
            "right": null,
            "top": null,
            "visibility": null,
            "width": null
          }
        },
        "5e1ff2b6975d4edb8a76cd3980717661": {
          "model_module": "@jupyter-widgets/controls",
          "model_module_version": "1.5.0",
          "model_name": "HTMLModel",
          "state": {
            "_dom_classes": [],
            "_model_module": "@jupyter-widgets/controls",
            "_model_module_version": "1.5.0",
            "_model_name": "HTMLModel",
            "_view_count": null,
            "_view_module": "@jupyter-widgets/controls",
            "_view_module_version": "1.5.0",
            "_view_name": "HTMLView",
            "description": "",
            "description_tooltip": null,
            "layout": "IPY_MODEL_d55085f576d94e4e839a1c1e87be37ac",
            "placeholder": "​",
            "style": "IPY_MODEL_549b85ca03784cd1b41bf0a2dae7f8de",
            "value": " 433/433 [00:00&lt;00:00, 30.9kB/s]"
          }
        },
        "64c5d68077a54f1a94094c9bd66a2226": {
          "model_module": "@jupyter-widgets/base",
          "model_module_version": "1.2.0",
          "model_name": "LayoutModel",
          "state": {
            "_model_module": "@jupyter-widgets/base",
            "_model_module_version": "1.2.0",
            "_model_name": "LayoutModel",
            "_view_count": null,
            "_view_module": "@jupyter-widgets/base",
            "_view_module_version": "1.2.0",
            "_view_name": "LayoutView",
            "align_content": null,
            "align_items": null,
            "align_self": null,
            "border": null,
            "bottom": null,
            "display": null,
            "flex": null,
            "flex_flow": null,
            "grid_area": null,
            "grid_auto_columns": null,
            "grid_auto_flow": null,
            "grid_auto_rows": null,
            "grid_column": null,
            "grid_gap": null,
            "grid_row": null,
            "grid_template_areas": null,
            "grid_template_columns": null,
            "grid_template_rows": null,
            "height": null,
            "justify_content": null,
            "justify_items": null,
            "left": null,
            "margin": null,
            "max_height": null,
            "max_width": null,
            "min_height": null,
            "min_width": null,
            "object_fit": null,
            "object_position": null,
            "order": null,
            "overflow": null,
            "overflow_x": null,
            "overflow_y": null,
            "padding": null,
            "right": null,
            "top": null,
            "visibility": null,
            "width": null
          }
        },
        "6510820009634ad4a65d4a20d0ee5d69": {
          "model_module": "@jupyter-widgets/controls",
          "model_module_version": "1.5.0",
          "model_name": "FloatProgressModel",
          "state": {
            "_dom_classes": [],
            "_model_module": "@jupyter-widgets/controls",
            "_model_module_version": "1.5.0",
            "_model_name": "FloatProgressModel",
            "_view_count": null,
            "_view_module": "@jupyter-widgets/controls",
            "_view_module_version": "1.5.0",
            "_view_name": "ProgressView",
            "bar_style": "success",
            "description": "",
            "description_tooltip": null,
            "layout": "IPY_MODEL_bce0d587f99b4b53829f789f7762e08f",
            "max": 59,
            "min": 0,
            "orientation": "horizontal",
            "style": "IPY_MODEL_0a378bb8d3234c52b0e213c92b5a2220",
            "value": 59
          }
        },
        "73e728610f124d3fa674efe076c8f5f3": {
          "model_module": "@jupyter-widgets/base",
          "model_module_version": "1.2.0",
          "model_name": "LayoutModel",
          "state": {
            "_model_module": "@jupyter-widgets/base",
            "_model_module_version": "1.2.0",
            "_model_name": "LayoutModel",
            "_view_count": null,
            "_view_module": "@jupyter-widgets/base",
            "_view_module_version": "1.2.0",
            "_view_name": "LayoutView",
            "align_content": null,
            "align_items": null,
            "align_self": null,
            "border": null,
            "bottom": null,
            "display": null,
            "flex": null,
            "flex_flow": null,
            "grid_area": null,
            "grid_auto_columns": null,
            "grid_auto_flow": null,
            "grid_auto_rows": null,
            "grid_column": null,
            "grid_gap": null,
            "grid_row": null,
            "grid_template_areas": null,
            "grid_template_columns": null,
            "grid_template_rows": null,
            "height": null,
            "justify_content": null,
            "justify_items": null,
            "left": null,
            "margin": null,
            "max_height": null,
            "max_width": null,
            "min_height": null,
            "min_width": null,
            "object_fit": null,
            "object_position": null,
            "order": null,
            "overflow": null,
            "overflow_x": null,
            "overflow_y": null,
            "padding": null,
            "right": null,
            "top": null,
            "visibility": null,
            "width": null
          }
        },
        "73f2f48e0ab74940b504395584722c43": {
          "model_module": "@jupyter-widgets/controls",
          "model_module_version": "1.5.0",
          "model_name": "HTMLModel",
          "state": {
            "_dom_classes": [],
            "_model_module": "@jupyter-widgets/controls",
            "_model_module_version": "1.5.0",
            "_model_name": "HTMLModel",
            "_view_count": null,
            "_view_module": "@jupyter-widgets/controls",
            "_view_module_version": "1.5.0",
            "_view_name": "HTMLView",
            "description": "",
            "description_tooltip": null,
            "layout": "IPY_MODEL_ada1e7fd944a43889d26a558daa1770c",
            "placeholder": "​",
            "style": "IPY_MODEL_f0a6b46f1d364f83a7c201b4d91e0d8c",
            "value": "training set: 100%"
          }
        },
        "74b5372546a94c27a73e6b30e535020d": {
          "model_module": "@jupyter-widgets/controls",
          "model_module_version": "1.5.0",
          "model_name": "DescriptionStyleModel",
          "state": {
            "_model_module": "@jupyter-widgets/controls",
            "_model_module_version": "1.5.0",
            "_model_name": "DescriptionStyleModel",
            "_view_count": null,
            "_view_module": "@jupyter-widgets/base",
            "_view_module_version": "1.2.0",
            "_view_name": "StyleView",
            "description_width": ""
          }
        },
        "7886bc9288c347c5b69aa406c8b25bb5": {
          "model_module": "@jupyter-widgets/controls",
          "model_module_version": "1.5.0",
          "model_name": "DescriptionStyleModel",
          "state": {
            "_model_module": "@jupyter-widgets/controls",
            "_model_module_version": "1.5.0",
            "_model_name": "DescriptionStyleModel",
            "_view_count": null,
            "_view_module": "@jupyter-widgets/base",
            "_view_module_version": "1.2.0",
            "_view_name": "StyleView",
            "description_width": ""
          }
        },
        "79013ac88ac34c9985223662a2a94498": {
          "model_module": "@jupyter-widgets/base",
          "model_module_version": "1.2.0",
          "model_name": "LayoutModel",
          "state": {
            "_model_module": "@jupyter-widgets/base",
            "_model_module_version": "1.2.0",
            "_model_name": "LayoutModel",
            "_view_count": null,
            "_view_module": "@jupyter-widgets/base",
            "_view_module_version": "1.2.0",
            "_view_name": "LayoutView",
            "align_content": null,
            "align_items": null,
            "align_self": null,
            "border": null,
            "bottom": null,
            "display": null,
            "flex": null,
            "flex_flow": null,
            "grid_area": null,
            "grid_auto_columns": null,
            "grid_auto_flow": null,
            "grid_auto_rows": null,
            "grid_column": null,
            "grid_gap": null,
            "grid_row": null,
            "grid_template_areas": null,
            "grid_template_columns": null,
            "grid_template_rows": null,
            "height": null,
            "justify_content": null,
            "justify_items": null,
            "left": null,
            "margin": null,
            "max_height": null,
            "max_width": null,
            "min_height": null,
            "min_width": null,
            "object_fit": null,
            "object_position": null,
            "order": null,
            "overflow": null,
            "overflow_x": null,
            "overflow_y": null,
            "padding": null,
            "right": null,
            "top": null,
            "visibility": null,
            "width": null
          }
        },
        "79e962c3fa14406b8007fafa36c24f64": {
          "model_module": "@jupyter-widgets/controls",
          "model_module_version": "1.5.0",
          "model_name": "HBoxModel",
          "state": {
            "_dom_classes": [],
            "_model_module": "@jupyter-widgets/controls",
            "_model_module_version": "1.5.0",
            "_model_name": "HBoxModel",
            "_view_count": null,
            "_view_module": "@jupyter-widgets/controls",
            "_view_module_version": "1.5.0",
            "_view_name": "HBoxView",
            "box_style": "",
            "children": [
              "IPY_MODEL_32d1eda8e75f4da7a6c0ad732cce704d",
              "IPY_MODEL_069599bca59f48848ce67ad7da54f75f",
              "IPY_MODEL_56f650b6661a4bc8ba68ac3a80f47cba"
            ],
            "layout": "IPY_MODEL_923af189c7d04aea8c1a5aa506ffdfc6"
          }
        },
        "7a5574488d664cc3acdd64496cac0aab": {
          "model_module": "@jupyter-widgets/controls",
          "model_module_version": "1.5.0",
          "model_name": "DescriptionStyleModel",
          "state": {
            "_model_module": "@jupyter-widgets/controls",
            "_model_module_version": "1.5.0",
            "_model_name": "DescriptionStyleModel",
            "_view_count": null,
            "_view_module": "@jupyter-widgets/base",
            "_view_module_version": "1.2.0",
            "_view_name": "StyleView",
            "description_width": ""
          }
        },
        "7da37cb4b5264936a92958d47567958c": {
          "model_module": "@jupyter-widgets/controls",
          "model_module_version": "1.5.0",
          "model_name": "HBoxModel",
          "state": {
            "_dom_classes": [],
            "_model_module": "@jupyter-widgets/controls",
            "_model_module_version": "1.5.0",
            "_model_name": "HBoxModel",
            "_view_count": null,
            "_view_module": "@jupyter-widgets/controls",
            "_view_module_version": "1.5.0",
            "_view_name": "HBoxView",
            "box_style": "",
            "children": [
              "IPY_MODEL_d08006702e3b4f6ea2bcde5752feb10b",
              "IPY_MODEL_7ea146feae29452daaee7145846cb54b",
              "IPY_MODEL_ab09aa203f6f466c86794ef4ae077731"
            ],
            "layout": "IPY_MODEL_ff31bdca16e8482d9e52bd46c5a28470"
          }
        },
        "7ea146feae29452daaee7145846cb54b": {
          "model_module": "@jupyter-widgets/controls",
          "model_module_version": "1.5.0",
          "model_name": "FloatProgressModel",
          "state": {
            "_dom_classes": [],
            "_model_module": "@jupyter-widgets/controls",
            "_model_module_version": "1.5.0",
            "_model_name": "FloatProgressModel",
            "_view_count": null,
            "_view_module": "@jupyter-widgets/controls",
            "_view_module_version": "1.5.0",
            "_view_name": "ProgressView",
            "bar_style": "success",
            "description": "",
            "description_tooltip": null,
            "layout": "IPY_MODEL_cc3addbd24c04f1d8e272f20d8d3fe6d",
            "max": 445309892,
            "min": 0,
            "orientation": "horizontal",
            "style": "IPY_MODEL_d882793d104f4e0b91f6f3d90e35daa0",
            "value": 445309892
          }
        },
        "7f74bd53f28e46ff9f1553e9e4526b4b": {
          "model_module": "@jupyter-widgets/base",
          "model_module_version": "1.2.0",
          "model_name": "LayoutModel",
          "state": {
            "_model_module": "@jupyter-widgets/base",
            "_model_module_version": "1.2.0",
            "_model_name": "LayoutModel",
            "_view_count": null,
            "_view_module": "@jupyter-widgets/base",
            "_view_module_version": "1.2.0",
            "_view_name": "LayoutView",
            "align_content": null,
            "align_items": null,
            "align_self": null,
            "border": null,
            "bottom": null,
            "display": null,
            "flex": null,
            "flex_flow": null,
            "grid_area": null,
            "grid_auto_columns": null,
            "grid_auto_flow": null,
            "grid_auto_rows": null,
            "grid_column": null,
            "grid_gap": null,
            "grid_row": null,
            "grid_template_areas": null,
            "grid_template_columns": null,
            "grid_template_rows": null,
            "height": null,
            "justify_content": null,
            "justify_items": null,
            "left": null,
            "margin": null,
            "max_height": null,
            "max_width": null,
            "min_height": null,
            "min_width": null,
            "object_fit": null,
            "object_position": null,
            "order": null,
            "overflow": null,
            "overflow_x": null,
            "overflow_y": null,
            "padding": null,
            "right": null,
            "top": null,
            "visibility": null,
            "width": null
          }
        },
        "8066dc447f9640fda97f31c6fd2392d7": {
          "model_module": "@jupyter-widgets/controls",
          "model_module_version": "1.5.0",
          "model_name": "HTMLModel",
          "state": {
            "_dom_classes": [],
            "_model_module": "@jupyter-widgets/controls",
            "_model_module_version": "1.5.0",
            "_model_name": "HTMLModel",
            "_view_count": null,
            "_view_module": "@jupyter-widgets/controls",
            "_view_module_version": "1.5.0",
            "_view_name": "HTMLView",
            "description": "",
            "description_tooltip": null,
            "layout": "IPY_MODEL_2e3a88b33a79430297003492fd15b02a",
            "placeholder": "​",
            "style": "IPY_MODEL_7886bc9288c347c5b69aa406c8b25bb5",
            "value": " 2/1000 [05:26&lt;30:13:38, 109.04s/it]"
          }
        },
        "82cc17ec449b40c2bb0a2b81c66f3340": {
          "model_module": "@jupyter-widgets/controls",
          "model_module_version": "1.5.0",
          "model_name": "ProgressStyleModel",
          "state": {
            "_model_module": "@jupyter-widgets/controls",
            "_model_module_version": "1.5.0",
            "_model_name": "ProgressStyleModel",
            "_view_count": null,
            "_view_module": "@jupyter-widgets/base",
            "_view_module_version": "1.2.0",
            "_view_name": "StyleView",
            "bar_color": null,
            "description_width": ""
          }
        },
        "83d6c28dd20f497db00dfd01be6ea7a0": {
          "model_module": "@jupyter-widgets/controls",
          "model_module_version": "1.5.0",
          "model_name": "DescriptionStyleModel",
          "state": {
            "_model_module": "@jupyter-widgets/controls",
            "_model_module_version": "1.5.0",
            "_model_name": "DescriptionStyleModel",
            "_view_count": null,
            "_view_module": "@jupyter-widgets/base",
            "_view_module_version": "1.2.0",
            "_view_name": "StyleView",
            "description_width": ""
          }
        },
        "8523de6bf9c54171bd747694be976b2f": {
          "model_module": "@jupyter-widgets/controls",
          "model_module_version": "1.5.0",
          "model_name": "FloatProgressModel",
          "state": {
            "_dom_classes": [],
            "_model_module": "@jupyter-widgets/controls",
            "_model_module_version": "1.5.0",
            "_model_name": "FloatProgressModel",
            "_view_count": null,
            "_view_module": "@jupyter-widgets/controls",
            "_view_module_version": "1.5.0",
            "_view_name": "ProgressView",
            "bar_style": "success",
            "description": "",
            "description_tooltip": null,
            "layout": "IPY_MODEL_2c885726d0894e6a88811249cffef15d",
            "max": 196,
            "min": 0,
            "orientation": "horizontal",
            "style": "IPY_MODEL_3c6d757b24154ad39be03c4dd7535ed4",
            "value": 196
          }
        },
        "87cb2e53cbb54e8785bb4d400fbd6d6b": {
          "model_module": "@jupyter-widgets/controls",
          "model_module_version": "1.5.0",
          "model_name": "ProgressStyleModel",
          "state": {
            "_model_module": "@jupyter-widgets/controls",
            "_model_module_version": "1.5.0",
            "_model_name": "ProgressStyleModel",
            "_view_count": null,
            "_view_module": "@jupyter-widgets/base",
            "_view_module_version": "1.2.0",
            "_view_name": "StyleView",
            "bar_color": null,
            "description_width": ""
          }
        },
        "898cbd14407e4846864803ef7cfcd0c9": {
          "model_module": "@jupyter-widgets/controls",
          "model_module_version": "1.5.0",
          "model_name": "HTMLModel",
          "state": {
            "_dom_classes": [],
            "_model_module": "@jupyter-widgets/controls",
            "_model_module_version": "1.5.0",
            "_model_name": "HTMLModel",
            "_view_count": null,
            "_view_module": "@jupyter-widgets/controls",
            "_view_module_version": "1.5.0",
            "_view_name": "HTMLView",
            "description": "",
            "description_tooltip": null,
            "layout": "IPY_MODEL_0e1075106c8f4539b963caa797de8721",
            "placeholder": "​",
            "style": "IPY_MODEL_4c6717ee7ac340b4807a8af80feb0d18",
            "value": "tokenizer_config.json: 100%"
          }
        },
        "8dcb92bc96e345ed8ac41e1d9acf6b55": {
          "model_module": "@jupyter-widgets/controls",
          "model_module_version": "1.5.0",
          "model_name": "HBoxModel",
          "state": {
            "_dom_classes": [],
            "_model_module": "@jupyter-widgets/controls",
            "_model_module_version": "1.5.0",
            "_model_name": "HBoxModel",
            "_view_count": null,
            "_view_module": "@jupyter-widgets/controls",
            "_view_module_version": "1.5.0",
            "_view_name": "HBoxView",
            "box_style": "",
            "children": [
              "IPY_MODEL_c298a6a6787e4d43975b97d342b1ceb2",
              "IPY_MODEL_e6ddf18101394bbbb9022609dc2433c5",
              "IPY_MODEL_3cedc86ca40b467eb6a630e065c582d1"
            ],
            "layout": "IPY_MODEL_4d0279de1c8c4c798868fdea32605c41"
          }
        },
        "8efafe4f28b3454f8193cf8f14d71599": {
          "model_module": "@jupyter-widgets/base",
          "model_module_version": "1.2.0",
          "model_name": "LayoutModel",
          "state": {
            "_model_module": "@jupyter-widgets/base",
            "_model_module_version": "1.2.0",
            "_model_name": "LayoutModel",
            "_view_count": null,
            "_view_module": "@jupyter-widgets/base",
            "_view_module_version": "1.2.0",
            "_view_name": "LayoutView",
            "align_content": null,
            "align_items": null,
            "align_self": null,
            "border": null,
            "bottom": null,
            "display": null,
            "flex": null,
            "flex_flow": null,
            "grid_area": null,
            "grid_auto_columns": null,
            "grid_auto_flow": null,
            "grid_auto_rows": null,
            "grid_column": null,
            "grid_gap": null,
            "grid_row": null,
            "grid_template_areas": null,
            "grid_template_columns": null,
            "grid_template_rows": null,
            "height": null,
            "justify_content": null,
            "justify_items": null,
            "left": null,
            "margin": null,
            "max_height": null,
            "max_width": null,
            "min_height": null,
            "min_width": null,
            "object_fit": null,
            "object_position": null,
            "order": null,
            "overflow": null,
            "overflow_x": null,
            "overflow_y": null,
            "padding": null,
            "right": null,
            "top": null,
            "visibility": null,
            "width": null
          }
        },
        "8fcc9e3908bf4d9d975ccc7fec776bf6": {
          "model_module": "@jupyter-widgets/base",
          "model_module_version": "1.2.0",
          "model_name": "LayoutModel",
          "state": {
            "_model_module": "@jupyter-widgets/base",
            "_model_module_version": "1.2.0",
            "_model_name": "LayoutModel",
            "_view_count": null,
            "_view_module": "@jupyter-widgets/base",
            "_view_module_version": "1.2.0",
            "_view_name": "LayoutView",
            "align_content": null,
            "align_items": null,
            "align_self": null,
            "border": null,
            "bottom": null,
            "display": null,
            "flex": null,
            "flex_flow": null,
            "grid_area": null,
            "grid_auto_columns": null,
            "grid_auto_flow": null,
            "grid_auto_rows": null,
            "grid_column": null,
            "grid_gap": null,
            "grid_row": null,
            "grid_template_areas": null,
            "grid_template_columns": null,
            "grid_template_rows": null,
            "height": null,
            "justify_content": null,
            "justify_items": null,
            "left": null,
            "margin": null,
            "max_height": null,
            "max_width": null,
            "min_height": null,
            "min_width": null,
            "object_fit": null,
            "object_position": null,
            "order": null,
            "overflow": null,
            "overflow_x": null,
            "overflow_y": null,
            "padding": null,
            "right": null,
            "top": null,
            "visibility": null,
            "width": null
          }
        },
        "9060a4fbd99b4efcbacff27a733bcbec": {
          "model_module": "@jupyter-widgets/controls",
          "model_module_version": "1.5.0",
          "model_name": "DescriptionStyleModel",
          "state": {
            "_model_module": "@jupyter-widgets/controls",
            "_model_module_version": "1.5.0",
            "_model_name": "DescriptionStyleModel",
            "_view_count": null,
            "_view_module": "@jupyter-widgets/base",
            "_view_module_version": "1.2.0",
            "_view_name": "StyleView",
            "description_width": ""
          }
        },
        "923af189c7d04aea8c1a5aa506ffdfc6": {
          "model_module": "@jupyter-widgets/base",
          "model_module_version": "1.2.0",
          "model_name": "LayoutModel",
          "state": {
            "_model_module": "@jupyter-widgets/base",
            "_model_module_version": "1.2.0",
            "_model_name": "LayoutModel",
            "_view_count": null,
            "_view_module": "@jupyter-widgets/base",
            "_view_module_version": "1.2.0",
            "_view_name": "LayoutView",
            "align_content": null,
            "align_items": null,
            "align_self": null,
            "border": null,
            "bottom": null,
            "display": null,
            "flex": null,
            "flex_flow": null,
            "grid_area": null,
            "grid_auto_columns": null,
            "grid_auto_flow": null,
            "grid_auto_rows": null,
            "grid_column": null,
            "grid_gap": null,
            "grid_row": null,
            "grid_template_areas": null,
            "grid_template_columns": null,
            "grid_template_rows": null,
            "height": null,
            "justify_content": null,
            "justify_items": null,
            "left": null,
            "margin": null,
            "max_height": null,
            "max_width": null,
            "min_height": null,
            "min_width": null,
            "object_fit": null,
            "object_position": null,
            "order": null,
            "overflow": null,
            "overflow_x": null,
            "overflow_y": null,
            "padding": null,
            "right": null,
            "top": null,
            "visibility": null,
            "width": null
          }
        },
        "92739d2a263542909c5e524bc83e3c4d": {
          "model_module": "@jupyter-widgets/controls",
          "model_module_version": "1.5.0",
          "model_name": "DescriptionStyleModel",
          "state": {
            "_model_module": "@jupyter-widgets/controls",
            "_model_module_version": "1.5.0",
            "_model_name": "DescriptionStyleModel",
            "_view_count": null,
            "_view_module": "@jupyter-widgets/base",
            "_view_module_version": "1.2.0",
            "_view_name": "StyleView",
            "description_width": ""
          }
        },
        "99c7562ae92041448dd9c1bee2c4e436": {
          "model_module": "@jupyter-widgets/controls",
          "model_module_version": "1.5.0",
          "model_name": "HBoxModel",
          "state": {
            "_dom_classes": [],
            "_model_module": "@jupyter-widgets/controls",
            "_model_module_version": "1.5.0",
            "_model_name": "HBoxModel",
            "_view_count": null,
            "_view_module": "@jupyter-widgets/controls",
            "_view_module_version": "1.5.0",
            "_view_name": "HBoxView",
            "box_style": "",
            "children": [
              "IPY_MODEL_294ea1d971dd46c1ae2ffa95e6f349b6",
              "IPY_MODEL_ae57277ac2e44d60b57f02f3a504cb7e",
              "IPY_MODEL_5e1ff2b6975d4edb8a76cd3980717661"
            ],
            "layout": "IPY_MODEL_120ab5b9358d451b93662f758ed76f40"
          }
        },
        "9a9212027c874c40b54a30aec3ee5cf4": {
          "model_module": "@jupyter-widgets/base",
          "model_module_version": "1.2.0",
          "model_name": "LayoutModel",
          "state": {
            "_model_module": "@jupyter-widgets/base",
            "_model_module_version": "1.2.0",
            "_model_name": "LayoutModel",
            "_view_count": null,
            "_view_module": "@jupyter-widgets/base",
            "_view_module_version": "1.2.0",
            "_view_name": "LayoutView",
            "align_content": null,
            "align_items": null,
            "align_self": null,
            "border": null,
            "bottom": null,
            "display": null,
            "flex": null,
            "flex_flow": null,
            "grid_area": null,
            "grid_auto_columns": null,
            "grid_auto_flow": null,
            "grid_auto_rows": null,
            "grid_column": null,
            "grid_gap": null,
            "grid_row": null,
            "grid_template_areas": null,
            "grid_template_columns": null,
            "grid_template_rows": null,
            "height": null,
            "justify_content": null,
            "justify_items": null,
            "left": null,
            "margin": null,
            "max_height": null,
            "max_width": null,
            "min_height": null,
            "min_width": null,
            "object_fit": null,
            "object_position": null,
            "order": null,
            "overflow": null,
            "overflow_x": null,
            "overflow_y": null,
            "padding": null,
            "right": null,
            "top": null,
            "visibility": null,
            "width": null
          }
        },
        "9de7c3baddbd4004a4ee104a4b40d3d5": {
          "model_module": "@jupyter-widgets/base",
          "model_module_version": "1.2.0",
          "model_name": "LayoutModel",
          "state": {
            "_model_module": "@jupyter-widgets/base",
            "_model_module_version": "1.2.0",
            "_model_name": "LayoutModel",
            "_view_count": null,
            "_view_module": "@jupyter-widgets/base",
            "_view_module_version": "1.2.0",
            "_view_name": "LayoutView",
            "align_content": null,
            "align_items": null,
            "align_self": null,
            "border": null,
            "bottom": null,
            "display": null,
            "flex": null,
            "flex_flow": null,
            "grid_area": null,
            "grid_auto_columns": null,
            "grid_auto_flow": null,
            "grid_auto_rows": null,
            "grid_column": null,
            "grid_gap": null,
            "grid_row": null,
            "grid_template_areas": null,
            "grid_template_columns": null,
            "grid_template_rows": null,
            "height": null,
            "justify_content": null,
            "justify_items": null,
            "left": null,
            "margin": null,
            "max_height": null,
            "max_width": null,
            "min_height": null,
            "min_width": null,
            "object_fit": null,
            "object_position": null,
            "order": null,
            "overflow": null,
            "overflow_x": null,
            "overflow_y": null,
            "padding": null,
            "right": null,
            "top": null,
            "visibility": null,
            "width": null
          }
        },
        "9f8d37f83e004f9bb31442fccaba4c2a": {
          "model_module": "@jupyter-widgets/controls",
          "model_module_version": "1.5.0",
          "model_name": "DescriptionStyleModel",
          "state": {
            "_model_module": "@jupyter-widgets/controls",
            "_model_module_version": "1.5.0",
            "_model_name": "DescriptionStyleModel",
            "_view_count": null,
            "_view_module": "@jupyter-widgets/base",
            "_view_module_version": "1.2.0",
            "_view_name": "StyleView",
            "description_width": ""
          }
        },
        "a462268830fc427aa9ee8edcd53747cb": {
          "model_module": "@jupyter-widgets/controls",
          "model_module_version": "1.5.0",
          "model_name": "HTMLModel",
          "state": {
            "_dom_classes": [],
            "_model_module": "@jupyter-widgets/controls",
            "_model_module_version": "1.5.0",
            "_model_name": "HTMLModel",
            "_view_count": null,
            "_view_module": "@jupyter-widgets/controls",
            "_view_module_version": "1.5.0",
            "_view_name": "HTMLView",
            "description": "",
            "description_tooltip": null,
            "layout": "IPY_MODEL_e521d7adcef34079a518a76cbdf1b3ad",
            "placeholder": "​",
            "style": "IPY_MODEL_9060a4fbd99b4efcbacff27a733bcbec",
            "value": "validation set: 100%"
          }
        },
        "a494c5f9a1eb4c809db03fcfd74862b7": {
          "model_module": "@jupyter-widgets/base",
          "model_module_version": "1.2.0",
          "model_name": "LayoutModel",
          "state": {
            "_model_module": "@jupyter-widgets/base",
            "_model_module_version": "1.2.0",
            "_model_name": "LayoutModel",
            "_view_count": null,
            "_view_module": "@jupyter-widgets/base",
            "_view_module_version": "1.2.0",
            "_view_name": "LayoutView",
            "align_content": null,
            "align_items": null,
            "align_self": null,
            "border": null,
            "bottom": null,
            "display": null,
            "flex": null,
            "flex_flow": null,
            "grid_area": null,
            "grid_auto_columns": null,
            "grid_auto_flow": null,
            "grid_auto_rows": null,
            "grid_column": null,
            "grid_gap": null,
            "grid_row": null,
            "grid_template_areas": null,
            "grid_template_columns": null,
            "grid_template_rows": null,
            "height": null,
            "justify_content": null,
            "justify_items": null,
            "left": null,
            "margin": null,
            "max_height": null,
            "max_width": null,
            "min_height": null,
            "min_width": null,
            "object_fit": null,
            "object_position": null,
            "order": null,
            "overflow": null,
            "overflow_x": null,
            "overflow_y": null,
            "padding": null,
            "right": null,
            "top": null,
            "visibility": null,
            "width": null
          }
        },
        "ab09aa203f6f466c86794ef4ae077731": {
          "model_module": "@jupyter-widgets/controls",
          "model_module_version": "1.5.0",
          "model_name": "HTMLModel",
          "state": {
            "_dom_classes": [],
            "_model_module": "@jupyter-widgets/controls",
            "_model_module_version": "1.5.0",
            "_model_name": "HTMLModel",
            "_view_count": null,
            "_view_module": "@jupyter-widgets/controls",
            "_view_module_version": "1.5.0",
            "_view_name": "HTMLView",
            "description": "",
            "description_tooltip": null,
            "layout": "IPY_MODEL_c268c8b7791b4bd4826c954a3503ff24",
            "placeholder": "​",
            "style": "IPY_MODEL_dd2f30ca663c4563bf40d2e52721c169",
            "value": " 445M/445M [00:01&lt;00:00, 273MB/s]"
          }
        },
        "ada1e7fd944a43889d26a558daa1770c": {
          "model_module": "@jupyter-widgets/base",
          "model_module_version": "1.2.0",
          "model_name": "LayoutModel",
          "state": {
            "_model_module": "@jupyter-widgets/base",
            "_model_module_version": "1.2.0",
            "_model_name": "LayoutModel",
            "_view_count": null,
            "_view_module": "@jupyter-widgets/base",
            "_view_module_version": "1.2.0",
            "_view_name": "LayoutView",
            "align_content": null,
            "align_items": null,
            "align_self": null,
            "border": null,
            "bottom": null,
            "display": null,
            "flex": null,
            "flex_flow": null,
            "grid_area": null,
            "grid_auto_columns": null,
            "grid_auto_flow": null,
            "grid_auto_rows": null,
            "grid_column": null,
            "grid_gap": null,
            "grid_row": null,
            "grid_template_areas": null,
            "grid_template_columns": null,
            "grid_template_rows": null,
            "height": null,
            "justify_content": null,
            "justify_items": null,
            "left": null,
            "margin": null,
            "max_height": null,
            "max_width": null,
            "min_height": null,
            "min_width": null,
            "object_fit": null,
            "object_position": null,
            "order": null,
            "overflow": null,
            "overflow_x": null,
            "overflow_y": null,
            "padding": null,
            "right": null,
            "top": null,
            "visibility": null,
            "width": null
          }
        },
        "ae57277ac2e44d60b57f02f3a504cb7e": {
          "model_module": "@jupyter-widgets/controls",
          "model_module_version": "1.5.0",
          "model_name": "FloatProgressModel",
          "state": {
            "_dom_classes": [],
            "_model_module": "@jupyter-widgets/controls",
            "_model_module_version": "1.5.0",
            "_model_name": "FloatProgressModel",
            "_view_count": null,
            "_view_module": "@jupyter-widgets/controls",
            "_view_module_version": "1.5.0",
            "_view_name": "ProgressView",
            "bar_style": "success",
            "description": "",
            "description_tooltip": null,
            "layout": "IPY_MODEL_2b60035d237146169de0271a68b1feda",
            "max": 433,
            "min": 0,
            "orientation": "horizontal",
            "style": "IPY_MODEL_82cc17ec449b40c2bb0a2b81c66f3340",
            "value": 433
          }
        },
        "b437f50313b34fbe97c48fd59eef69d5": {
          "model_module": "@jupyter-widgets/controls",
          "model_module_version": "1.5.0",
          "model_name": "HTMLModel",
          "state": {
            "_dom_classes": [],
            "_model_module": "@jupyter-widgets/controls",
            "_model_module_version": "1.5.0",
            "_model_name": "HTMLModel",
            "_view_count": null,
            "_view_module": "@jupyter-widgets/controls",
            "_view_module_version": "1.5.0",
            "_view_name": "HTMLView",
            "description": "",
            "description_tooltip": null,
            "layout": "IPY_MODEL_5b02f7405679446f8a38cdba2b4de93b",
            "placeholder": "​",
            "style": "IPY_MODEL_bd44b2d3532f49bea60f6775fafbbf73",
            "value": "epoch:   0%"
          }
        },
        "b5503b3462254cfd9ce5cc8a77c1578a": {
          "model_module": "@jupyter-widgets/base",
          "model_module_version": "1.2.0",
          "model_name": "LayoutModel",
          "state": {
            "_model_module": "@jupyter-widgets/base",
            "_model_module_version": "1.2.0",
            "_model_name": "LayoutModel",
            "_view_count": null,
            "_view_module": "@jupyter-widgets/base",
            "_view_module_version": "1.2.0",
            "_view_name": "LayoutView",
            "align_content": null,
            "align_items": null,
            "align_self": null,
            "border": null,
            "bottom": null,
            "display": null,
            "flex": null,
            "flex_flow": null,
            "grid_area": null,
            "grid_auto_columns": null,
            "grid_auto_flow": null,
            "grid_auto_rows": null,
            "grid_column": null,
            "grid_gap": null,
            "grid_row": null,
            "grid_template_areas": null,
            "grid_template_columns": null,
            "grid_template_rows": null,
            "height": null,
            "justify_content": null,
            "justify_items": null,
            "left": null,
            "margin": null,
            "max_height": null,
            "max_width": null,
            "min_height": null,
            "min_width": null,
            "object_fit": null,
            "object_position": null,
            "order": null,
            "overflow": null,
            "overflow_x": null,
            "overflow_y": null,
            "padding": null,
            "right": null,
            "top": null,
            "visibility": null,
            "width": null
          }
        },
        "b649a5bcf1a24c28b920e57cb759f86e": {
          "model_module": "@jupyter-widgets/controls",
          "model_module_version": "1.5.0",
          "model_name": "HBoxModel",
          "state": {
            "_dom_classes": [],
            "_model_module": "@jupyter-widgets/controls",
            "_model_module_version": "1.5.0",
            "_model_name": "HBoxModel",
            "_view_count": null,
            "_view_module": "@jupyter-widgets/controls",
            "_view_module_version": "1.5.0",
            "_view_name": "HBoxView",
            "box_style": "",
            "children": [
              "IPY_MODEL_898cbd14407e4846864803ef7cfcd0c9",
              "IPY_MODEL_6510820009634ad4a65d4a20d0ee5d69",
              "IPY_MODEL_de381f9915de470c9b336c75edcc84da"
            ],
            "layout": "IPY_MODEL_8efafe4f28b3454f8193cf8f14d71599"
          }
        },
        "b8500770efa94f408dff16a2da0edd5a": {
          "model_module": "@jupyter-widgets/controls",
          "model_module_version": "1.5.0",
          "model_name": "HTMLModel",
          "state": {
            "_dom_classes": [],
            "_model_module": "@jupyter-widgets/controls",
            "_model_module_version": "1.5.0",
            "_model_name": "HTMLModel",
            "_view_count": null,
            "_view_module": "@jupyter-widgets/controls",
            "_view_module_version": "1.5.0",
            "_view_name": "HTMLView",
            "description": "",
            "description_tooltip": null,
            "layout": "IPY_MODEL_4092c572ebd040e683010449a09c1339",
            "placeholder": "​",
            "style": "IPY_MODEL_9f8d37f83e004f9bb31442fccaba4c2a",
            "value": " 18/18 [00:08&lt;00:00,  2.49it/s]"
          }
        },
        "bba8560c98ad4dfd9f082a9a3017b9d8": {
          "model_module": "@jupyter-widgets/controls",
          "model_module_version": "1.5.0",
          "model_name": "ProgressStyleModel",
          "state": {
            "_model_module": "@jupyter-widgets/controls",
            "_model_module_version": "1.5.0",
            "_model_name": "ProgressStyleModel",
            "_view_count": null,
            "_view_module": "@jupyter-widgets/base",
            "_view_module_version": "1.2.0",
            "_view_name": "StyleView",
            "bar_color": null,
            "description_width": ""
          }
        },
        "bce0d587f99b4b53829f789f7762e08f": {
          "model_module": "@jupyter-widgets/base",
          "model_module_version": "1.2.0",
          "model_name": "LayoutModel",
          "state": {
            "_model_module": "@jupyter-widgets/base",
            "_model_module_version": "1.2.0",
            "_model_name": "LayoutModel",
            "_view_count": null,
            "_view_module": "@jupyter-widgets/base",
            "_view_module_version": "1.2.0",
            "_view_name": "LayoutView",
            "align_content": null,
            "align_items": null,
            "align_self": null,
            "border": null,
            "bottom": null,
            "display": null,
            "flex": null,
            "flex_flow": null,
            "grid_area": null,
            "grid_auto_columns": null,
            "grid_auto_flow": null,
            "grid_auto_rows": null,
            "grid_column": null,
            "grid_gap": null,
            "grid_row": null,
            "grid_template_areas": null,
            "grid_template_columns": null,
            "grid_template_rows": null,
            "height": null,
            "justify_content": null,
            "justify_items": null,
            "left": null,
            "margin": null,
            "max_height": null,
            "max_width": null,
            "min_height": null,
            "min_width": null,
            "object_fit": null,
            "object_position": null,
            "order": null,
            "overflow": null,
            "overflow_x": null,
            "overflow_y": null,
            "padding": null,
            "right": null,
            "top": null,
            "visibility": null,
            "width": null
          }
        },
        "bd44b2d3532f49bea60f6775fafbbf73": {
          "model_module": "@jupyter-widgets/controls",
          "model_module_version": "1.5.0",
          "model_name": "DescriptionStyleModel",
          "state": {
            "_model_module": "@jupyter-widgets/controls",
            "_model_module_version": "1.5.0",
            "_model_name": "DescriptionStyleModel",
            "_view_count": null,
            "_view_module": "@jupyter-widgets/base",
            "_view_module_version": "1.2.0",
            "_view_name": "StyleView",
            "description_width": ""
          }
        },
        "bf6a9bf5c746420586cc3035f996999e": {
          "model_module": "@jupyter-widgets/controls",
          "model_module_version": "1.5.0",
          "model_name": "HTMLModel",
          "state": {
            "_dom_classes": [],
            "_model_module": "@jupyter-widgets/controls",
            "_model_module_version": "1.5.0",
            "_model_name": "HTMLModel",
            "_view_count": null,
            "_view_module": "@jupyter-widgets/controls",
            "_view_module_version": "1.5.0",
            "_view_name": "HTMLView",
            "description": "",
            "description_tooltip": null,
            "layout": "IPY_MODEL_a494c5f9a1eb4c809db03fcfd74862b7",
            "placeholder": "​",
            "style": "IPY_MODEL_cd229a2f18b5425487e25443d1e33f11",
            "value": " 196/196 [01:39&lt;00:00,  2.23it/s]"
          }
        },
        "c18ec9c81ac44e64a26adc315bd39bf5": {
          "model_module": "@jupyter-widgets/controls",
          "model_module_version": "1.5.0",
          "model_name": "DescriptionStyleModel",
          "state": {
            "_model_module": "@jupyter-widgets/controls",
            "_model_module_version": "1.5.0",
            "_model_name": "DescriptionStyleModel",
            "_view_count": null,
            "_view_module": "@jupyter-widgets/base",
            "_view_module_version": "1.2.0",
            "_view_name": "StyleView",
            "description_width": ""
          }
        },
        "c20af1716f3a44f990b27cd01957e030": {
          "model_module": "@jupyter-widgets/controls",
          "model_module_version": "1.5.0",
          "model_name": "FloatProgressModel",
          "state": {
            "_dom_classes": [],
            "_model_module": "@jupyter-widgets/controls",
            "_model_module_version": "1.5.0",
            "_model_name": "FloatProgressModel",
            "_view_count": null,
            "_view_module": "@jupyter-widgets/controls",
            "_view_module_version": "1.5.0",
            "_view_name": "ProgressView",
            "bar_style": "success",
            "description": "",
            "description_tooltip": null,
            "layout": "IPY_MODEL_3dc17460461e4e6989274e131ffe4f75",
            "max": 18,
            "min": 0,
            "orientation": "horizontal",
            "style": "IPY_MODEL_87cb2e53cbb54e8785bb4d400fbd6d6b",
            "value": 18
          }
        },
        "c268c8b7791b4bd4826c954a3503ff24": {
          "model_module": "@jupyter-widgets/base",
          "model_module_version": "1.2.0",
          "model_name": "LayoutModel",
          "state": {
            "_model_module": "@jupyter-widgets/base",
            "_model_module_version": "1.2.0",
            "_model_name": "LayoutModel",
            "_view_count": null,
            "_view_module": "@jupyter-widgets/base",
            "_view_module_version": "1.2.0",
            "_view_name": "LayoutView",
            "align_content": null,
            "align_items": null,
            "align_self": null,
            "border": null,
            "bottom": null,
            "display": null,
            "flex": null,
            "flex_flow": null,
            "grid_area": null,
            "grid_auto_columns": null,
            "grid_auto_flow": null,
            "grid_auto_rows": null,
            "grid_column": null,
            "grid_gap": null,
            "grid_row": null,
            "grid_template_areas": null,
            "grid_template_columns": null,
            "grid_template_rows": null,
            "height": null,
            "justify_content": null,
            "justify_items": null,
            "left": null,
            "margin": null,
            "max_height": null,
            "max_width": null,
            "min_height": null,
            "min_width": null,
            "object_fit": null,
            "object_position": null,
            "order": null,
            "overflow": null,
            "overflow_x": null,
            "overflow_y": null,
            "padding": null,
            "right": null,
            "top": null,
            "visibility": null,
            "width": null
          }
        },
        "c298a6a6787e4d43975b97d342b1ceb2": {
          "model_module": "@jupyter-widgets/controls",
          "model_module_version": "1.5.0",
          "model_name": "HTMLModel",
          "state": {
            "_dom_classes": [],
            "_model_module": "@jupyter-widgets/controls",
            "_model_module_version": "1.5.0",
            "_model_name": "HTMLModel",
            "_view_count": null,
            "_view_module": "@jupyter-widgets/controls",
            "_view_module_version": "1.5.0",
            "_view_name": "HTMLView",
            "description": "",
            "description_tooltip": null,
            "layout": "IPY_MODEL_fc55f454c2764cd9a37ce3d83fa8bc3e",
            "placeholder": "​",
            "style": "IPY_MODEL_83d6c28dd20f497db00dfd01be6ea7a0",
            "value": "validation set: 100%"
          }
        },
        "c30a443ef545447a86f60e8856c054af": {
          "model_module": "@jupyter-widgets/base",
          "model_module_version": "1.2.0",
          "model_name": "LayoutModel",
          "state": {
            "_model_module": "@jupyter-widgets/base",
            "_model_module_version": "1.2.0",
            "_model_name": "LayoutModel",
            "_view_count": null,
            "_view_module": "@jupyter-widgets/base",
            "_view_module_version": "1.2.0",
            "_view_name": "LayoutView",
            "align_content": null,
            "align_items": null,
            "align_self": null,
            "border": null,
            "bottom": null,
            "display": null,
            "flex": null,
            "flex_flow": null,
            "grid_area": null,
            "grid_auto_columns": null,
            "grid_auto_flow": null,
            "grid_auto_rows": null,
            "grid_column": null,
            "grid_gap": null,
            "grid_row": null,
            "grid_template_areas": null,
            "grid_template_columns": null,
            "grid_template_rows": null,
            "height": null,
            "justify_content": null,
            "justify_items": null,
            "left": null,
            "margin": null,
            "max_height": null,
            "max_width": null,
            "min_height": null,
            "min_width": null,
            "object_fit": null,
            "object_position": null,
            "order": null,
            "overflow": null,
            "overflow_x": null,
            "overflow_y": null,
            "padding": null,
            "right": null,
            "top": null,
            "visibility": null,
            "width": null
          }
        },
        "c5a10d905deb4f1d8bdda44ee5ea2605": {
          "model_module": "@jupyter-widgets/controls",
          "model_module_version": "1.5.0",
          "model_name": "HBoxModel",
          "state": {
            "_dom_classes": [],
            "_model_module": "@jupyter-widgets/controls",
            "_model_module_version": "1.5.0",
            "_model_name": "HBoxModel",
            "_view_count": null,
            "_view_module": "@jupyter-widgets/controls",
            "_view_module_version": "1.5.0",
            "_view_name": "HBoxView",
            "box_style": "",
            "children": [
              "IPY_MODEL_73f2f48e0ab74940b504395584722c43",
              "IPY_MODEL_390414133e20480383e340efbfe2ac08",
              "IPY_MODEL_dab06cdf569b4046b29765bf0bed9067"
            ],
            "layout": "IPY_MODEL_5b1f389716b7448bbae742c5f3bb2032"
          }
        },
        "c6906fe4f8094f60b905b5c1fd29b14c": {
          "model_module": "@jupyter-widgets/controls",
          "model_module_version": "1.5.0",
          "model_name": "ProgressStyleModel",
          "state": {
            "_model_module": "@jupyter-widgets/controls",
            "_model_module_version": "1.5.0",
            "_model_name": "ProgressStyleModel",
            "_view_count": null,
            "_view_module": "@jupyter-widgets/base",
            "_view_module_version": "1.2.0",
            "_view_name": "StyleView",
            "bar_color": null,
            "description_width": ""
          }
        },
        "cc3addbd24c04f1d8e272f20d8d3fe6d": {
          "model_module": "@jupyter-widgets/base",
          "model_module_version": "1.2.0",
          "model_name": "LayoutModel",
          "state": {
            "_model_module": "@jupyter-widgets/base",
            "_model_module_version": "1.2.0",
            "_model_name": "LayoutModel",
            "_view_count": null,
            "_view_module": "@jupyter-widgets/base",
            "_view_module_version": "1.2.0",
            "_view_name": "LayoutView",
            "align_content": null,
            "align_items": null,
            "align_self": null,
            "border": null,
            "bottom": null,
            "display": null,
            "flex": null,
            "flex_flow": null,
            "grid_area": null,
            "grid_auto_columns": null,
            "grid_auto_flow": null,
            "grid_auto_rows": null,
            "grid_column": null,
            "grid_gap": null,
            "grid_row": null,
            "grid_template_areas": null,
            "grid_template_columns": null,
            "grid_template_rows": null,
            "height": null,
            "justify_content": null,
            "justify_items": null,
            "left": null,
            "margin": null,
            "max_height": null,
            "max_width": null,
            "min_height": null,
            "min_width": null,
            "object_fit": null,
            "object_position": null,
            "order": null,
            "overflow": null,
            "overflow_x": null,
            "overflow_y": null,
            "padding": null,
            "right": null,
            "top": null,
            "visibility": null,
            "width": null
          }
        },
        "cd229a2f18b5425487e25443d1e33f11": {
          "model_module": "@jupyter-widgets/controls",
          "model_module_version": "1.5.0",
          "model_name": "DescriptionStyleModel",
          "state": {
            "_model_module": "@jupyter-widgets/controls",
            "_model_module_version": "1.5.0",
            "_model_name": "DescriptionStyleModel",
            "_view_count": null,
            "_view_module": "@jupyter-widgets/base",
            "_view_module_version": "1.2.0",
            "_view_name": "StyleView",
            "description_width": ""
          }
        },
        "cfd942927ad54e5db2e8e8c5b65b91de": {
          "model_module": "@jupyter-widgets/base",
          "model_module_version": "1.2.0",
          "model_name": "LayoutModel",
          "state": {
            "_model_module": "@jupyter-widgets/base",
            "_model_module_version": "1.2.0",
            "_model_name": "LayoutModel",
            "_view_count": null,
            "_view_module": "@jupyter-widgets/base",
            "_view_module_version": "1.2.0",
            "_view_name": "LayoutView",
            "align_content": null,
            "align_items": null,
            "align_self": null,
            "border": null,
            "bottom": null,
            "display": null,
            "flex": null,
            "flex_flow": null,
            "grid_area": null,
            "grid_auto_columns": null,
            "grid_auto_flow": null,
            "grid_auto_rows": null,
            "grid_column": null,
            "grid_gap": null,
            "grid_row": null,
            "grid_template_areas": null,
            "grid_template_columns": null,
            "grid_template_rows": null,
            "height": null,
            "justify_content": null,
            "justify_items": null,
            "left": null,
            "margin": null,
            "max_height": null,
            "max_width": null,
            "min_height": null,
            "min_width": null,
            "object_fit": null,
            "object_position": null,
            "order": null,
            "overflow": null,
            "overflow_x": null,
            "overflow_y": null,
            "padding": null,
            "right": null,
            "top": null,
            "visibility": null,
            "width": null
          }
        },
        "d08006702e3b4f6ea2bcde5752feb10b": {
          "model_module": "@jupyter-widgets/controls",
          "model_module_version": "1.5.0",
          "model_name": "HTMLModel",
          "state": {
            "_dom_classes": [],
            "_model_module": "@jupyter-widgets/controls",
            "_model_module_version": "1.5.0",
            "_model_name": "HTMLModel",
            "_view_count": null,
            "_view_module": "@jupyter-widgets/controls",
            "_view_module_version": "1.5.0",
            "_view_name": "HTMLView",
            "description": "",
            "description_tooltip": null,
            "layout": "IPY_MODEL_c30a443ef545447a86f60e8856c054af",
            "placeholder": "​",
            "style": "IPY_MODEL_0e7ea50bef0f4f32b764635f61fc2a9b",
            "value": "model.safetensors: 100%"
          }
        },
        "d55085f576d94e4e839a1c1e87be37ac": {
          "model_module": "@jupyter-widgets/base",
          "model_module_version": "1.2.0",
          "model_name": "LayoutModel",
          "state": {
            "_model_module": "@jupyter-widgets/base",
            "_model_module_version": "1.2.0",
            "_model_name": "LayoutModel",
            "_view_count": null,
            "_view_module": "@jupyter-widgets/base",
            "_view_module_version": "1.2.0",
            "_view_name": "LayoutView",
            "align_content": null,
            "align_items": null,
            "align_self": null,
            "border": null,
            "bottom": null,
            "display": null,
            "flex": null,
            "flex_flow": null,
            "grid_area": null,
            "grid_auto_columns": null,
            "grid_auto_flow": null,
            "grid_auto_rows": null,
            "grid_column": null,
            "grid_gap": null,
            "grid_row": null,
            "grid_template_areas": null,
            "grid_template_columns": null,
            "grid_template_rows": null,
            "height": null,
            "justify_content": null,
            "justify_items": null,
            "left": null,
            "margin": null,
            "max_height": null,
            "max_width": null,
            "min_height": null,
            "min_width": null,
            "object_fit": null,
            "object_position": null,
            "order": null,
            "overflow": null,
            "overflow_x": null,
            "overflow_y": null,
            "padding": null,
            "right": null,
            "top": null,
            "visibility": null,
            "width": null
          }
        },
        "d882793d104f4e0b91f6f3d90e35daa0": {
          "model_module": "@jupyter-widgets/controls",
          "model_module_version": "1.5.0",
          "model_name": "ProgressStyleModel",
          "state": {
            "_model_module": "@jupyter-widgets/controls",
            "_model_module_version": "1.5.0",
            "_model_name": "ProgressStyleModel",
            "_view_count": null,
            "_view_module": "@jupyter-widgets/base",
            "_view_module_version": "1.2.0",
            "_view_name": "StyleView",
            "bar_color": null,
            "description_width": ""
          }
        },
        "d9b78107510e4f3eaddbb718928eacf4": {
          "model_module": "@jupyter-widgets/controls",
          "model_module_version": "1.5.0",
          "model_name": "ProgressStyleModel",
          "state": {
            "_model_module": "@jupyter-widgets/controls",
            "_model_module_version": "1.5.0",
            "_model_name": "ProgressStyleModel",
            "_view_count": null,
            "_view_module": "@jupyter-widgets/base",
            "_view_module_version": "1.2.0",
            "_view_name": "StyleView",
            "bar_color": null,
            "description_width": ""
          }
        },
        "dab06cdf569b4046b29765bf0bed9067": {
          "model_module": "@jupyter-widgets/controls",
          "model_module_version": "1.5.0",
          "model_name": "HTMLModel",
          "state": {
            "_dom_classes": [],
            "_model_module": "@jupyter-widgets/controls",
            "_model_module_version": "1.5.0",
            "_model_name": "HTMLModel",
            "_view_count": null,
            "_view_module": "@jupyter-widgets/controls",
            "_view_module_version": "1.5.0",
            "_view_name": "HTMLView",
            "description": "",
            "description_tooltip": null,
            "layout": "IPY_MODEL_2147adc91fa24a03aa1b7aeb9ad2c712",
            "placeholder": "​",
            "style": "IPY_MODEL_19fe8aca8ae9436e851ee8227acc9fff",
            "value": " 196/196 [01:40&lt;00:00,  2.19it/s]"
          }
        },
        "dad8c3b90c5842f383a8b17b5e33d067": {
          "model_module": "@jupyter-widgets/base",
          "model_module_version": "1.2.0",
          "model_name": "LayoutModel",
          "state": {
            "_model_module": "@jupyter-widgets/base",
            "_model_module_version": "1.2.0",
            "_model_name": "LayoutModel",
            "_view_count": null,
            "_view_module": "@jupyter-widgets/base",
            "_view_module_version": "1.2.0",
            "_view_name": "LayoutView",
            "align_content": null,
            "align_items": null,
            "align_self": null,
            "border": null,
            "bottom": null,
            "display": null,
            "flex": null,
            "flex_flow": null,
            "grid_area": null,
            "grid_auto_columns": null,
            "grid_auto_flow": null,
            "grid_auto_rows": null,
            "grid_column": null,
            "grid_gap": null,
            "grid_row": null,
            "grid_template_areas": null,
            "grid_template_columns": null,
            "grid_template_rows": null,
            "height": null,
            "justify_content": null,
            "justify_items": null,
            "left": null,
            "margin": null,
            "max_height": null,
            "max_width": null,
            "min_height": null,
            "min_width": null,
            "object_fit": null,
            "object_position": null,
            "order": null,
            "overflow": null,
            "overflow_x": null,
            "overflow_y": null,
            "padding": null,
            "right": null,
            "top": null,
            "visibility": null,
            "width": null
          }
        },
        "dd2f30ca663c4563bf40d2e52721c169": {
          "model_module": "@jupyter-widgets/controls",
          "model_module_version": "1.5.0",
          "model_name": "DescriptionStyleModel",
          "state": {
            "_model_module": "@jupyter-widgets/controls",
            "_model_module_version": "1.5.0",
            "_model_name": "DescriptionStyleModel",
            "_view_count": null,
            "_view_module": "@jupyter-widgets/base",
            "_view_module_version": "1.2.0",
            "_view_name": "StyleView",
            "description_width": ""
          }
        },
        "de381f9915de470c9b336c75edcc84da": {
          "model_module": "@jupyter-widgets/controls",
          "model_module_version": "1.5.0",
          "model_name": "HTMLModel",
          "state": {
            "_dom_classes": [],
            "_model_module": "@jupyter-widgets/controls",
            "_model_module_version": "1.5.0",
            "_model_name": "HTMLModel",
            "_view_count": null,
            "_view_module": "@jupyter-widgets/controls",
            "_view_module_version": "1.5.0",
            "_view_name": "HTMLView",
            "description": "",
            "description_tooltip": null,
            "layout": "IPY_MODEL_79013ac88ac34c9985223662a2a94498",
            "placeholder": "​",
            "style": "IPY_MODEL_74b5372546a94c27a73e6b30e535020d",
            "value": " 59.0/59.0 [00:00&lt;00:00, 2.86kB/s]"
          }
        },
        "e109a8c7cee54e1aaa70788244a9a602": {
          "model_module": "@jupyter-widgets/base",
          "model_module_version": "1.2.0",
          "model_name": "LayoutModel",
          "state": {
            "_model_module": "@jupyter-widgets/base",
            "_model_module_version": "1.2.0",
            "_model_name": "LayoutModel",
            "_view_count": null,
            "_view_module": "@jupyter-widgets/base",
            "_view_module_version": "1.2.0",
            "_view_name": "LayoutView",
            "align_content": null,
            "align_items": null,
            "align_self": null,
            "border": null,
            "bottom": null,
            "display": null,
            "flex": null,
            "flex_flow": null,
            "grid_area": null,
            "grid_auto_columns": null,
            "grid_auto_flow": null,
            "grid_auto_rows": null,
            "grid_column": null,
            "grid_gap": null,
            "grid_row": null,
            "grid_template_areas": null,
            "grid_template_columns": null,
            "grid_template_rows": null,
            "height": null,
            "justify_content": null,
            "justify_items": null,
            "left": null,
            "margin": null,
            "max_height": null,
            "max_width": null,
            "min_height": null,
            "min_width": null,
            "object_fit": null,
            "object_position": null,
            "order": null,
            "overflow": null,
            "overflow_x": null,
            "overflow_y": null,
            "padding": null,
            "right": null,
            "top": null,
            "visibility": null,
            "width": null
          }
        },
        "e30edcdd8fc641af81224fb3d62e39a7": {
          "model_module": "@jupyter-widgets/controls",
          "model_module_version": "1.5.0",
          "model_name": "HBoxModel",
          "state": {
            "_dom_classes": [],
            "_model_module": "@jupyter-widgets/controls",
            "_model_module_version": "1.5.0",
            "_model_name": "HBoxModel",
            "_view_count": null,
            "_view_module": "@jupyter-widgets/controls",
            "_view_module_version": "1.5.0",
            "_view_name": "HBoxView",
            "box_style": "",
            "children": [
              "IPY_MODEL_eb5f0cd83021433ba2811fff5ec9c3a0",
              "IPY_MODEL_8523de6bf9c54171bd747694be976b2f",
              "IPY_MODEL_bf6a9bf5c746420586cc3035f996999e"
            ],
            "layout": "IPY_MODEL_7f74bd53f28e46ff9f1553e9e4526b4b"
          }
        },
        "e432ab46b9ba47358aab31e33bfc2bef": {
          "model_module": "@jupyter-widgets/base",
          "model_module_version": "1.2.0",
          "model_name": "LayoutModel",
          "state": {
            "_model_module": "@jupyter-widgets/base",
            "_model_module_version": "1.2.0",
            "_model_name": "LayoutModel",
            "_view_count": null,
            "_view_module": "@jupyter-widgets/base",
            "_view_module_version": "1.2.0",
            "_view_name": "LayoutView",
            "align_content": null,
            "align_items": null,
            "align_self": null,
            "border": null,
            "bottom": null,
            "display": null,
            "flex": null,
            "flex_flow": null,
            "grid_area": null,
            "grid_auto_columns": null,
            "grid_auto_flow": null,
            "grid_auto_rows": null,
            "grid_column": null,
            "grid_gap": null,
            "grid_row": null,
            "grid_template_areas": null,
            "grid_template_columns": null,
            "grid_template_rows": null,
            "height": null,
            "justify_content": null,
            "justify_items": null,
            "left": null,
            "margin": null,
            "max_height": null,
            "max_width": null,
            "min_height": null,
            "min_width": null,
            "object_fit": null,
            "object_position": null,
            "order": null,
            "overflow": null,
            "overflow_x": null,
            "overflow_y": null,
            "padding": null,
            "right": null,
            "top": null,
            "visibility": null,
            "width": null
          }
        },
        "e4c62df632a344b5882ae3678bfe4caf": {
          "model_module": "@jupyter-widgets/base",
          "model_module_version": "1.2.0",
          "model_name": "LayoutModel",
          "state": {
            "_model_module": "@jupyter-widgets/base",
            "_model_module_version": "1.2.0",
            "_model_name": "LayoutModel",
            "_view_count": null,
            "_view_module": "@jupyter-widgets/base",
            "_view_module_version": "1.2.0",
            "_view_name": "LayoutView",
            "align_content": null,
            "align_items": null,
            "align_self": null,
            "border": null,
            "bottom": null,
            "display": null,
            "flex": null,
            "flex_flow": null,
            "grid_area": null,
            "grid_auto_columns": null,
            "grid_auto_flow": null,
            "grid_auto_rows": null,
            "grid_column": null,
            "grid_gap": null,
            "grid_row": null,
            "grid_template_areas": null,
            "grid_template_columns": null,
            "grid_template_rows": null,
            "height": null,
            "justify_content": null,
            "justify_items": null,
            "left": null,
            "margin": null,
            "max_height": null,
            "max_width": null,
            "min_height": null,
            "min_width": null,
            "object_fit": null,
            "object_position": null,
            "order": null,
            "overflow": null,
            "overflow_x": null,
            "overflow_y": null,
            "padding": null,
            "right": null,
            "top": null,
            "visibility": null,
            "width": null
          }
        },
        "e521d7adcef34079a518a76cbdf1b3ad": {
          "model_module": "@jupyter-widgets/base",
          "model_module_version": "1.2.0",
          "model_name": "LayoutModel",
          "state": {
            "_model_module": "@jupyter-widgets/base",
            "_model_module_version": "1.2.0",
            "_model_name": "LayoutModel",
            "_view_count": null,
            "_view_module": "@jupyter-widgets/base",
            "_view_module_version": "1.2.0",
            "_view_name": "LayoutView",
            "align_content": null,
            "align_items": null,
            "align_self": null,
            "border": null,
            "bottom": null,
            "display": null,
            "flex": null,
            "flex_flow": null,
            "grid_area": null,
            "grid_auto_columns": null,
            "grid_auto_flow": null,
            "grid_auto_rows": null,
            "grid_column": null,
            "grid_gap": null,
            "grid_row": null,
            "grid_template_areas": null,
            "grid_template_columns": null,
            "grid_template_rows": null,
            "height": null,
            "justify_content": null,
            "justify_items": null,
            "left": null,
            "margin": null,
            "max_height": null,
            "max_width": null,
            "min_height": null,
            "min_width": null,
            "object_fit": null,
            "object_position": null,
            "order": null,
            "overflow": null,
            "overflow_x": null,
            "overflow_y": null,
            "padding": null,
            "right": null,
            "top": null,
            "visibility": null,
            "width": null
          }
        },
        "e6ddf18101394bbbb9022609dc2433c5": {
          "model_module": "@jupyter-widgets/controls",
          "model_module_version": "1.5.0",
          "model_name": "FloatProgressModel",
          "state": {
            "_dom_classes": [],
            "_model_module": "@jupyter-widgets/controls",
            "_model_module_version": "1.5.0",
            "_model_name": "FloatProgressModel",
            "_view_count": null,
            "_view_module": "@jupyter-widgets/controls",
            "_view_module_version": "1.5.0",
            "_view_name": "ProgressView",
            "bar_style": "success",
            "description": "",
            "description_tooltip": null,
            "layout": "IPY_MODEL_e109a8c7cee54e1aaa70788244a9a602",
            "max": 18,
            "min": 0,
            "orientation": "horizontal",
            "style": "IPY_MODEL_20590057959e44699bc747bf14fcba87",
            "value": 18
          }
        },
        "e87d8f2ee727489f9189ad429fcf9b84": {
          "model_module": "@jupyter-widgets/controls",
          "model_module_version": "1.5.0",
          "model_name": "DescriptionStyleModel",
          "state": {
            "_model_module": "@jupyter-widgets/controls",
            "_model_module_version": "1.5.0",
            "_model_name": "DescriptionStyleModel",
            "_view_count": null,
            "_view_module": "@jupyter-widgets/base",
            "_view_module_version": "1.2.0",
            "_view_name": "StyleView",
            "description_width": ""
          }
        },
        "e93718842ca3456c9e6f776c79962458": {
          "model_module": "@jupyter-widgets/controls",
          "model_module_version": "1.5.0",
          "model_name": "HBoxModel",
          "state": {
            "_dom_classes": [],
            "_model_module": "@jupyter-widgets/controls",
            "_model_module_version": "1.5.0",
            "_model_name": "HBoxModel",
            "_view_count": null,
            "_view_module": "@jupyter-widgets/controls",
            "_view_module_version": "1.5.0",
            "_view_name": "HBoxView",
            "box_style": "",
            "children": [
              "IPY_MODEL_0eb8e974985947738ba9d8b50e425efe",
              "IPY_MODEL_52ef676fcf7b4de0b6dba6990504a1a8",
              "IPY_MODEL_fe01347225384edfb5694ff1fdf05ee2"
            ],
            "layout": "IPY_MODEL_e432ab46b9ba47358aab31e33bfc2bef"
          }
        },
        "e9d0c5ca0f244df8a8dddeed8ee38782": {
          "model_module": "@jupyter-widgets/base",
          "model_module_version": "1.2.0",
          "model_name": "LayoutModel",
          "state": {
            "_model_module": "@jupyter-widgets/base",
            "_model_module_version": "1.2.0",
            "_model_name": "LayoutModel",
            "_view_count": null,
            "_view_module": "@jupyter-widgets/base",
            "_view_module_version": "1.2.0",
            "_view_name": "LayoutView",
            "align_content": null,
            "align_items": null,
            "align_self": null,
            "border": null,
            "bottom": null,
            "display": null,
            "flex": null,
            "flex_flow": null,
            "grid_area": null,
            "grid_auto_columns": null,
            "grid_auto_flow": null,
            "grid_auto_rows": null,
            "grid_column": null,
            "grid_gap": null,
            "grid_row": null,
            "grid_template_areas": null,
            "grid_template_columns": null,
            "grid_template_rows": null,
            "height": null,
            "justify_content": null,
            "justify_items": null,
            "left": null,
            "margin": null,
            "max_height": null,
            "max_width": null,
            "min_height": null,
            "min_width": null,
            "object_fit": null,
            "object_position": null,
            "order": null,
            "overflow": null,
            "overflow_x": null,
            "overflow_y": null,
            "padding": null,
            "right": null,
            "top": null,
            "visibility": null,
            "width": null
          }
        },
        "eb5f0cd83021433ba2811fff5ec9c3a0": {
          "model_module": "@jupyter-widgets/controls",
          "model_module_version": "1.5.0",
          "model_name": "HTMLModel",
          "state": {
            "_dom_classes": [],
            "_model_module": "@jupyter-widgets/controls",
            "_model_module_version": "1.5.0",
            "_model_name": "HTMLModel",
            "_view_count": null,
            "_view_module": "@jupyter-widgets/controls",
            "_view_module_version": "1.5.0",
            "_view_name": "HTMLView",
            "description": "",
            "description_tooltip": null,
            "layout": "IPY_MODEL_73e728610f124d3fa674efe076c8f5f3",
            "placeholder": "​",
            "style": "IPY_MODEL_47d5829dc7f842d69fcd18c11c873bc2",
            "value": "training set: 100%"
          }
        },
        "ee51beadff43430ebf715a59c151ffce": {
          "model_module": "@jupyter-widgets/base",
          "model_module_version": "1.2.0",
          "model_name": "LayoutModel",
          "state": {
            "_model_module": "@jupyter-widgets/base",
            "_model_module_version": "1.2.0",
            "_model_name": "LayoutModel",
            "_view_count": null,
            "_view_module": "@jupyter-widgets/base",
            "_view_module_version": "1.2.0",
            "_view_name": "LayoutView",
            "align_content": null,
            "align_items": null,
            "align_self": null,
            "border": null,
            "bottom": null,
            "display": null,
            "flex": null,
            "flex_flow": null,
            "grid_area": null,
            "grid_auto_columns": null,
            "grid_auto_flow": null,
            "grid_auto_rows": null,
            "grid_column": null,
            "grid_gap": null,
            "grid_row": null,
            "grid_template_areas": null,
            "grid_template_columns": null,
            "grid_template_rows": null,
            "height": null,
            "justify_content": null,
            "justify_items": null,
            "left": null,
            "margin": null,
            "max_height": null,
            "max_width": null,
            "min_height": null,
            "min_width": null,
            "object_fit": null,
            "object_position": null,
            "order": null,
            "overflow": null,
            "overflow_x": null,
            "overflow_y": null,
            "padding": null,
            "right": null,
            "top": null,
            "visibility": null,
            "width": null
          }
        },
        "f0a6b46f1d364f83a7c201b4d91e0d8c": {
          "model_module": "@jupyter-widgets/controls",
          "model_module_version": "1.5.0",
          "model_name": "DescriptionStyleModel",
          "state": {
            "_model_module": "@jupyter-widgets/controls",
            "_model_module_version": "1.5.0",
            "_model_name": "DescriptionStyleModel",
            "_view_count": null,
            "_view_module": "@jupyter-widgets/base",
            "_view_module_version": "1.2.0",
            "_view_name": "StyleView",
            "description_width": ""
          }
        },
        "fbf1121283c14a7a9b23dc9fce925ff2": {
          "model_module": "@jupyter-widgets/base",
          "model_module_version": "1.2.0",
          "model_name": "LayoutModel",
          "state": {
            "_model_module": "@jupyter-widgets/base",
            "_model_module_version": "1.2.0",
            "_model_name": "LayoutModel",
            "_view_count": null,
            "_view_module": "@jupyter-widgets/base",
            "_view_module_version": "1.2.0",
            "_view_name": "LayoutView",
            "align_content": null,
            "align_items": null,
            "align_self": null,
            "border": null,
            "bottom": null,
            "display": null,
            "flex": null,
            "flex_flow": null,
            "grid_area": null,
            "grid_auto_columns": null,
            "grid_auto_flow": null,
            "grid_auto_rows": null,
            "grid_column": null,
            "grid_gap": null,
            "grid_row": null,
            "grid_template_areas": null,
            "grid_template_columns": null,
            "grid_template_rows": null,
            "height": null,
            "justify_content": null,
            "justify_items": null,
            "left": null,
            "margin": null,
            "max_height": null,
            "max_width": null,
            "min_height": null,
            "min_width": null,
            "object_fit": null,
            "object_position": null,
            "order": null,
            "overflow": null,
            "overflow_x": null,
            "overflow_y": null,
            "padding": null,
            "right": null,
            "top": null,
            "visibility": null,
            "width": null
          }
        },
        "fc55f454c2764cd9a37ce3d83fa8bc3e": {
          "model_module": "@jupyter-widgets/base",
          "model_module_version": "1.2.0",
          "model_name": "LayoutModel",
          "state": {
            "_model_module": "@jupyter-widgets/base",
            "_model_module_version": "1.2.0",
            "_model_name": "LayoutModel",
            "_view_count": null,
            "_view_module": "@jupyter-widgets/base",
            "_view_module_version": "1.2.0",
            "_view_name": "LayoutView",
            "align_content": null,
            "align_items": null,
            "align_self": null,
            "border": null,
            "bottom": null,
            "display": null,
            "flex": null,
            "flex_flow": null,
            "grid_area": null,
            "grid_auto_columns": null,
            "grid_auto_flow": null,
            "grid_auto_rows": null,
            "grid_column": null,
            "grid_gap": null,
            "grid_row": null,
            "grid_template_areas": null,
            "grid_template_columns": null,
            "grid_template_rows": null,
            "height": null,
            "justify_content": null,
            "justify_items": null,
            "left": null,
            "margin": null,
            "max_height": null,
            "max_width": null,
            "min_height": null,
            "min_width": null,
            "object_fit": null,
            "object_position": null,
            "order": null,
            "overflow": null,
            "overflow_x": null,
            "overflow_y": null,
            "padding": null,
            "right": null,
            "top": null,
            "visibility": null,
            "width": null
          }
        },
        "fe01347225384edfb5694ff1fdf05ee2": {
          "model_module": "@jupyter-widgets/controls",
          "model_module_version": "1.5.0",
          "model_name": "HTMLModel",
          "state": {
            "_dom_classes": [],
            "_model_module": "@jupyter-widgets/controls",
            "_model_module_version": "1.5.0",
            "_model_name": "HTMLModel",
            "_view_count": null,
            "_view_module": "@jupyter-widgets/controls",
            "_view_module_version": "1.5.0",
            "_view_name": "HTMLView",
            "description": "",
            "description_tooltip": null,
            "layout": "IPY_MODEL_dad8c3b90c5842f383a8b17b5e33d067",
            "placeholder": "​",
            "style": "IPY_MODEL_e87d8f2ee727489f9189ad429fcf9b84",
            "value": " 243k/243k [00:00&lt;00:00, 10.9MB/s]"
          }
        },
        "ff31bdca16e8482d9e52bd46c5a28470": {
          "model_module": "@jupyter-widgets/base",
          "model_module_version": "1.2.0",
          "model_name": "LayoutModel",
          "state": {
            "_model_module": "@jupyter-widgets/base",
            "_model_module_version": "1.2.0",
            "_model_name": "LayoutModel",
            "_view_count": null,
            "_view_module": "@jupyter-widgets/base",
            "_view_module_version": "1.2.0",
            "_view_name": "LayoutView",
            "align_content": null,
            "align_items": null,
            "align_self": null,
            "border": null,
            "bottom": null,
            "display": null,
            "flex": null,
            "flex_flow": null,
            "grid_area": null,
            "grid_auto_columns": null,
            "grid_auto_flow": null,
            "grid_auto_rows": null,
            "grid_column": null,
            "grid_gap": null,
            "grid_row": null,
            "grid_template_areas": null,
            "grid_template_columns": null,
            "grid_template_rows": null,
            "height": null,
            "justify_content": null,
            "justify_items": null,
            "left": null,
            "margin": null,
            "max_height": null,
            "max_width": null,
            "min_height": null,
            "min_width": null,
            "object_fit": null,
            "object_position": null,
            "order": null,
            "overflow": null,
            "overflow_x": null,
            "overflow_y": null,
            "padding": null,
            "right": null,
            "top": null,
            "visibility": null,
            "width": null
          }
        }
      }
    }
  },
  "nbformat": 4,
  "nbformat_minor": 0
}
